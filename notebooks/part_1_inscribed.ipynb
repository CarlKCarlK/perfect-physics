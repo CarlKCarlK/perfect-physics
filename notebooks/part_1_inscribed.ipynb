{
    "cells": [
        {
            "cell_type": "code",
            "execution_count": 1,
            "metadata": {},
            "outputs": [
                {
                    "name": "stderr",
                    "output_type": "stream",
                    "text": [
                        "WARNING:py.warnings:D:\\OneDrive\\Projects\\Science\\perfect_physics\\perfect_physics\\_misc.py:64: UserWarning: Setting the 'color' property will override the edgecolor or facecolor properties.\n",
                        "  patches.Circle(\n",
                        "\n",
                    ],
                },
                {
                    "name": "stdout",
                    "output_type": "stream",
                    "text": [
                        "Multiple collisions: 2\n",
                        "Multiple collisions: 2\n",
                        "Multiple collisions: 2\n",
                        "Multiple collisions: 2\n",
                        "Multiple collisions: 2\n",
                        "Multiple collisions: 2\n",
                        "Multiple collisions: 2\n",
                        "Multiple collisions: 2\n",
                        "Multiple collisions: 2\n",
                        "Multiple collisions: 2\n",
                        "Multiple collisions: 2\n",
                        "Multiple collisions: 2\n",
                        "Multiple collisions: 2\n",
                        "Multiple collisions: 2\n",
                        "Multiple collisions: 2\n",
                        "Multiple collisions: 2\n",
                        "Multiple collisions: 2\n",
                        "Multiple collisions: 2\n",
                        "Multiple collisions: 2\n",
                        "Multiple collisions: 2\n",
                        "Multiple collisions: 2\n",
                        "Multiple collisions: 2\n",
                        "Moviepy - Building video m:\\deldir\\perfect_physics\\part6\\inscribed_2_1_3_15\\render\\inscribed_2_1_3_15.avi.\n",
                        "MoviePy - Writing audio in inscribed_2_1_3_15TEMP_MPY_wvf_snd.mp3\n",
                    ],
                },
                {
                    "name": "stderr",
                    "output_type": "stream",
                    "text": [
                        "                                                                   \r"
                    ],
                },
                {
                    "name": "stdout",
                    "output_type": "stream",
                    "text": [
                        "MoviePy - Done.\n",
                        "Moviepy - Writing video m:\\deldir\\perfect_physics\\part6\\inscribed_2_1_3_15\\render\\inscribed_2_1_3_15.avi\n",
                        "\n",
                    ],
                },
                {
                    "name": "stderr",
                    "output_type": "stream",
                    "text": [
                        "t: 100%|██████████| 546/546 [00:29<00:00, 16.99it/s, now=None]"
                    ],
                },
                {
                    "name": "stdout",
                    "output_type": "stream",
                    "text": [
                        "c:\\Users\\Carl\\miniconda3\\envs\\physics\\lib\\site-packages\\moviepy\\video\\io\\ffmpeg_reader.py:123: UserWarning: Warning: in file m:\\deldir\\perfect_physics\\part6\\inscribed_2_1_3_15\\render\\misc\\silent_video.avi, 6220800 bytes wanted but 0 bytes read,at frame 545/546, at time 22.71/22.71 sec. Using the last valid frame instead.\n",
                        '  warnings.warn("Warning: in file %s, "%(self.filename)+\n',
                        "\n",
                    ],
                },
                {
                    "name": "stderr",
                    "output_type": "stream",
                    "text": [
                        "                                                              \r"
                    ],
                },
                {
                    "name": "stdout",
                    "output_type": "stream",
                    "text": [
                        "Moviepy - Done !\n",
                        "Moviepy - video ready m:\\deldir\\perfect_physics\\part6\\inscribed_2_1_3_15\\render\\inscribed_2_1_3_15.avi\n",
                        "Moviepy - Building video m:\\deldir\\perfect_physics\\part6\\inscribed_2_1_3_15\\render_events\\inscribed_2_1_3_15.events.avi.\n",
                        "MoviePy - Writing audio in inscribed_2_1_3_15.eventsTEMP_MPY_wvf_snd.mp3\n",
                    ],
                },
                {
                    "name": "stderr",
                    "output_type": "stream",
                    "text": [
                        "                                                                    \r"
                    ],
                },
                {
                    "name": "stdout",
                    "output_type": "stream",
                    "text": [
                        "MoviePy - Done.\n",
                        "Moviepy - Writing video m:\\deldir\\perfect_physics\\part6\\inscribed_2_1_3_15\\render_events\\inscribed_2_1_3_15.events.avi\n",
                        "\n",
                    ],
                },
                {
                    "name": "stderr",
                    "output_type": "stream",
                    "text": [
                        "                                                              \r"
                    ],
                },
                {
                    "name": "stdout",
                    "output_type": "stream",
                    "text": [
                        "Moviepy - Done !\n",
                        "Moviepy - video ready m:\\deldir\\perfect_physics\\part6\\inscribed_2_1_3_15\\render_events\\inscribed_2_1_3_15.events.avi\n",
                    ],
                },
            ],
            "source": [
                "import logging\n",
                "import numpy as np\n",
                "from perfect_physics import World\n",
                "\n",
                "logger = logging.getLogger()\n",
                "logger.setLevel(logging.WARNING)\n",
                "\n",
                "circle_count = 2\n",
                "circle_of_circle_radius = 1\n",
                "wall_count = 3\n",
                "circle_of_wall_radius = 15\n",
                'folder = f"m:/deldir/perfect_physics/part6/inscribed_{circle_count}_{circle_of_circle_radius}_{wall_count}_{circle_of_wall_radius}"\n',
                "world = World.inscribed(\n",
                "    circle_of_circle_radius, circle_count, circle_of_wall_radius, wall_count\n",
                ")\n",
                "\n",
                "\n",
                "if False:\n",
                "    world.show()\n",
                "    # world.run_in_place(1, show=True)\n",
                "else:\n",
                "    world.run_to_file(folder, 75)\n",
                "    World.render(folder, speed_up=10)\n",
                "    World.render_events(folder, slice=np.s_[0:15])\n",
            ],
        },
        {
            "cell_type": "code",
            "execution_count": 2,
            "metadata": {},
            "outputs": [
                {
                    "name": "stdout",
                    "output_type": "stream",
                    "text": [
                        "Moviepy - Building video m:\\deldir\\perfect_physics\\part6\\inscribed_1_0_3_10\\render\\inscribed_1_0_3_10.avi.\n",
                        "MoviePy - Writing audio in inscribed_1_0_3_10TEMP_MPY_wvf_snd.mp3\n",
                    ],
                },
                {
                    "name": "stderr",
                    "output_type": "stream",
                    "text": [
                        "                                                                   \r"
                    ],
                },
                {
                    "name": "stdout",
                    "output_type": "stream",
                    "text": [
                        "MoviePy - Done.\n",
                        "Moviepy - Writing video m:\\deldir\\perfect_physics\\part6\\inscribed_1_0_3_10\\render\\inscribed_1_0_3_10.avi\n",
                        "\n",
                    ],
                },
                {
                    "name": "stderr",
                    "output_type": "stream",
                    "text": [
                        "t: 100%|█████████▉| 609/611 [00:34<00:00, 22.55it/s, now=None]"
                    ],
                },
                {
                    "name": "stdout",
                    "output_type": "stream",
                    "text": [
                        "c:\\Users\\Carl\\miniconda3\\envs\\physics\\lib\\site-packages\\moviepy\\video\\io\\ffmpeg_reader.py:123: UserWarning: Warning: in file m:\\deldir\\perfect_physics\\part6\\inscribed_1_0_3_10\\render\\misc\\silent_video.avi, 6220800 bytes wanted but 0 bytes read,at frame 610/611, at time 25.42/25.42 sec. Using the last valid frame instead.\n",
                        '  warnings.warn("Warning: in file %s, "%(self.filename)+\n',
                        "\n",
                    ],
                },
                {
                    "name": "stderr",
                    "output_type": "stream",
                    "text": [
                        "                                                              \r"
                    ],
                },
                {
                    "name": "stdout",
                    "output_type": "stream",
                    "text": [
                        "Moviepy - Done !\n",
                        "Moviepy - video ready m:\\deldir\\perfect_physics\\part6\\inscribed_1_0_3_10\\render\\inscribed_1_0_3_10.avi\n",
                        "Moviepy - Building video m:\\deldir\\perfect_physics\\part6\\inscribed_1_0_3_10\\render_events\\inscribed_1_0_3_10.events.avi.\n",
                        "MoviePy - Writing audio in inscribed_1_0_3_10.eventsTEMP_MPY_wvf_snd.mp3\n",
                    ],
                },
                {
                    "name": "stderr",
                    "output_type": "stream",
                    "text": [
                        "                                                                    \r"
                    ],
                },
                {
                    "name": "stdout",
                    "output_type": "stream",
                    "text": [
                        "MoviePy - Done.\n",
                        "Moviepy - Writing video m:\\deldir\\perfect_physics\\part6\\inscribed_1_0_3_10\\render_events\\inscribed_1_0_3_10.events.avi\n",
                        "\n",
                    ],
                },
                {
                    "name": "stderr",
                    "output_type": "stream",
                    "text": [
                        "                                                              \r"
                    ],
                },
                {
                    "name": "stdout",
                    "output_type": "stream",
                    "text": [
                        "Moviepy - Done !\n",
                        "Moviepy - video ready m:\\deldir\\perfect_physics\\part6\\inscribed_1_0_3_10\\render_events\\inscribed_1_0_3_10.events.avi\n",
                    ],
                },
            ],
            "source": [
                "import logging\n",
                "import numpy as np\n",
                "from perfect_physics import World\n",
                "\n",
                "logger = logging.getLogger()\n",
                "logger.setLevel(logging.WARNING)\n",
                "\n",
                "circle_count = 1\n",
                "circle_of_circle_radius = 0\n",
                "wall_count = 3\n",
                "circle_of_wall_radius = 10\n",
                'folder = f"m:/deldir/perfect_physics/part6/inscribed_{circle_count}_{circle_of_circle_radius}_{wall_count}_{circle_of_wall_radius}"\n',
                "world = World.inscribed(\n",
                "    circle_of_circle_radius, circle_count, circle_of_wall_radius, wall_count\n",
                ")\n",
                "\n",
                "\n",
                "if False:\n",
                "    world.show()\n",
                "    # world.run_in_place(5, show=True)\n",
                "else:\n",
                "    world.run_to_file(folder, 75)\n",
                "    World.render(folder, speed_up=10)\n",
                "    World.render_events(folder, slice=np.s_[0:15])\n",
            ],
        },
        {
            "cell_type": "code",
            "execution_count": null,
            "metadata": {},
            "outputs": [],
            "source": [],
        },
    ],
    "metadata": {
        "kernelspec": {
            "display_name": "Python 3.9.13 ('physics')",
            "language": "python",
            "name": "python3",
        },
        "language_info": {
            "codemirror_mode": {"name": "ipython", "version": 3},
            "file_extension": ".py",
            "mimetype": "text/x-python",
            "name": "python",
            "nbconvert_exporter": "python",
            "pygments_lexer": "ipython3",
            "version": "3.9.13",
        },
        "orig_nbformat": 4,
        "vscode": {
            "interpreter": {
                "hash": "de2c5f912e9a0618d7fb158eff1215fc01b4f796ca47df964c24240a61c494b2"
            }
        },
    },
    "nbformat": 4,
    "nbformat_minor": 2,
}
