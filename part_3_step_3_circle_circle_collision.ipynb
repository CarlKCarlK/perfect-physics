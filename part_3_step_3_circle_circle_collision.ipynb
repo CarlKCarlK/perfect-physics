{
 "cells": [
  {
   "cell_type": "code",
   "execution_count": 1,
   "metadata": {},
   "outputs": [
    {
     "data": {
      "text/latex": [
       "$\\displaystyle \\frac{a_{m} \\left(a_{vx}^{2} + a_{vy}^{2}\\right)}{2} + \\frac{b_{m} \\left(b_{vx}^{2} + b_{vy}^{2}\\right)}{2} = \\frac{a_{m} \\left(\\hat{a}_{vx}^{2} + \\hat{a}_{vy}^{2}\\right)}{2} + \\frac{b_{m} \\left(\\hat{b}_{vx}^{2} + \\hat{b}_{vy}^{2}\\right)}{2}$"
      ],
      "text/plain": [
       "Eq(a_m*(a_vx**2 + a_vy**2)/2 + b_m*(b_vx**2 + b_vy**2)/2, a_m*(ahat_vx**2 + ahat_vy**2)/2 + b_m*(bhat_vx**2 + bhat_vy**2)/2)"
      ]
     },
     "execution_count": 1,
     "metadata": {},
     "output_type": "execute_result"
    }
   ],
   "source": [
    "from sympy import symbols, Eq\n",
    "a_x, a_y, a_vx, a_vy, a_r, a_m, ahat_vx, ahat_vy = symbols(\"a_x, a_y, a_vx, a_vy, a_r, a_m, ahat_vx, ahat_vy\")\n",
    "b_x, b_y, b_vx, b_vy, b_r, b_m, bhat_vx, bhat_vy = symbols(\"b_x, b_y, b_vx, b_vy, b_r, b_m, bhat_vx, bhat_vy\")\n",
    "energy_before = a_m * (a_vx**2 + a_vy**2) / 2 + b_m * (b_vx**2 + b_vy**2) / 2\n",
    "energy_after = a_m * (ahat_vx**2 + ahat_vy**2) / 2 + b_m * (bhat_vx**2 + bhat_vy**2) / 2\n",
    "eq1 = Eq(energy_before, energy_after)\n",
    "\n",
    "eq1"
   ]
  },
  {
   "cell_type": "code",
   "execution_count": 2,
   "metadata": {},
   "outputs": [
    {
     "data": {
      "text/latex": [
       "$\\displaystyle a_{m} a_{vx} + b_{m} b_{vx} = a_{m} \\hat{a}_{vx} + b_{m} \\hat{b}_{vx}$"
      ],
      "text/plain": [
       "Eq(a_m*a_vx + b_m*b_vx, a_m*ahat_vx + b_m*bhat_vx)"
      ]
     },
     "execution_count": 2,
     "metadata": {},
     "output_type": "execute_result"
    }
   ],
   "source": [
    "eq2 = Eq(a_m * a_vx + b_m * b_vx, a_m * ahat_vx + b_m * bhat_vx)\n",
    "eq3 = Eq(a_m * a_vy + b_m * b_vy, a_m * ahat_vy + b_m * bhat_vy)\n",
    "eq2"
   ]
  },
  {
   "cell_type": "code",
   "execution_count": 4,
   "metadata": {},
   "outputs": [
    {
     "data": {
      "image/png": "[encoded data removed]",
      "text/plain": [
       "<Figure size 400x200 with 1 Axes>"
      ]
     },
     "metadata": {},
     "output_type": "display_data"
    }
   ],
   "source": [
    "from perfect_physics import Circle, plot\n",
    "a = Circle(x=0, y=0, r=1, vx=1, vy=2, m=1)\n",
    "b = Circle(x=2, y=0, r=1, vx=0, vy=0, m=1)\n",
    "plot([a, b], colors=[\"tab:red\", \"tab:blue\"], xlim=(-2, 4), ylim=(-2, 2), figsize=(4, 2), font_scale=1)\n",
    "\n",
    "pass  # avoid showing the plot twice\n"
   ]
  },
  {
   "cell_type": "code",
   "execution_count": 5,
   "metadata": {},
   "outputs": [
    {
     "data": {
      "image/png": "[encoded data removed]",
      "text/plain": [
       "<Figure size 400x200 with 1 Axes>"
      ]
     },
     "metadata": {},
     "output_type": "display_data"
    }
   ],
   "source": [
    "from sympy import sqrt\n",
    "from perfect_physics import Circle, plot\n",
    "a = Circle(x=0, y=0, r=1, vx=1, vy=0, m=1)\n",
    "b = Circle(x=sqrt(2), y=sqrt(2), r=1, vx=0, vy=0, m=1)\n",
    "plot([a, b], colors=[\"tab:red\", \"tab:blue\"], xlim=(-2, 4), ylim=(-2, 3), figsize=(4, 2), font_scale=1)\n",
    "\n",
    "pass  # avoid showing the plot twice\n"
   ]
  },
  {
   "cell_type": "code",
   "execution_count": 6,
   "metadata": {},
   "outputs": [
    {
     "data": {
      "text/latex": [
       "$\\displaystyle \\frac{\\left(- a_{vx} + b_{vx}\\right) \\left(a_{y} - b_{y}\\right)}{\\sqrt{\\left(- a_{x} + b_{x}\\right)^{2} + \\left(- a_{y} + b_{y}\\right)^{2}}} + \\frac{\\left(- a_{vy} + b_{vy}\\right) \\left(- a_{x} + b_{x}\\right)}{\\sqrt{\\left(- a_{x} + b_{x}\\right)^{2} + \\left(- a_{y} + b_{y}\\right)^{2}}} = \\frac{\\left(- a_{x} + b_{x}\\right) \\left(- \\hat{a}_{vy} + \\hat{b}_{vy}\\right)}{\\sqrt{\\left(- a_{x} + b_{x}\\right)^{2} + \\left(- a_{y} + b_{y}\\right)^{2}}} + \\frac{\\left(a_{y} - b_{y}\\right) \\left(- \\hat{a}_{vx} + \\hat{b}_{vx}\\right)}{\\sqrt{\\left(- a_{x} + b_{x}\\right)^{2} + \\left(- a_{y} + b_{y}\\right)^{2}}}$"
      ],
      "text/plain": [
       "Eq((-a_vx + b_vx)*(a_y - b_y)/sqrt((-a_x + b_x)**2 + (-a_y + b_y)**2) + (-a_vy + b_vy)*(-a_x + b_x)/sqrt((-a_x + b_x)**2 + (-a_y + b_y)**2), (-a_x + b_x)*(-ahat_vy + bhat_vy)/sqrt((-a_x + b_x)**2 + (-a_y + b_y)**2) + (a_y - b_y)*(-ahat_vx + bhat_vx)/sqrt((-a_x + b_x)**2 + (-a_y + b_y)**2))"
      ]
     },
     "execution_count": 6,
     "metadata": {},
     "output_type": "execute_result"
    }
   ],
   "source": [
    "from sympy import sqrt\n",
    "d = sqrt((b_x-a_x)**2 + (b_y-a_y)**2)\n",
    "ux = -(b_y-a_y)/d\n",
    "uy = (b_x-a_x)/d\n",
    "eq4 = Eq((b_vx - a_vx) * ux + (b_vy - a_vy) * uy, (bhat_vx-ahat_vx) * ux + (bhat_vy-ahat_vy) * uy)\n",
    "eq4"
   ]
  },
  {
   "cell_type": "code",
   "execution_count": 7,
   "metadata": {},
   "outputs": [
    {
     "data": {
      "text/latex": [
       "$\\displaystyle \\left( a_{vx}, \\  a_{vy}, \\  b_{vx}, \\  b_{vy}\\right)$"
      ],
      "text/plain": [
       "(a_vx, a_vy, b_vx, b_vy)"
      ]
     },
     "execution_count": 7,
     "metadata": {},
     "output_type": "execute_result"
    }
   ],
   "source": [
    "from sympy import nonlinsolve\n",
    "from perfect_physics import save\n",
    "cc_velocity_solutions = nonlinsolve([eq1, eq2, eq3, eq4], ahat_vx, ahat_vy, bhat_vx, bhat_vy)\n",
    "cc_velocity_solutions = list(cc_velocity_solutions)\n",
    "save(cc_velocity_solutions[1], \"cc_velocity_solution.sympy\")\n",
    "cc_velocity_solutions[0]"
   ]
  },
  {
   "cell_type": "code",
   "execution_count": 12,
   "metadata": {},
   "outputs": [
    {
     "data": {
      "text/latex": [
       "$\\displaystyle \\left( \\frac{a_{m} a_{vx} a_{x}^{2} - 2 a_{m} a_{vx} a_{x} b_{x} + a_{m} a_{vx} a_{y}^{2} - 2 a_{m} a_{vx} a_{y} b_{y} + a_{m} a_{vx} b_{x}^{2} + a_{m} a_{vx} b_{y}^{2} + a_{vx} a_{x}^{2} b_{m} - 2 a_{vx} a_{x} b_{m} b_{x} - a_{vx} a_{y}^{2} b_{m} + 2 a_{vx} a_{y} b_{m} b_{y} + a_{vx} b_{m} b_{x}^{2} - a_{vx} b_{m} b_{y}^{2} - 2 a_{vy} a_{x} a_{y} b_{m} + 2 a_{vy} a_{x} b_{m} b_{y} + 2 a_{vy} a_{y} b_{m} b_{x} - 2 a_{vy} b_{m} b_{x} b_{y} + 2 a_{x} a_{y} b_{m} b_{vy} - 2 a_{x} b_{m} b_{vy} b_{y} + 2 a_{y}^{2} b_{m} b_{vx} - 4 a_{y} b_{m} b_{vx} b_{y} - 2 a_{y} b_{m} b_{vy} b_{x} + 2 b_{m} b_{vx} b_{y}^{2} + 2 b_{m} b_{vy} b_{x} b_{y}}{\\left(a_{m} + b_{m}\\right) \\left(a_{x}^{2} - 2 a_{x} b_{x} + a_{y}^{2} - 2 a_{y} b_{y} + b_{x}^{2} + b_{y}^{2}\\right)}, \\  \\frac{a_{m} a_{vy} a_{x}^{2} - 2 a_{m} a_{vy} a_{x} b_{x} + a_{m} a_{vy} a_{y}^{2} - 2 a_{m} a_{vy} a_{y} b_{y} + a_{m} a_{vy} b_{x}^{2} + a_{m} a_{vy} b_{y}^{2} - 2 a_{vx} a_{x} a_{y} b_{m} + 2 a_{vx} a_{x} b_{m} b_{y} + 2 a_{vx} a_{y} b_{m} b_{x} - 2 a_{vx} b_{m} b_{x} b_{y} - a_{vy} a_{x}^{2} b_{m} + 2 a_{vy} a_{x} b_{m} b_{x} + a_{vy} a_{y}^{2} b_{m} - 2 a_{vy} a_{y} b_{m} b_{y} - a_{vy} b_{m} b_{x}^{2} + a_{vy} b_{m} b_{y}^{2} + 2 a_{x}^{2} b_{m} b_{vy} + 2 a_{x} a_{y} b_{m} b_{vx} - 2 a_{x} b_{m} b_{vx} b_{y} - 4 a_{x} b_{m} b_{vy} b_{x} - 2 a_{y} b_{m} b_{vx} b_{x} + 2 b_{m} b_{vx} b_{x} b_{y} + 2 b_{m} b_{vy} b_{x}^{2}}{\\left(a_{m} + b_{m}\\right) \\left(a_{x}^{2} - 2 a_{x} b_{x} + a_{y}^{2} - 2 a_{y} b_{y} + b_{x}^{2} + b_{y}^{2}\\right)}, \\  \\frac{2 a_{m} a_{vx} a_{y}^{2} - 4 a_{m} a_{vx} a_{y} b_{y} + 2 a_{m} a_{vx} b_{y}^{2} + 2 a_{m} a_{vy} a_{x} a_{y} - 2 a_{m} a_{vy} a_{x} b_{y} - 2 a_{m} a_{vy} a_{y} b_{x} + 2 a_{m} a_{vy} b_{x} b_{y} + a_{m} a_{x}^{2} b_{vx} - 2 a_{m} a_{x} a_{y} b_{vy} - 2 a_{m} a_{x} b_{vx} b_{x} + 2 a_{m} a_{x} b_{vy} b_{y} - a_{m} a_{y}^{2} b_{vx} + 2 a_{m} a_{y} b_{vx} b_{y} + 2 a_{m} a_{y} b_{vy} b_{x} + a_{m} b_{vx} b_{x}^{2} - a_{m} b_{vx} b_{y}^{2} - 2 a_{m} b_{vy} b_{x} b_{y} + a_{x}^{2} b_{m} b_{vx} - 2 a_{x} b_{m} b_{vx} b_{x} + a_{y}^{2} b_{m} b_{vx} - 2 a_{y} b_{m} b_{vx} b_{y} + b_{m} b_{vx} b_{x}^{2} + b_{m} b_{vx} b_{y}^{2}}{\\left(a_{m} + b_{m}\\right) \\left(a_{x}^{2} - 2 a_{x} b_{x} + a_{y}^{2} - 2 a_{y} b_{y} + b_{x}^{2} + b_{y}^{2}\\right)}, \\  \\frac{2 a_{m} a_{vx} a_{x} a_{y} - 2 a_{m} a_{vx} a_{x} b_{y} - 2 a_{m} a_{vx} a_{y} b_{x} + 2 a_{m} a_{vx} b_{x} b_{y} + 2 a_{m} a_{vy} a_{x}^{2} - 4 a_{m} a_{vy} a_{x} b_{x} + 2 a_{m} a_{vy} b_{x}^{2} - a_{m} a_{x}^{2} b_{vy} - 2 a_{m} a_{x} a_{y} b_{vx} + 2 a_{m} a_{x} b_{vx} b_{y} + 2 a_{m} a_{x} b_{vy} b_{x} + a_{m} a_{y}^{2} b_{vy} + 2 a_{m} a_{y} b_{vx} b_{x} - 2 a_{m} a_{y} b_{vy} b_{y} - 2 a_{m} b_{vx} b_{x} b_{y} - a_{m} b_{vy} b_{x}^{2} + a_{m} b_{vy} b_{y}^{2} + a_{x}^{2} b_{m} b_{vy} - 2 a_{x} b_{m} b_{vy} b_{x} + a_{y}^{2} b_{m} b_{vy} - 2 a_{y} b_{m} b_{vy} b_{y} + b_{m} b_{vy} b_{x}^{2} + b_{m} b_{vy} b_{y}^{2}}{a_{m} a_{x}^{2} - 2 a_{m} a_{x} b_{x} + a_{m} a_{y}^{2} - 2 a_{m} a_{y} b_{y} + a_{m} b_{x}^{2} + a_{m} b_{y}^{2} + a_{x}^{2} b_{m} - 2 a_{x} b_{m} b_{x} + a_{y}^{2} b_{m} - 2 a_{y} b_{m} b_{y} + b_{m} b_{x}^{2} + b_{m} b_{y}^{2}}\\right)$"
      ],
      "text/plain": [
       "((a_m*a_vx*a_x**2 - 2*a_m*a_vx*a_x*b_x + a_m*a_vx*a_y**2 - 2*a_m*a_vx*a_y*b_y + a_m*a_vx*b_x**2 + a_m*a_vx*b_y**2 + a_vx*a_x**2*b_m - 2*a_vx*a_x*b_m*b_x - a_vx*a_y**2*b_m + 2*a_vx*a_y*b_m*b_y + a_vx*b_m*b_x**2 - a_vx*b_m*b_y**2 - 2*a_vy*a_x*a_y*b_m + 2*a_vy*a_x*b_m*b_y + 2*a_vy*a_y*b_m*b_x - 2*a_vy*b_m*b_x*b_y + 2*a_x*a_y*b_m*b_vy - 2*a_x*b_m*b_vy*b_y + 2*a_y**2*b_m*b_vx - 4*a_y*b_m*b_vx*b_y - 2*a_y*b_m*b_vy*b_x + 2*b_m*b_vx*b_y**2 + 2*b_m*b_vy*b_x*b_y)/((a_m + b_m)*(a_x**2 - 2*a_x*b_x + a_y**2 - 2*a_y*b_y + b_x**2 + b_y**2)), (a_m*a_vy*a_x**2 - 2*a_m*a_vy*a_x*b_x + a_m*a_vy*a_y**2 - 2*a_m*a_vy*a_y*b_y + a_m*a_vy*b_x**2 + a_m*a_vy*b_y**2 - 2*a_vx*a_x*a_y*b_m + 2*a_vx*a_x*b_m*b_y + 2*a_vx*a_y*b_m*b_x - 2*a_vx*b_m*b_x*b_y - a_vy*a_x**2*b_m + 2*a_vy*a_x*b_m*b_x + a_vy*a_y**2*b_m - 2*a_vy*a_y*b_m*b_y - a_vy*b_m*b_x**2 + a_vy*b_m*b_y**2 + 2*a_x**2*b_m*b_vy + 2*a_x*a_y*b_m*b_vx - 2*a_x*b_m*b_vx*b_y - 4*a_x*b_m*b_vy*b_x - 2*a_y*b_m*b_vx*b_x + 2*b_m*b_vx*b_x*b_y + 2*b_m*b_vy*b_x**2)/((a_m + b_m)*(a_x**2 - 2*a_x*b_x + a_y**2 - 2*a_y*b_y + b_x**2 + b_y**2)), (2*a_m*a_vx*a_y**2 - 4*a_m*a_vx*a_y*b_y + 2*a_m*a_vx*b_y**2 + 2*a_m*a_vy*a_x*a_y - 2*a_m*a_vy*a_x*b_y - 2*a_m*a_vy*a_y*b_x + 2*a_m*a_vy*b_x*b_y + a_m*a_x**2*b_vx - 2*a_m*a_x*a_y*b_vy - 2*a_m*a_x*b_vx*b_x + 2*a_m*a_x*b_vy*b_y - a_m*a_y**2*b_vx + 2*a_m*a_y*b_vx*b_y + 2*a_m*a_y*b_vy*b_x + a_m*b_vx*b_x**2 - a_m*b_vx*b_y**2 - 2*a_m*b_vy*b_x*b_y + a_x**2*b_m*b_vx - 2*a_x*b_m*b_vx*b_x + a_y**2*b_m*b_vx - 2*a_y*b_m*b_vx*b_y + b_m*b_vx*b_x**2 + b_m*b_vx*b_y**2)/((a_m + b_m)*(a_x**2 - 2*a_x*b_x + a_y**2 - 2*a_y*b_y + b_x**2 + b_y**2)), (2*a_m*a_vx*a_x*a_y - 2*a_m*a_vx*a_x*b_y - 2*a_m*a_vx*a_y*b_x + 2*a_m*a_vx*b_x*b_y + 2*a_m*a_vy*a_x**2 - 4*a_m*a_vy*a_x*b_x + 2*a_m*a_vy*b_x**2 - a_m*a_x**2*b_vy - 2*a_m*a_x*a_y*b_vx + 2*a_m*a_x*b_vx*b_y + 2*a_m*a_x*b_vy*b_x + a_m*a_y**2*b_vy + 2*a_m*a_y*b_vx*b_x - 2*a_m*a_y*b_vy*b_y - 2*a_m*b_vx*b_x*b_y - a_m*b_vy*b_x**2 + a_m*b_vy*b_y**2 + a_x**2*b_m*b_vy - 2*a_x*b_m*b_vy*b_x + a_y**2*b_m*b_vy - 2*a_y*b_m*b_vy*b_y + b_m*b_vy*b_x**2 + b_m*b_vy*b_y**2)/(a_m*a_x**2 - 2*a_m*a_x*b_x + a_m*a_y**2 - 2*a_m*a_y*b_y + a_m*b_x**2 + a_m*b_y**2 + a_x**2*b_m - 2*a_x*b_m*b_x + a_y**2*b_m - 2*a_y*b_m*b_y + b_m*b_x**2 + b_m*b_y**2))"
      ]
     },
     "execution_count": 12,
     "metadata": {},
     "output_type": "execute_result"
    }
   ],
   "source": [
    "cc_velocity_solutions[1]"
   ]
  },
  {
   "cell_type": "code",
   "execution_count": 6,
   "metadata": {},
   "outputs": [
    {
     "data": {
      "text/latex": [
       "$\\displaystyle \\left( \\hat{a}_{vx}, \\  \\hat{a}_{vy}, \\  \\hat{b}_{vx}, \\  \\hat{b}_{vy}\\right) = \\left( a_{vx}, \\  a_{vy}, \\  b_{vx}, \\  b_{vy}\\right)$"
      ],
      "text/plain": [
       "Eq((ahat_vx, ahat_vy, bhat_vx, bhat_vy), (a_vx, a_vy, b_vx, b_vy))"
      ]
     },
     "execution_count": 6,
     "metadata": {},
     "output_type": "execute_result"
    }
   ],
   "source": [
    "from sympy import Tuple\n",
    "Eq(Tuple( ahat_vx, ahat_vy, bhat_vx, bhat_vy),cc_velocity_solutions[0])"
   ]
  },
  {
   "cell_type": "code",
   "execution_count": 8,
   "metadata": {},
   "outputs": [
    {
     "name": "stdout",
     "output_type": "stream",
     "text": [
      "a.vx=1, a.vy=2, b.vx=0, b.vy=0\n",
      "a.vx=0, a.vy=2, b.vx=1, b.vy=0\n"
     ]
    },
    {
     "data": {
      "image/png": "[encoded data removed]",
      "text/plain": [
       "<Figure size 400x200 with 1 Axes>"
      ]
     },
     "metadata": {},
     "output_type": "display_data"
    },
    {
     "data": {
      "image/png": "[encoded data removed]",
      "text/plain": [
       "<Figure size 400x200 with 1 Axes>"
      ]
     },
     "metadata": {},
     "output_type": "display_data"
    }
   ],
   "source": [
    "from perfect_physics import Circle, plot, load\n",
    "\n",
    "a = Circle(x=0, y=0, r=1, vx=1, vy=2, m=1)\n",
    "b = Circle(x=2, y=0, r=1, vx=0, vy=0, m=1)\n",
    "print(f\"{a.vx=}, {a.vy=}, {b.vx=}, {b.vy=}\")\n",
    "plot([a, b], clock=\"before\", colors=[\"tab:red\", \"tab:blue\"], xlim=(-2, 4), ylim=(-2, 2), figsize=(4, 2), font_scale=1)\n",
    "\n",
    "\n",
    "cc_velocity_solution = load(\"cc_velocity_solution.sympy\")\n",
    "a.vx, a.vy, b.vx, b.vy  = cc_velocity_solution.subs([(\"a_x\", a.x), (\"a_y\", a.y), (\"a_r\", a.r), (\"a_vx\", a.vx), (\"a_vy\", a.vy),(\"a_m\",a.m),\n",
    "                            (\"b_x\", b.x), (\"b_y\", b.y), (\"b_r\", b.r), (\"b_vx\", b.vx), (\"b_vy\", b.vy),(\"b_m\",b.m)])\n",
    "print(f\"{a.vx=}, {a.vy=}, {b.vx=}, {b.vy=}\")\n",
    "plot([a, b], clock=\"after\", colors=[\"tab:red\", \"tab:blue\"], xlim=(-2, 4), ylim=(-2, 2), figsize=(4, 2), font_scale=1)\n",
    "pass"
   ]
  },
  {
   "cell_type": "code",
   "execution_count": 9,
   "metadata": {},
   "outputs": [
    {
     "name": "stdout",
     "output_type": "stream",
     "text": [
      "a.vx=1, a.vy=0, b.vx=0, b.vy=0\n",
      "a.vx=1/2, a.vy=-1/2, b.vx=1/2, b.vy=1/2\n"
     ]
    },
    {
     "data": {
      "image/png": "[encoded data removed]",
      "text/plain": [
       "<Figure size 400x200 with 1 Axes>"
      ]
     },
     "metadata": {},
     "output_type": "display_data"
    },
    {
     "data": {
      "image/png": "[encoded data removed]",
      "text/plain": [
       "<Figure size 400x200 with 1 Axes>"
      ]
     },
     "metadata": {},
     "output_type": "display_data"
    }
   ],
   "source": [
    "from sympy import sqrt\n",
    "from perfect_physics import Circle, plot, load\n",
    "\n",
    "a = Circle(x=0, y=0, r=1, vx=1, vy=0, m=1)\n",
    "b = Circle(x=sqrt(2), y=sqrt(2), r=1, vx=0, vy=0, m=1)\n",
    "print(f\"{a.vx=}, {a.vy=}, {b.vx=}, {b.vy=}\")\n",
    "plot([a, b], clock=\"before\", colors=[\"tab:red\", \"tab:blue\"], xlim=(-2, 4), ylim=(-2, 3), figsize=(4, 2), font_scale=1)\n",
    "\n",
    "\n",
    "cc_velocity_solution = load(\"cc_velocity_solution.sympy\")\n",
    "a.vx, a.vy, b.vx, b.vy  = cc_velocity_solution.subs([(\"a_x\", a.x), (\"a_y\", a.y), (\"a_r\", a.r), (\"a_vx\", a.vx), (\"a_vy\", a.vy),(\"a_m\",a.m),\n",
    "                            (\"b_x\", b.x), (\"b_y\", b.y), (\"b_r\", b.r), (\"b_vx\", b.vx), (\"b_vy\", b.vy),(\"b_m\",b.m)])\n",
    "print(f\"{a.vx=}, {a.vy=}, {b.vx=}, {b.vy=}\")\n",
    "plot([a, b], clock=\"after\", colors=[\"tab:red\", \"tab:blue\"], xlim=(-2, 4), ylim=(-2, 3), figsize=(4, 2), font_scale=1)\n",
    "pass"
   ]
  },
  {
   "cell_type": "code",
   "execution_count": 5,
   "metadata": {},
   "outputs": [
    {
     "data": {
      "text/latex": [
       "$\\displaystyle \\left( \\frac{a_{m} a_{vx} a_{x}^{2} - 2 a_{m} a_{vx} a_{x} b_{x} + a_{m} a_{vx} a_{y}^{2} - 2 a_{m} a_{vx} a_{y} b_{y} + a_{m} a_{vx} b_{x}^{2} + a_{m} a_{vx} b_{y}^{2} - a_{vx} a_{x}^{2} b_{m} + 2 a_{vx} a_{x} b_{m} b_{x} + a_{vx} a_{y}^{2} b_{m} - 2 a_{vx} a_{y} b_{m} b_{y} - a_{vx} b_{m} b_{x}^{2} + a_{vx} b_{m} b_{y}^{2} - 2 a_{vy} a_{x} a_{y} b_{m} + 2 a_{vy} a_{x} b_{m} b_{y} + 2 a_{vy} a_{y} b_{m} b_{x} - 2 a_{vy} b_{m} b_{x} b_{y} + 2 a_{x}^{2} b_{m} b_{vx} + 2 a_{x} a_{y} b_{m} b_{vy} - 4 a_{x} b_{m} b_{vx} b_{x} - 2 a_{x} b_{m} b_{vy} b_{y} - 2 a_{y} b_{m} b_{vy} b_{x} + 2 b_{m} b_{vx} b_{x}^{2} + 2 b_{m} b_{vy} b_{x} b_{y}}{\\left(a_{m} + b_{m}\\right) \\left(a_{x}^{2} - 2 a_{x} b_{x} + a_{y}^{2} - 2 a_{y} b_{y} + b_{x}^{2} + b_{y}^{2}\\right)}, \\  \\frac{a_{m} a_{vy} a_{x}^{2} - 2 a_{m} a_{vy} a_{x} b_{x} + a_{m} a_{vy} a_{y}^{2} - 2 a_{m} a_{vy} a_{y} b_{y} + a_{m} a_{vy} b_{x}^{2} + a_{m} a_{vy} b_{y}^{2} - 2 a_{vx} a_{x} a_{y} b_{m} + 2 a_{vx} a_{x} b_{m} b_{y} + 2 a_{vx} a_{y} b_{m} b_{x} - 2 a_{vx} b_{m} b_{x} b_{y} + a_{vy} a_{x}^{2} b_{m} - 2 a_{vy} a_{x} b_{m} b_{x} - a_{vy} a_{y}^{2} b_{m} + 2 a_{vy} a_{y} b_{m} b_{y} + a_{vy} b_{m} b_{x}^{2} - a_{vy} b_{m} b_{y}^{2} + 2 a_{x} a_{y} b_{m} b_{vx} - 2 a_{x} b_{m} b_{vx} b_{y} + 2 a_{y}^{2} b_{m} b_{vy} - 2 a_{y} b_{m} b_{vx} b_{x} - 4 a_{y} b_{m} b_{vy} b_{y} + 2 b_{m} b_{vx} b_{x} b_{y} + 2 b_{m} b_{vy} b_{y}^{2}}{\\left(a_{m} + b_{m}\\right) \\left(a_{x}^{2} - 2 a_{x} b_{x} + a_{y}^{2} - 2 a_{y} b_{y} + b_{x}^{2} + b_{y}^{2}\\right)}, \\  \\frac{2 a_{m} a_{vx} a_{x}^{2} - 4 a_{m} a_{vx} a_{x} b_{x} + 2 a_{m} a_{vx} b_{x}^{2} + 2 a_{m} a_{vy} a_{x} a_{y} - 2 a_{m} a_{vy} a_{x} b_{y} - 2 a_{m} a_{vy} a_{y} b_{x} + 2 a_{m} a_{vy} b_{x} b_{y} - a_{m} a_{x}^{2} b_{vx} - 2 a_{m} a_{x} a_{y} b_{vy} + 2 a_{m} a_{x} b_{vx} b_{x} + 2 a_{m} a_{x} b_{vy} b_{y} + a_{m} a_{y}^{2} b_{vx} - 2 a_{m} a_{y} b_{vx} b_{y} + 2 a_{m} a_{y} b_{vy} b_{x} - a_{m} b_{vx} b_{x}^{2} + a_{m} b_{vx} b_{y}^{2} - 2 a_{m} b_{vy} b_{x} b_{y} + a_{x}^{2} b_{m} b_{vx} - 2 a_{x} b_{m} b_{vx} b_{x} + a_{y}^{2} b_{m} b_{vx} - 2 a_{y} b_{m} b_{vx} b_{y} + b_{m} b_{vx} b_{x}^{2} + b_{m} b_{vx} b_{y}^{2}}{\\left(a_{m} + b_{m}\\right) \\left(a_{x}^{2} - 2 a_{x} b_{x} + a_{y}^{2} - 2 a_{y} b_{y} + b_{x}^{2} + b_{y}^{2}\\right)}, \\  \\frac{2 a_{m} a_{vx} a_{x} a_{y} - 2 a_{m} a_{vx} a_{x} b_{y} - 2 a_{m} a_{vx} a_{y} b_{x} + 2 a_{m} a_{vx} b_{x} b_{y} + 2 a_{m} a_{vy} a_{y}^{2} - 4 a_{m} a_{vy} a_{y} b_{y} + 2 a_{m} a_{vy} b_{y}^{2} + a_{m} a_{x}^{2} b_{vy} - 2 a_{m} a_{x} a_{y} b_{vx} + 2 a_{m} a_{x} b_{vx} b_{y} - 2 a_{m} a_{x} b_{vy} b_{x} - a_{m} a_{y}^{2} b_{vy} + 2 a_{m} a_{y} b_{vx} b_{x} + 2 a_{m} a_{y} b_{vy} b_{y} - 2 a_{m} b_{vx} b_{x} b_{y} + a_{m} b_{vy} b_{x}^{2} - a_{m} b_{vy} b_{y}^{2} + a_{x}^{2} b_{m} b_{vy} - 2 a_{x} b_{m} b_{vy} b_{x} + a_{y}^{2} b_{m} b_{vy} - 2 a_{y} b_{m} b_{vy} b_{y} + b_{m} b_{vy} b_{x}^{2} + b_{m} b_{vy} b_{y}^{2}}{a_{m} a_{x}^{2} - 2 a_{m} a_{x} b_{x} + a_{m} a_{y}^{2} - 2 a_{m} a_{y} b_{y} + a_{m} b_{x}^{2} + a_{m} b_{y}^{2} + a_{x}^{2} b_{m} - 2 a_{x} b_{m} b_{x} + a_{y}^{2} b_{m} - 2 a_{y} b_{m} b_{y} + b_{m} b_{x}^{2} + b_{m} b_{y}^{2}}\\right)$"
      ],
      "text/plain": [
       "((a_m*a_vx*a_x**2 - 2*a_m*a_vx*a_x*b_x + a_m*a_vx*a_y**2 - 2*a_m*a_vx*a_y*b_y + a_m*a_vx*b_x**2 + a_m*a_vx*b_y**2 - a_vx*a_x**2*b_m + 2*a_vx*a_x*b_m*b_x + a_vx*a_y**2*b_m - 2*a_vx*a_y*b_m*b_y - a_vx*b_m*b_x**2 + a_vx*b_m*b_y**2 - 2*a_vy*a_x*a_y*b_m + 2*a_vy*a_x*b_m*b_y + 2*a_vy*a_y*b_m*b_x - 2*a_vy*b_m*b_x*b_y + 2*a_x**2*b_m*b_vx + 2*a_x*a_y*b_m*b_vy - 4*a_x*b_m*b_vx*b_x - 2*a_x*b_m*b_vy*b_y - 2*a_y*b_m*b_vy*b_x + 2*b_m*b_vx*b_x**2 + 2*b_m*b_vy*b_x*b_y)/((a_m + b_m)*(a_x**2 - 2*a_x*b_x + a_y**2 - 2*a_y*b_y + b_x**2 + b_y**2)), (a_m*a_vy*a_x**2 - 2*a_m*a_vy*a_x*b_x + a_m*a_vy*a_y**2 - 2*a_m*a_vy*a_y*b_y + a_m*a_vy*b_x**2 + a_m*a_vy*b_y**2 - 2*a_vx*a_x*a_y*b_m + 2*a_vx*a_x*b_m*b_y + 2*a_vx*a_y*b_m*b_x - 2*a_vx*b_m*b_x*b_y + a_vy*a_x**2*b_m - 2*a_vy*a_x*b_m*b_x - a_vy*a_y**2*b_m + 2*a_vy*a_y*b_m*b_y + a_vy*b_m*b_x**2 - a_vy*b_m*b_y**2 + 2*a_x*a_y*b_m*b_vx - 2*a_x*b_m*b_vx*b_y + 2*a_y**2*b_m*b_vy - 2*a_y*b_m*b_vx*b_x - 4*a_y*b_m*b_vy*b_y + 2*b_m*b_vx*b_x*b_y + 2*b_m*b_vy*b_y**2)/((a_m + b_m)*(a_x**2 - 2*a_x*b_x + a_y**2 - 2*a_y*b_y + b_x**2 + b_y**2)), (2*a_m*a_vx*a_x**2 - 4*a_m*a_vx*a_x*b_x + 2*a_m*a_vx*b_x**2 + 2*a_m*a_vy*a_x*a_y - 2*a_m*a_vy*a_x*b_y - 2*a_m*a_vy*a_y*b_x + 2*a_m*a_vy*b_x*b_y - a_m*a_x**2*b_vx - 2*a_m*a_x*a_y*b_vy + 2*a_m*a_x*b_vx*b_x + 2*a_m*a_x*b_vy*b_y + a_m*a_y**2*b_vx - 2*a_m*a_y*b_vx*b_y + 2*a_m*a_y*b_vy*b_x - a_m*b_vx*b_x**2 + a_m*b_vx*b_y**2 - 2*a_m*b_vy*b_x*b_y + a_x**2*b_m*b_vx - 2*a_x*b_m*b_vx*b_x + a_y**2*b_m*b_vx - 2*a_y*b_m*b_vx*b_y + b_m*b_vx*b_x**2 + b_m*b_vx*b_y**2)/((a_m + b_m)*(a_x**2 - 2*a_x*b_x + a_y**2 - 2*a_y*b_y + b_x**2 + b_y**2)), (2*a_m*a_vx*a_x*a_y - 2*a_m*a_vx*a_x*b_y - 2*a_m*a_vx*a_y*b_x + 2*a_m*a_vx*b_x*b_y + 2*a_m*a_vy*a_y**2 - 4*a_m*a_vy*a_y*b_y + 2*a_m*a_vy*b_y**2 + a_m*a_x**2*b_vy - 2*a_m*a_x*a_y*b_vx + 2*a_m*a_x*b_vx*b_y - 2*a_m*a_x*b_vy*b_x - a_m*a_y**2*b_vy + 2*a_m*a_y*b_vx*b_x + 2*a_m*a_y*b_vy*b_y - 2*a_m*b_vx*b_x*b_y + a_m*b_vy*b_x**2 - a_m*b_vy*b_y**2 + a_x**2*b_m*b_vy - 2*a_x*b_m*b_vy*b_x + a_y**2*b_m*b_vy - 2*a_y*b_m*b_vy*b_y + b_m*b_vy*b_x**2 + b_m*b_vy*b_y**2)/(a_m*a_x**2 - 2*a_m*a_x*b_x + a_m*a_y**2 - 2*a_m*a_y*b_y + a_m*b_x**2 + a_m*b_y**2 + a_x**2*b_m - 2*a_x*b_m*b_x + a_y**2*b_m - 2*a_y*b_m*b_y + b_m*b_x**2 + b_m*b_y**2))"
      ]
     },
     "execution_count": 5,
     "metadata": {},
     "output_type": "execute_result"
    }
   ],
   "source": [
    "cc_velocity_solution"
   ]
  },
  {
   "cell_type": "code",
   "execution_count": 11,
   "metadata": {},
   "outputs": [
    {
     "name": "stdout",
     "output_type": "stream",
     "text": [
      "a.vx=1, a.vy=-1, b.vx=0, b.vy=0\n",
      "a.vx=0, a.vy=0, b.vx=0, b.vy=nan\n"
     ]
    }
   ],
   "source": [
    "# cmk delete everything from here to end of notebook\n",
    "from sympy import sqrt, oo\n",
    "from perfectphysics import Circle, plot, load\n",
    "\n",
    "a = Circle(x=0, y=1, r=1, vx=1, vy=-1, m=1)\n",
    "b = Circle(x=0, y=-oo, r=20, vx=0, vy=0, m=oo)\n",
    "print(f\"{a.vx=}, {a.vy=}, {b.vx=}, {b.vy=}\")\n",
    "# plot(circle_list=[a,b], clock=\"before\", xlim=(-2, 4), ylim=(-1, 3), figsize=(5, 2))\n",
    "\n",
    "\n",
    "cc_velocity_solution = load(\"cc_velocity_solution.sympy\")\n",
    "a.vx, a.vy, b.vx, b.vy  = cc_velocity_solution.subs([(\"a_x\", a.x), (\"a_y\", a.y), (\"a_r\", a.r), (\"a_vx\", a.vx), (\"a_vy\", a.vy),(\"a_m\",a.m),\n",
    "                            (\"b_x\", b.x), (\"b_y\", b.y), (\"b_r\", b.r), (\"b_vx\", b.vx), (\"b_vy\", b.vy),(\"b_m\",b.m)])\n",
    "print(f\"{a.vx=}, {a.vy=}, {b.vx=}, {b.vy=}\")\n",
    "# plot(circle_list=[a,b], clock=\"after\", xlim=(-2, 4), ylim=(-1, 3), figsize=(5, 2))\n",
    "\n",
    "pass"
   ]
  },
  {
   "cell_type": "code",
   "execution_count": 9,
   "metadata": {},
   "outputs": [
    {
     "name": "stdout",
     "output_type": "stream",
     "text": [
      "a.vx=-1, a.vy=0, b.vx=1, b.vy=0\n",
      "a.vx=-997/1001, a.vy=0, b.vx=-2999/1001, b.vy=0\n"
     ]
    },
    {
     "data": {
      "image/png": "[encoded data removed]",
      "text/plain": [
       "<Figure size 400x200 with 1 Axes>"
      ]
     },
     "metadata": {},
     "output_type": "display_data"
    },
    {
     "data": {
      "image/png": "[encoded data removed]",
      "text/plain": [
       "<Figure size 400x200 with 1 Axes>"
      ]
     },
     "metadata": {},
     "output_type": "display_data"
    }
   ],
   "source": [
    "from sympy import sqrt\n",
    "from perfectphysics import Circle, plot, load\n",
    "\n",
    "a = Circle(x=10, y=0, r=10, vx=-1, vy=0, m=1000)\n",
    "b = Circle(x=-1, y=0, r=1, vx=1, vy=0, m=1)\n",
    "print(f\"{a.vx=}, {a.vy=}, {b.vx=}, {b.vy=}\")\n",
    "plot([a, b], clock=\"before\", colors=[\"tab:red\", \"tab:blue\"], xlim=(-5, 25), ylim=(-15, 15), figsize=(4, 2), font_scale=1)\n",
    "\n",
    "\n",
    "cc_velocity_solution = load(\"cc_velocity_solution.sympy\")\n",
    "a.vx, a.vy, b.vx, b.vy  = cc_velocity_solution.subs([(\"a_x\", a.x), (\"a_y\", a.y), (\"a_r\", a.r), (\"a_vx\", a.vx), (\"a_vy\", a.vy),(\"a_m\",a.m),\n",
    "                            (\"b_x\", b.x), (\"b_y\", b.y), (\"b_r\", b.r), (\"b_vx\", b.vx), (\"b_vy\", b.vy),(\"b_m\",b.m)])\n",
    "print(f\"{a.vx=}, {a.vy=}, {b.vx=}, {b.vy=}\")\n",
    "plot([a, b], clock=\"after\", colors=[\"tab:red\", \"tab:blue\"], xlim=(-5, 25), ylim=(-15, 15), figsize=(4, 2), font_scale=1)\n",
    "pass"
   ]
  },
  {
   "cell_type": "code",
   "execution_count": 29,
   "metadata": {},
   "outputs": [
    {
     "data": {
      "text/latex": [
       "$\\displaystyle -3$"
      ],
      "text/plain": [
       "-3"
      ]
     },
     "execution_count": 29,
     "metadata": {},
     "output_type": "execute_result"
    }
   ],
   "source": [
    "from sympy import simplify, limit, oo, symbols\n",
    "from perfectphysics import load\n",
    "cc_velocity_solution = load(\"cc_velocity_solution.sympy\")\n",
    "a_vx, a_vy, b_vx, b_vy  = cc_velocity_solution.subs([(\"a_x\", 10), (\"a_y\", 0), (\"a_r\", 10), (\"a_vx\", -1), (\"a_vy\", 0),\n",
    "                            (\"b_x\", -1), (\"b_y\", 0), (\"b_r\", 1), (\"b_vx\", 1), (\"b_vy\", 0), (\"b_m\", 1)])\n",
    "limit(b_vx, a_m, oo)\n",
    "# returns -3"
   ]
  },
  {
   "cell_type": "code",
   "execution_count": 5,
   "metadata": {},
   "outputs": [
    {
     "data": {
      "text/plain": [
       "([(x0, a_vx**2),\n",
       "  (x1, a_vy**2),\n",
       "  (x2, b_vx**2),\n",
       "  (x3, b_vy**2),\n",
       "  (x4, a_vx*b_vx),\n",
       "  (x5, 2*x4),\n",
       "  (x6, a_vy*b_vy),\n",
       "  (x7, 2*x6),\n",
       "  (x8, 1/(x0 + x1 + x2 + x3 - x5 - x7)),\n",
       "  (x9, a_vx*b_x),\n",
       "  (x10, a_vy*b_y),\n",
       "  (x11, a_x*b_vx),\n",
       "  (x12, a_y*b_vy),\n",
       "  (x13, a_vx*a_x),\n",
       "  (x14, a_vy*a_y),\n",
       "  (x15, b_vx*b_x),\n",
       "  (x16, b_vy*b_y),\n",
       "  (x17, a_r*b_r),\n",
       "  (x18, 4*x17),\n",
       "  (x19, 2*x13),\n",
       "  (x20, 2*x9),\n",
       "  (x21, a_y*b_y),\n",
       "  (x22, 2*x11),\n",
       "  (x23, a_x*b_x),\n",
       "  (x24, 2*x15),\n",
       "  (x25, a_r**2),\n",
       "  (x26, b_r**2),\n",
       "  (x27, 2*x0),\n",
       "  (x28, 2*x17),\n",
       "  (x29, a_y**2),\n",
       "  (x30, b_y**2),\n",
       "  (x31, a_x**2),\n",
       "  (x32, b_x**2),\n",
       "  (x33, 2*x23),\n",
       "  (x34,\n",
       "   sqrt(x0*x25 + x0*x26 - x0*x29 - x0*x30 + x1*x25 + x1*x26 + x1*x28 - x1*x31 - x1*x32 + x1*x33 - x10*x19 + x10*x20 + x10*x22 - x10*x24 - x12*x19 + x12*x20 + x12*x22 - x12*x24 + x14*x19 - x14*x20 - x14*x22 + x14*x24 + x16*x19 - x16*x20 - x16*x22 + x16*x24 + x17*x27 - x18*x4 - x18*x6 + 2*x2*x21 + x2*x25 + x2*x26 + x2*x28 - x2*x29 - x2*x30 + x21*x27 - 4*x21*x4 - 4*x23*x6 + x25*x3 - x25*x5 - x25*x7 + x26*x3 - x26*x5 - x26*x7 + x28*x3 + x29*x5 - x3*x31 - x3*x32 + x3*x33 + x30*x5 + x31*x7 + x32*x7))],\n",
       " [x8*(x10 + x11 + x12 - x13 - x14 - x15 - x16 + x34 + x9),\n",
       "  x8*(a_vx*b_x + a_vy*b_y + a_x*b_vx + a_y*b_vy - x13 - x14 - x15 - x16 - x34)])"
      ]
     },
     "execution_count": 5,
     "metadata": {},
     "output_type": "execute_result"
    }
   ],
   "source": [
    "from sympy import cse\n",
    "from perfectphysics import load\n",
    "cc_time_solutions = load(\"cc_time_solutions.sympy\")\n",
    "cse(cc_time_solutions)"
   ]
  },
  {
   "cell_type": "code",
   "execution_count": 14,
   "metadata": {},
   "outputs": [
    {
     "data": {
      "text/plain": [
       "array([[1, 0, 0, 0, 0, 0],\n",
       "       [0, 0, 0, 0, 0, 0],\n",
       "       [0, 0, 0, 0, 0, 0],\n",
       "       [0, 0, 0, 0, 0, 0],\n",
       "       [0, 0, 0, 0, 0, 0],\n",
       "       [0, 0, 0, 0, 0, 0]])"
      ]
     },
     "execution_count": 14,
     "metadata": {},
     "output_type": "execute_result"
    }
   ],
   "source": [
    "import numpy as np\n",
    "\n",
    "vx = np.array([1, 0, 0, 0, 0, 0])\n",
    "vy = np.array([0, 0, 0, 0, 0, 0])\n",
    "x0 = vx**2 # this covers x2\n",
    "x1 = vy**2 # this covers x3\n",
    "x4 = np.outer(vx, vx)\n",
    "x4\n"
   ]
  },
  {
   "cell_type": "code",
   "execution_count": 15,
   "metadata": {},
   "outputs": [
    {
     "data": {
      "text/plain": [
       "15.0"
      ]
     },
     "execution_count": 15,
     "metadata": {},
     "output_type": "execute_result"
    }
   ],
   "source": [
    "6*6/2 -3"
   ]
  },
  {
   "cell_type": "code",
   "execution_count": null,
   "metadata": {},
   "outputs": [],
   "source": []
  }
 ],
 "metadata": {
  "kernelspec": {
   "display_name": "Python 3.9.13 ('physics')",
   "language": "python",
   "name": "python3"
  },
  "language_info": {
   "codemirror_mode": {
    "name": "ipython",
    "version": 3
   },
   "file_extension": ".py",
   "mimetype": "text/x-python",
   "name": "python",
   "nbconvert_exporter": "python",
   "pygments_lexer": "ipython3",
   "version": "3.9.13"
  },
  "orig_nbformat": 4,
  "vscode": {
   "interpreter": {
    "hash": "de2c5f912e9a0618d7fb158eff1215fc01b4f796ca47df964c24240a61c494b2"
   }
  }
 },
 "nbformat": 4,
 "nbformat_minor": 2
}
