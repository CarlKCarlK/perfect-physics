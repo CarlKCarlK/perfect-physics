{
 "cells": [
  {
   "cell_type": "markdown",
   "metadata": {},
   "source": [
    "Extensions:\n",
    "\n",
    "3D - spheres with infinite planes. I'd have to brush up on my geometry of planes. Also, rendering a 3D scene\n",
    "is more involved, but I presume a package exists for that. In all these extensions, it would likely be wise to switch from separate x, y, (z) values to a single vector.\n",
    "\n",
    "other shapes\n",
    "finite length walls -- there are doable, but a pain. First, you check if your out of range over and over again. Second,\n",
    "  you need to handle collisions with a corner, which I think is indeterminate.\n",
    "squares, etc instead of just circles. A huge pain first for the same reason as finite walls. Second, you need to handle\n",
    "rotation, which brings us to:\n",
    "\n",
    "angular momentum\n",
    "\n",
    "\n",
    "particles - difficult because when two points are on top of each other, we can't compare their centers to see which way to go. This might be fixable by using limits, but much of the code would have to be rewritten.\n",
    "\n",
    "\n",
    "\n",
    "friction and inelastic collisions\n",
    "\n",
    "gravity (either down or mutually)\n",
    "\n",
    "more realistic collisions with springs (non-rigid bodies)\n",
    "\n"
   ]
  }
 ],
 "metadata": {
  "kernelspec": {
   "display_name": "Python 3.9.13 ('physics')",
   "language": "python",
   "name": "python3"
  },
  "language_info": {
   "name": "python",
   "version": "3.9.13"
  },
  "orig_nbformat": 4,
  "vscode": {
   "interpreter": {
    "hash": "de2c5f912e9a0618d7fb158eff1215fc01b4f796ca47df964c24240a61c494b2"
   }
  }
 },
 "nbformat": 4,
 "nbformat_minor": 2
}
