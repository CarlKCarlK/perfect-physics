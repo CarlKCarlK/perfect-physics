{
 "cells": [
  {
   "cell_type": "code",
   "execution_count": 1,
   "metadata": {},
   "outputs": [],
   "source": [
    "from pathlib import Path\n",
    "root = Path(\"c:/deldir/perfect_physics\")"
   ]
  },
  {
   "cell_type": "code",
   "execution_count": 2,
   "metadata": {},
   "outputs": [
    {
     "data": {
      "image/png": "[encoded data removed]",
      "text/plain": [
       "<Figure size 480x270 with 1 Axes>"
      ]
     },
     "metadata": {},
     "output_type": "display_data"
    }
   ],
   "source": [
    "from sympy import sqrt, Rational\n",
    "from perfect_physics import Circle, World\n",
    "\n",
    "cue = Circle(x=2 - sqrt(3), y=0, r=1, vx=1, vy=0, m=1)\n",
    "c0 = Circle(x=2, y=1, r=1, vx=0, vy=0, m=1)\n",
    "c1 = Circle(x=2, y=-1, r=1, vx=0, vy=0, m=1)\n",
    "world = World(circle_list=[cue, c0, c1],xlim=(-1,4), ylim=(-4,4))\n",
    "world.show()\n",
    "# world.run_in_place(1,show=True)\n",
    "# print(cue.x)\n",
    "\n",
    "pass"
   ]
  },
  {
   "cell_type": "code",
   "execution_count": 3,
   "metadata": {},
   "outputs": [
    {
     "name": "stdout",
     "output_type": "stream",
     "text": [
      "Multiple collisions: 2\n",
      "[(-1/8, -sqrt(3)/8), (3/4, sqrt(3)/4), (3/8, -sqrt(3)/8)]\n",
      "Multiple collisions: 2\n",
      "[(-1/8, sqrt(3)/8), (3/8, sqrt(3)/8), (3/4, -sqrt(3)/4)]\n"
     ]
    }
   ],
   "source": [
    "from copy import deepcopy\n",
    "solves = []\n",
    "for rng in range(2):\n",
    "    world1 = World(circle_list=deepcopy(world).circle_list, rng=rng)\n",
    "    world1.run_in_place(1,show=False)\n",
    "    #world1.show()\n",
    "    print([(c.vx, c.vy) for c in world1.circle_list])\n",
    "    solves.append(deepcopy(world1))\n",
    "pass"
   ]
  },
  {
   "cell_type": "code",
   "execution_count": 4,
   "metadata": {},
   "outputs": [
    {
     "data": {
      "text/latex": [
       "$\\displaystyle \\frac{a_{m} \\left(a_{vx}^{2} + a_{vy}^{2}\\right)}{2} + \\frac{b_{m} \\left(b_{vx}^{2} + b_{vy}^{2}\\right)}{2} + \\frac{c_{m} \\left(c_{vx}^{2} + c_{vy}^{2}\\right)}{2} = \\frac{a_{m} \\left(\\hat{a}_{vx}^{2} + \\hat{a}_{vy}^{2}\\right)}{2} + \\frac{b_{m} \\left(\\hat{b}_{vx}^{2} + \\hat{b}_{vy}^{2}\\right)}{2} + \\frac{c_{m} \\left(\\hat{c}_{vx}^{2} + \\hat{c}_{vy}^{2}\\right)}{2}$"
      ],
      "text/plain": [
       "Eq(a_m*(a_vx**2 + a_vy**2)/2 + b_m*(b_vx**2 + b_vy**2)/2 + c_m*(c_vx**2 + c_vy**2)/2, a_m*(ahat_vx**2 + ahat_vy**2)/2 + b_m*(bhat_vx**2 + bhat_vy**2)/2 + c_m*(chat_vx**2 + chat_vy**2)/2)"
      ]
     },
     "execution_count": 4,
     "metadata": {},
     "output_type": "execute_result"
    }
   ],
   "source": [
    "from sympy import symbols, Eq\n",
    "a_m, b_m, c_m, a_vx, b_vx, c_vx, ahat_vx, bhat_vx, chat_vx = symbols(\"a_m, b_m, c_m, a_vx, b_vx, c_vx, ahat_vx, bhat_vx, chat_vx\")\n",
    "a_vy, b_vy, c_vy, ahat_vy, bhat_vy, chat_vy = symbols(\"a_vy, b_vy, c_vy, ahat_vy, bhat_vy, chat_vy\")\n",
    "\n",
    "energy_before = a_m * (a_vx**2+a_vy**2) / 2 + b_m * (b_vx**2+b_vy**2) / 2 + c_m * (c_vx**2+c_vy**2) / 2\n",
    "energy_after = a_m * (ahat_vx**2+ahat_vy**2) / 2 + b_m * (bhat_vx**2+bhat_vy**2) / 2 + c_m * (chat_vx**2+chat_vy**2) / 2\n",
    "eq1 = Eq(energy_before, energy_after)\n",
    "eq1"
   ]
  },
  {
   "cell_type": "code",
   "execution_count": 6,
   "metadata": {},
   "outputs": [
    {
     "data": {
      "text/latex": [
       "$\\displaystyle a_{m} a_{vx} + b_{m} b_{vx} + c_{m} c_{vx} = a_{m} \\hat{a}_{vx} + b_{m} \\hat{b}_{vx} + c_{m} \\hat{c}_{vx}$"
      ],
      "text/plain": [
       "Eq(a_m*a_vx + b_m*b_vx + c_m*c_vx, a_m*ahat_vx + b_m*bhat_vx + c_m*chat_vx)"
      ]
     },
     "execution_count": 6,
     "metadata": {},
     "output_type": "execute_result"
    }
   ],
   "source": [
    "eq2 = Eq(a_m * a_vx + b_m * b_vx + c_m * c_vx, a_m * ahat_vx + b_m * bhat_vx + c_m * chat_vx)\n",
    "eq3 = Eq(a_m * a_vy + b_m * b_vy + c_m * c_vy, a_m * ahat_vy + b_m * bhat_vy + c_m * chat_vy)\n",
    "eq2"
   ]
  },
  {
   "cell_type": "code",
   "execution_count": 7,
   "metadata": {},
   "outputs": [
    {
     "data": {
      "text/latex": [
       "$\\displaystyle \\left\\{\\left( \\frac{a_{m} a_{vy} b_{m} - a_{m} \\hat{a}_{vy} b_{m} + b_{m}^{2} b_{vy} + b_{m} c_{m} c_{vy} - \\sqrt{b_{m} \\left(- a_{m}^{2} a_{vx}^{2} b_{m} - a_{m}^{2} a_{vx}^{2} c_{m} + 2 a_{m}^{2} a_{vx} \\hat{a}_{vx} b_{m} + 2 a_{m}^{2} a_{vx} \\hat{a}_{vx} c_{m} - a_{m}^{2} a_{vy}^{2} c_{m} + 2 a_{m}^{2} a_{vy} \\hat{a}_{vy} c_{m} - a_{m}^{2} \\hat{a}_{vx}^{2} b_{m} - a_{m}^{2} \\hat{a}_{vx}^{2} c_{m} - a_{m}^{2} \\hat{a}_{vy}^{2} c_{m} + a_{m} a_{vx}^{2} b_{m} c_{m} + a_{m} a_{vx}^{2} c_{m}^{2} - 2 a_{m} a_{vx} b_{m}^{2} b_{vx} + 2 a_{m} a_{vx} b_{m}^{2} \\hat{b}_{vx} - 2 a_{m} a_{vx} b_{m} b_{vx} c_{m} + 2 a_{m} a_{vx} b_{m} \\hat{b}_{vx} c_{m} - 2 a_{m} a_{vx} b_{m} c_{m} c_{vx} - 2 a_{m} a_{vx} c_{m}^{2} c_{vx} + a_{m} a_{vy}^{2} b_{m} c_{m} + a_{m} a_{vy}^{2} c_{m}^{2} - 2 a_{m} a_{vy} b_{m} b_{vy} c_{m} - 2 a_{m} a_{vy} c_{m}^{2} c_{vy} - a_{m} \\hat{a}_{vx}^{2} b_{m} c_{m} - a_{m} \\hat{a}_{vx}^{2} c_{m}^{2} + 2 a_{m} \\hat{a}_{vx} b_{m}^{2} b_{vx} - 2 a_{m} \\hat{a}_{vx} b_{m}^{2} \\hat{b}_{vx} + 2 a_{m} \\hat{a}_{vx} b_{m} b_{vx} c_{m} - 2 a_{m} \\hat{a}_{vx} b_{m} \\hat{b}_{vx} c_{m} + 2 a_{m} \\hat{a}_{vx} b_{m} c_{m} c_{vx} + 2 a_{m} \\hat{a}_{vx} c_{m}^{2} c_{vx} - a_{m} \\hat{a}_{vy}^{2} b_{m} c_{m} - a_{m} \\hat{a}_{vy}^{2} c_{m}^{2} + 2 a_{m} \\hat{a}_{vy} b_{m} b_{vy} c_{m} + 2 a_{m} \\hat{a}_{vy} c_{m}^{2} c_{vy} - b_{m}^{3} b_{vx}^{2} + 2 b_{m}^{3} b_{vx} \\hat{b}_{vx} - b_{m}^{3} \\hat{b}_{vx}^{2} + 2 b_{m}^{2} b_{vx} \\hat{b}_{vx} c_{m} - 2 b_{m}^{2} b_{vx} c_{m} c_{vx} - 2 b_{m}^{2} \\hat{b}_{vx}^{2} c_{m} + 2 b_{m}^{2} \\hat{b}_{vx} c_{m} c_{vx} + b_{m} b_{vx}^{2} c_{m}^{2} - 2 b_{m} b_{vx} c_{m}^{2} c_{vx} + b_{m} b_{vy}^{2} c_{m}^{2} - 2 b_{m} b_{vy} c_{m}^{2} c_{vy} - b_{m} \\hat{b}_{vx}^{2} c_{m}^{2} + 2 b_{m} \\hat{b}_{vx} c_{m}^{2} c_{vx} + b_{m} c_{m}^{2} c_{vy}^{2}\\right)}}{b_{m} \\left(b_{m} + c_{m}\\right)}, \\  \\frac{a_{m} a_{vx} - a_{m} \\hat{a}_{vx} + b_{m} b_{vx} - b_{m} \\hat{b}_{vx} + c_{m} c_{vx}}{c_{m}}, \\  \\frac{a_{m} a_{vy} - a_{m} \\hat{a}_{vy} + b_{m} b_{vy} + c_{m} c_{vy}}{b_{m} + c_{m}} + \\frac{\\sqrt{- b_{m} \\left(a_{m}^{2} a_{vx}^{2} b_{m} + a_{m}^{2} a_{vx}^{2} c_{m} - 2 a_{m}^{2} a_{vx} \\hat{a}_{vx} b_{m} - 2 a_{m}^{2} a_{vx} \\hat{a}_{vx} c_{m} + a_{m}^{2} a_{vy}^{2} c_{m} - 2 a_{m}^{2} a_{vy} \\hat{a}_{vy} c_{m} + a_{m}^{2} \\hat{a}_{vx}^{2} b_{m} + a_{m}^{2} \\hat{a}_{vx}^{2} c_{m} + a_{m}^{2} \\hat{a}_{vy}^{2} c_{m} - a_{m} a_{vx}^{2} b_{m} c_{m} - a_{m} a_{vx}^{2} c_{m}^{2} + 2 a_{m} a_{vx} b_{m}^{2} b_{vx} - 2 a_{m} a_{vx} b_{m}^{2} \\hat{b}_{vx} + 2 a_{m} a_{vx} b_{m} b_{vx} c_{m} - 2 a_{m} a_{vx} b_{m} \\hat{b}_{vx} c_{m} + 2 a_{m} a_{vx} b_{m} c_{m} c_{vx} + 2 a_{m} a_{vx} c_{m}^{2} c_{vx} - a_{m} a_{vy}^{2} b_{m} c_{m} - a_{m} a_{vy}^{2} c_{m}^{2} + 2 a_{m} a_{vy} b_{m} b_{vy} c_{m} + 2 a_{m} a_{vy} c_{m}^{2} c_{vy} + a_{m} \\hat{a}_{vx}^{2} b_{m} c_{m} + a_{m} \\hat{a}_{vx}^{2} c_{m}^{2} - 2 a_{m} \\hat{a}_{vx} b_{m}^{2} b_{vx} + 2 a_{m} \\hat{a}_{vx} b_{m}^{2} \\hat{b}_{vx} - 2 a_{m} \\hat{a}_{vx} b_{m} b_{vx} c_{m} + 2 a_{m} \\hat{a}_{vx} b_{m} \\hat{b}_{vx} c_{m} - 2 a_{m} \\hat{a}_{vx} b_{m} c_{m} c_{vx} - 2 a_{m} \\hat{a}_{vx} c_{m}^{2} c_{vx} + a_{m} \\hat{a}_{vy}^{2} b_{m} c_{m} + a_{m} \\hat{a}_{vy}^{2} c_{m}^{2} - 2 a_{m} \\hat{a}_{vy} b_{m} b_{vy} c_{m} - 2 a_{m} \\hat{a}_{vy} c_{m}^{2} c_{vy} + b_{m}^{3} b_{vx}^{2} - 2 b_{m}^{3} b_{vx} \\hat{b}_{vx} + b_{m}^{3} \\hat{b}_{vx}^{2} - 2 b_{m}^{2} b_{vx} \\hat{b}_{vx} c_{m} + 2 b_{m}^{2} b_{vx} c_{m} c_{vx} + 2 b_{m}^{2} \\hat{b}_{vx}^{2} c_{m} - 2 b_{m}^{2} \\hat{b}_{vx} c_{m} c_{vx} - b_{m} b_{vx}^{2} c_{m}^{2} + 2 b_{m} b_{vx} c_{m}^{2} c_{vx} - b_{m} b_{vy}^{2} c_{m}^{2} + 2 b_{m} b_{vy} c_{m}^{2} c_{vy} + b_{m} \\hat{b}_{vx}^{2} c_{m}^{2} - 2 b_{m} \\hat{b}_{vx} c_{m}^{2} c_{vx} - b_{m} c_{m}^{2} c_{vy}^{2}\\right)}}{c_{m} \\left(b_{m} + c_{m}\\right)}\\right), \\left( \\frac{a_{m} a_{vy} b_{m} - a_{m} \\hat{a}_{vy} b_{m} + b_{m}^{2} b_{vy} + b_{m} c_{m} c_{vy} + \\sqrt{b_{m} \\left(- a_{m}^{2} a_{vx}^{2} b_{m} - a_{m}^{2} a_{vx}^{2} c_{m} + 2 a_{m}^{2} a_{vx} \\hat{a}_{vx} b_{m} + 2 a_{m}^{2} a_{vx} \\hat{a}_{vx} c_{m} - a_{m}^{2} a_{vy}^{2} c_{m} + 2 a_{m}^{2} a_{vy} \\hat{a}_{vy} c_{m} - a_{m}^{2} \\hat{a}_{vx}^{2} b_{m} - a_{m}^{2} \\hat{a}_{vx}^{2} c_{m} - a_{m}^{2} \\hat{a}_{vy}^{2} c_{m} + a_{m} a_{vx}^{2} b_{m} c_{m} + a_{m} a_{vx}^{2} c_{m}^{2} - 2 a_{m} a_{vx} b_{m}^{2} b_{vx} + 2 a_{m} a_{vx} b_{m}^{2} \\hat{b}_{vx} - 2 a_{m} a_{vx} b_{m} b_{vx} c_{m} + 2 a_{m} a_{vx} b_{m} \\hat{b}_{vx} c_{m} - 2 a_{m} a_{vx} b_{m} c_{m} c_{vx} - 2 a_{m} a_{vx} c_{m}^{2} c_{vx} + a_{m} a_{vy}^{2} b_{m} c_{m} + a_{m} a_{vy}^{2} c_{m}^{2} - 2 a_{m} a_{vy} b_{m} b_{vy} c_{m} - 2 a_{m} a_{vy} c_{m}^{2} c_{vy} - a_{m} \\hat{a}_{vx}^{2} b_{m} c_{m} - a_{m} \\hat{a}_{vx}^{2} c_{m}^{2} + 2 a_{m} \\hat{a}_{vx} b_{m}^{2} b_{vx} - 2 a_{m} \\hat{a}_{vx} b_{m}^{2} \\hat{b}_{vx} + 2 a_{m} \\hat{a}_{vx} b_{m} b_{vx} c_{m} - 2 a_{m} \\hat{a}_{vx} b_{m} \\hat{b}_{vx} c_{m} + 2 a_{m} \\hat{a}_{vx} b_{m} c_{m} c_{vx} + 2 a_{m} \\hat{a}_{vx} c_{m}^{2} c_{vx} - a_{m} \\hat{a}_{vy}^{2} b_{m} c_{m} - a_{m} \\hat{a}_{vy}^{2} c_{m}^{2} + 2 a_{m} \\hat{a}_{vy} b_{m} b_{vy} c_{m} + 2 a_{m} \\hat{a}_{vy} c_{m}^{2} c_{vy} - b_{m}^{3} b_{vx}^{2} + 2 b_{m}^{3} b_{vx} \\hat{b}_{vx} - b_{m}^{3} \\hat{b}_{vx}^{2} + 2 b_{m}^{2} b_{vx} \\hat{b}_{vx} c_{m} - 2 b_{m}^{2} b_{vx} c_{m} c_{vx} - 2 b_{m}^{2} \\hat{b}_{vx}^{2} c_{m} + 2 b_{m}^{2} \\hat{b}_{vx} c_{m} c_{vx} + b_{m} b_{vx}^{2} c_{m}^{2} - 2 b_{m} b_{vx} c_{m}^{2} c_{vx} + b_{m} b_{vy}^{2} c_{m}^{2} - 2 b_{m} b_{vy} c_{m}^{2} c_{vy} - b_{m} \\hat{b}_{vx}^{2} c_{m}^{2} + 2 b_{m} \\hat{b}_{vx} c_{m}^{2} c_{vx} + b_{m} c_{m}^{2} c_{vy}^{2}\\right)}}{b_{m} \\left(b_{m} + c_{m}\\right)}, \\  \\frac{a_{m} a_{vx} - a_{m} \\hat{a}_{vx} + b_{m} b_{vx} - b_{m} \\hat{b}_{vx} + c_{m} c_{vx}}{c_{m}}, \\  \\frac{a_{m} a_{vy} - a_{m} \\hat{a}_{vy} + b_{m} b_{vy} + c_{m} c_{vy}}{b_{m} + c_{m}} - \\frac{\\sqrt{- b_{m} \\left(a_{m}^{2} a_{vx}^{2} b_{m} + a_{m}^{2} a_{vx}^{2} c_{m} - 2 a_{m}^{2} a_{vx} \\hat{a}_{vx} b_{m} - 2 a_{m}^{2} a_{vx} \\hat{a}_{vx} c_{m} + a_{m}^{2} a_{vy}^{2} c_{m} - 2 a_{m}^{2} a_{vy} \\hat{a}_{vy} c_{m} + a_{m}^{2} \\hat{a}_{vx}^{2} b_{m} + a_{m}^{2} \\hat{a}_{vx}^{2} c_{m} + a_{m}^{2} \\hat{a}_{vy}^{2} c_{m} - a_{m} a_{vx}^{2} b_{m} c_{m} - a_{m} a_{vx}^{2} c_{m}^{2} + 2 a_{m} a_{vx} b_{m}^{2} b_{vx} - 2 a_{m} a_{vx} b_{m}^{2} \\hat{b}_{vx} + 2 a_{m} a_{vx} b_{m} b_{vx} c_{m} - 2 a_{m} a_{vx} b_{m} \\hat{b}_{vx} c_{m} + 2 a_{m} a_{vx} b_{m} c_{m} c_{vx} + 2 a_{m} a_{vx} c_{m}^{2} c_{vx} - a_{m} a_{vy}^{2} b_{m} c_{m} - a_{m} a_{vy}^{2} c_{m}^{2} + 2 a_{m} a_{vy} b_{m} b_{vy} c_{m} + 2 a_{m} a_{vy} c_{m}^{2} c_{vy} + a_{m} \\hat{a}_{vx}^{2} b_{m} c_{m} + a_{m} \\hat{a}_{vx}^{2} c_{m}^{2} - 2 a_{m} \\hat{a}_{vx} b_{m}^{2} b_{vx} + 2 a_{m} \\hat{a}_{vx} b_{m}^{2} \\hat{b}_{vx} - 2 a_{m} \\hat{a}_{vx} b_{m} b_{vx} c_{m} + 2 a_{m} \\hat{a}_{vx} b_{m} \\hat{b}_{vx} c_{m} - 2 a_{m} \\hat{a}_{vx} b_{m} c_{m} c_{vx} - 2 a_{m} \\hat{a}_{vx} c_{m}^{2} c_{vx} + a_{m} \\hat{a}_{vy}^{2} b_{m} c_{m} + a_{m} \\hat{a}_{vy}^{2} c_{m}^{2} - 2 a_{m} \\hat{a}_{vy} b_{m} b_{vy} c_{m} - 2 a_{m} \\hat{a}_{vy} c_{m}^{2} c_{vy} + b_{m}^{3} b_{vx}^{2} - 2 b_{m}^{3} b_{vx} \\hat{b}_{vx} + b_{m}^{3} \\hat{b}_{vx}^{2} - 2 b_{m}^{2} b_{vx} \\hat{b}_{vx} c_{m} + 2 b_{m}^{2} b_{vx} c_{m} c_{vx} + 2 b_{m}^{2} \\hat{b}_{vx}^{2} c_{m} - 2 b_{m}^{2} \\hat{b}_{vx} c_{m} c_{vx} - b_{m} b_{vx}^{2} c_{m}^{2} + 2 b_{m} b_{vx} c_{m}^{2} c_{vx} - b_{m} b_{vy}^{2} c_{m}^{2} + 2 b_{m} b_{vy} c_{m}^{2} c_{vy} + b_{m} \\hat{b}_{vx}^{2} c_{m}^{2} - 2 b_{m} \\hat{b}_{vx} c_{m}^{2} c_{vx} - b_{m} c_{m}^{2} c_{vy}^{2}\\right)}}{c_{m} \\left(b_{m} + c_{m}\\right)}\\right)\\right\\}$"
      ],
      "text/plain": [
       "{((a_m*a_vy*b_m - a_m*ahat_vy*b_m + b_m**2*b_vy + b_m*c_m*c_vy - sqrt(b_m*(-a_m**2*a_vx**2*b_m - a_m**2*a_vx**2*c_m + 2*a_m**2*a_vx*ahat_vx*b_m + 2*a_m**2*a_vx*ahat_vx*c_m - a_m**2*a_vy**2*c_m + 2*a_m**2*a_vy*ahat_vy*c_m - a_m**2*ahat_vx**2*b_m - a_m**2*ahat_vx**2*c_m - a_m**2*ahat_vy**2*c_m + a_m*a_vx**2*b_m*c_m + a_m*a_vx**2*c_m**2 - 2*a_m*a_vx*b_m**2*b_vx + 2*a_m*a_vx*b_m**2*bhat_vx - 2*a_m*a_vx*b_m*b_vx*c_m + 2*a_m*a_vx*b_m*bhat_vx*c_m - 2*a_m*a_vx*b_m*c_m*c_vx - 2*a_m*a_vx*c_m**2*c_vx + a_m*a_vy**2*b_m*c_m + a_m*a_vy**2*c_m**2 - 2*a_m*a_vy*b_m*b_vy*c_m - 2*a_m*a_vy*c_m**2*c_vy - a_m*ahat_vx**2*b_m*c_m - a_m*ahat_vx**2*c_m**2 + 2*a_m*ahat_vx*b_m**2*b_vx - 2*a_m*ahat_vx*b_m**2*bhat_vx + 2*a_m*ahat_vx*b_m*b_vx*c_m - 2*a_m*ahat_vx*b_m*bhat_vx*c_m + 2*a_m*ahat_vx*b_m*c_m*c_vx + 2*a_m*ahat_vx*c_m**2*c_vx - a_m*ahat_vy**2*b_m*c_m - a_m*ahat_vy**2*c_m**2 + 2*a_m*ahat_vy*b_m*b_vy*c_m + 2*a_m*ahat_vy*c_m**2*c_vy - b_m**3*b_vx**2 + 2*b_m**3*b_vx*bhat_vx - b_m**3*bhat_vx**2 + 2*b_m**2*b_vx*bhat_vx*c_m - 2*b_m**2*b_vx*c_m*c_vx - 2*b_m**2*bhat_vx**2*c_m + 2*b_m**2*bhat_vx*c_m*c_vx + b_m*b_vx**2*c_m**2 - 2*b_m*b_vx*c_m**2*c_vx + b_m*b_vy**2*c_m**2 - 2*b_m*b_vy*c_m**2*c_vy - b_m*bhat_vx**2*c_m**2 + 2*b_m*bhat_vx*c_m**2*c_vx + b_m*c_m**2*c_vy**2)))/(b_m*(b_m + c_m)), (a_m*a_vx - a_m*ahat_vx + b_m*b_vx - b_m*bhat_vx + c_m*c_vx)/c_m, (a_m*a_vy - a_m*ahat_vy + b_m*b_vy + c_m*c_vy)/(b_m + c_m) + sqrt(-b_m*(a_m**2*a_vx**2*b_m + a_m**2*a_vx**2*c_m - 2*a_m**2*a_vx*ahat_vx*b_m - 2*a_m**2*a_vx*ahat_vx*c_m + a_m**2*a_vy**2*c_m - 2*a_m**2*a_vy*ahat_vy*c_m + a_m**2*ahat_vx**2*b_m + a_m**2*ahat_vx**2*c_m + a_m**2*ahat_vy**2*c_m - a_m*a_vx**2*b_m*c_m - a_m*a_vx**2*c_m**2 + 2*a_m*a_vx*b_m**2*b_vx - 2*a_m*a_vx*b_m**2*bhat_vx + 2*a_m*a_vx*b_m*b_vx*c_m - 2*a_m*a_vx*b_m*bhat_vx*c_m + 2*a_m*a_vx*b_m*c_m*c_vx + 2*a_m*a_vx*c_m**2*c_vx - a_m*a_vy**2*b_m*c_m - a_m*a_vy**2*c_m**2 + 2*a_m*a_vy*b_m*b_vy*c_m + 2*a_m*a_vy*c_m**2*c_vy + a_m*ahat_vx**2*b_m*c_m + a_m*ahat_vx**2*c_m**2 - 2*a_m*ahat_vx*b_m**2*b_vx + 2*a_m*ahat_vx*b_m**2*bhat_vx - 2*a_m*ahat_vx*b_m*b_vx*c_m + 2*a_m*ahat_vx*b_m*bhat_vx*c_m - 2*a_m*ahat_vx*b_m*c_m*c_vx - 2*a_m*ahat_vx*c_m**2*c_vx + a_m*ahat_vy**2*b_m*c_m + a_m*ahat_vy**2*c_m**2 - 2*a_m*ahat_vy*b_m*b_vy*c_m - 2*a_m*ahat_vy*c_m**2*c_vy + b_m**3*b_vx**2 - 2*b_m**3*b_vx*bhat_vx + b_m**3*bhat_vx**2 - 2*b_m**2*b_vx*bhat_vx*c_m + 2*b_m**2*b_vx*c_m*c_vx + 2*b_m**2*bhat_vx**2*c_m - 2*b_m**2*bhat_vx*c_m*c_vx - b_m*b_vx**2*c_m**2 + 2*b_m*b_vx*c_m**2*c_vx - b_m*b_vy**2*c_m**2 + 2*b_m*b_vy*c_m**2*c_vy + b_m*bhat_vx**2*c_m**2 - 2*b_m*bhat_vx*c_m**2*c_vx - b_m*c_m**2*c_vy**2))/(c_m*(b_m + c_m))), ((a_m*a_vy*b_m - a_m*ahat_vy*b_m + b_m**2*b_vy + b_m*c_m*c_vy + sqrt(b_m*(-a_m**2*a_vx**2*b_m - a_m**2*a_vx**2*c_m + 2*a_m**2*a_vx*ahat_vx*b_m + 2*a_m**2*a_vx*ahat_vx*c_m - a_m**2*a_vy**2*c_m + 2*a_m**2*a_vy*ahat_vy*c_m - a_m**2*ahat_vx**2*b_m - a_m**2*ahat_vx**2*c_m - a_m**2*ahat_vy**2*c_m + a_m*a_vx**2*b_m*c_m + a_m*a_vx**2*c_m**2 - 2*a_m*a_vx*b_m**2*b_vx + 2*a_m*a_vx*b_m**2*bhat_vx - 2*a_m*a_vx*b_m*b_vx*c_m + 2*a_m*a_vx*b_m*bhat_vx*c_m - 2*a_m*a_vx*b_m*c_m*c_vx - 2*a_m*a_vx*c_m**2*c_vx + a_m*a_vy**2*b_m*c_m + a_m*a_vy**2*c_m**2 - 2*a_m*a_vy*b_m*b_vy*c_m - 2*a_m*a_vy*c_m**2*c_vy - a_m*ahat_vx**2*b_m*c_m - a_m*ahat_vx**2*c_m**2 + 2*a_m*ahat_vx*b_m**2*b_vx - 2*a_m*ahat_vx*b_m**2*bhat_vx + 2*a_m*ahat_vx*b_m*b_vx*c_m - 2*a_m*ahat_vx*b_m*bhat_vx*c_m + 2*a_m*ahat_vx*b_m*c_m*c_vx + 2*a_m*ahat_vx*c_m**2*c_vx - a_m*ahat_vy**2*b_m*c_m - a_m*ahat_vy**2*c_m**2 + 2*a_m*ahat_vy*b_m*b_vy*c_m + 2*a_m*ahat_vy*c_m**2*c_vy - b_m**3*b_vx**2 + 2*b_m**3*b_vx*bhat_vx - b_m**3*bhat_vx**2 + 2*b_m**2*b_vx*bhat_vx*c_m - 2*b_m**2*b_vx*c_m*c_vx - 2*b_m**2*bhat_vx**2*c_m + 2*b_m**2*bhat_vx*c_m*c_vx + b_m*b_vx**2*c_m**2 - 2*b_m*b_vx*c_m**2*c_vx + b_m*b_vy**2*c_m**2 - 2*b_m*b_vy*c_m**2*c_vy - b_m*bhat_vx**2*c_m**2 + 2*b_m*bhat_vx*c_m**2*c_vx + b_m*c_m**2*c_vy**2)))/(b_m*(b_m + c_m)), (a_m*a_vx - a_m*ahat_vx + b_m*b_vx - b_m*bhat_vx + c_m*c_vx)/c_m, (a_m*a_vy - a_m*ahat_vy + b_m*b_vy + c_m*c_vy)/(b_m + c_m) - sqrt(-b_m*(a_m**2*a_vx**2*b_m + a_m**2*a_vx**2*c_m - 2*a_m**2*a_vx*ahat_vx*b_m - 2*a_m**2*a_vx*ahat_vx*c_m + a_m**2*a_vy**2*c_m - 2*a_m**2*a_vy*ahat_vy*c_m + a_m**2*ahat_vx**2*b_m + a_m**2*ahat_vx**2*c_m + a_m**2*ahat_vy**2*c_m - a_m*a_vx**2*b_m*c_m - a_m*a_vx**2*c_m**2 + 2*a_m*a_vx*b_m**2*b_vx - 2*a_m*a_vx*b_m**2*bhat_vx + 2*a_m*a_vx*b_m*b_vx*c_m - 2*a_m*a_vx*b_m*bhat_vx*c_m + 2*a_m*a_vx*b_m*c_m*c_vx + 2*a_m*a_vx*c_m**2*c_vx - a_m*a_vy**2*b_m*c_m - a_m*a_vy**2*c_m**2 + 2*a_m*a_vy*b_m*b_vy*c_m + 2*a_m*a_vy*c_m**2*c_vy + a_m*ahat_vx**2*b_m*c_m + a_m*ahat_vx**2*c_m**2 - 2*a_m*ahat_vx*b_m**2*b_vx + 2*a_m*ahat_vx*b_m**2*bhat_vx - 2*a_m*ahat_vx*b_m*b_vx*c_m + 2*a_m*ahat_vx*b_m*bhat_vx*c_m - 2*a_m*ahat_vx*b_m*c_m*c_vx - 2*a_m*ahat_vx*c_m**2*c_vx + a_m*ahat_vy**2*b_m*c_m + a_m*ahat_vy**2*c_m**2 - 2*a_m*ahat_vy*b_m*b_vy*c_m - 2*a_m*ahat_vy*c_m**2*c_vy + b_m**3*b_vx**2 - 2*b_m**3*b_vx*bhat_vx + b_m**3*bhat_vx**2 - 2*b_m**2*b_vx*bhat_vx*c_m + 2*b_m**2*b_vx*c_m*c_vx + 2*b_m**2*bhat_vx**2*c_m - 2*b_m**2*bhat_vx*c_m*c_vx - b_m*b_vx**2*c_m**2 + 2*b_m*b_vx*c_m**2*c_vx - b_m*b_vy**2*c_m**2 + 2*b_m*b_vy*c_m**2*c_vy + b_m*bhat_vx**2*c_m**2 - 2*b_m*bhat_vx*c_m**2*c_vx - b_m*c_m**2*c_vy**2))/(c_m*(b_m + c_m)))}"
      ]
     },
     "execution_count": 7,
     "metadata": {},
     "output_type": "execute_result"
    }
   ],
   "source": [
    "from sympy import nonlinsolve\n",
    "from perfect_physics import save\n",
    "full_bern_velocity_solutions = nonlinsolve([eq1, eq2, eq3], bhat_vy, chat_vx, chat_vy)\n",
    "save(full_bern_velocity_solutions, \"full_bern_velocity_solution.sympy\")\n",
    "full_bern_velocity_solutions"
   ]
  },
  {
   "cell_type": "code",
   "execution_count": 8,
   "metadata": {},
   "outputs": [
    {
     "data": {
      "text/plain": [
       "2"
      ]
     },
     "execution_count": 8,
     "metadata": {},
     "output_type": "execute_result"
    }
   ],
   "source": [
    "len(full_bern_velocity_solutions)"
   ]
  },
  {
   "cell_type": "code",
   "execution_count": 10,
   "metadata": {},
   "outputs": [
    {
     "data": {
      "text/plain": [
       "[(sqrt(3)/4, 3/8, -sqrt(3)/8), (-sqrt(3)/8, 3/8, sqrt(3)/4)]"
      ]
     },
     "execution_count": 10,
     "metadata": {},
     "output_type": "execute_result"
    }
   ],
   "source": [
    "from sympy import Rational,Tuple,simplify\n",
    "def fit(ahat_vx,ahat_vy,bhat_vx,which):\n",
    "    return simplify(list(full_bern_velocity_solutions)[which].subs({\"a_m\":cue.m,\"b_m\":c0.m,\"c_m\":c1.m,\n",
    "    \"a_vx\":cue.vx,\"a_vy\":cue.vy,\n",
    "    \"b_vx\":c0.vx,\"b_vy\":c0.vy,\n",
    "    \"c_vx\":c1.vx,\"c_vy\":c1.vy,\n",
    "    \"ahat_vx\":ahat_vx,\"ahat_vy\":ahat_vy,\n",
    "    \"bhat_vx\":bhat_vx}))\n",
    "\n",
    "[fit(ahat_vx=solves[0].circle_list[0].vx,\n",
    "     ahat_vy=solves[0].circle_list[0].vy,\n",
    "    bhat_vx=solves[0].circle_list[1].vx,\n",
    "    which=w) for w in range(2)]"
   ]
  },
  {
   "cell_type": "code",
   "execution_count": 11,
   "metadata": {},
   "outputs": [
    {
     "data": {
      "text/latex": [
       "$\\displaystyle 0.5$"
      ],
      "text/plain": [
       "0.500000000000000"
      ]
     },
     "execution_count": 11,
     "metadata": {},
     "output_type": "execute_result"
    }
   ],
   "source": [
    "# Show that the solutions from the simulator work\n",
    "# then randomly pick values for ahat_vx, ahat_vy, chat_vy and find the solutions\n",
    "world.energy()"
   ]
  },
  {
   "cell_type": "code",
   "execution_count": 69,
   "metadata": {},
   "outputs": [
    {
     "data": {
      "text/latex": [
       "$\\displaystyle \\left\\{-1, 1\\right\\}$"
      ],
      "text/plain": [
       "{-1, 1}"
      ]
     },
     "execution_count": 69,
     "metadata": {},
     "output_type": "execute_result"
    }
   ],
   "source": [
    "# energy = a_m * (a_vx**2+a_vy**2) / 2\n",
    "from sympy import solveset, S\n",
    "from sympy.abc import a,b,c\n",
    "\n",
    "solveset(a**2 - 1, a, domain=S.Reals)"
   ]
  },
  {
   "cell_type": "code",
   "execution_count": null,
   "metadata": {},
   "outputs": [],
   "source": [
    "# a**2+b**2+c**2==1 (real valued)\n",
    "# -1<=a<=1, -sqrt(1-a**2)<=b<=sqrt(1-a**2), c is +- sqrt(1-a**2-b**2)"
   ]
  },
  {
   "cell_type": "code",
   "execution_count": 65,
   "metadata": {},
   "outputs": [
    {
     "data": {
      "text/plain": [
       "(10, 10, 10)"
      ]
     },
     "execution_count": 65,
     "metadata": {},
     "output_type": "execute_result"
    }
   ],
   "source": [
    "# take 25 steps numpy from 0 to 2 pi\n",
    "import numpy as np\n",
    "from math import pi, sin, cos\n",
    "steps = 10\n",
    "theta = np.linspace(0,2*pi,steps)\n",
    "phi = np.linspace(0,2*pi,steps)\n",
    "discount = np.linspace(0,1,steps)\n",
    "theta, phi, discount = np.meshgrid(theta, phi, discount)\n",
    "a = np.sin(theta)*np.cos(phi)*discount\n",
    "b = np.sin(theta)*np.sin(phi)*discount\n",
    "c = np.cos(theta)*discount\n",
    "a.shape"
   ]
  },
  {
   "cell_type": "code",
   "execution_count": 66,
   "metadata": {},
   "outputs": [
    {
     "data": {
      "text/plain": [
       "[<matplotlib.lines.Line2D at 0x24e319f7970>]"
      ]
     },
     "execution_count": 66,
     "metadata": {},
     "output_type": "execute_result"
    },
    {
     "data": {
      "image/png": "[encoded data removed]",
      "text/plain": [
       "<Figure size 640x480 with 1 Axes>"
      ]
     },
     "metadata": {},
     "output_type": "display_data"
    }
   ],
   "source": [
    "plt.plot(a.flatten())"
   ]
  },
  {
   "cell_type": "code",
   "execution_count": null,
   "metadata": {},
   "outputs": [],
   "source": [
    "# import matplotlib.pyplot as plt\n",
    "\n",
    "# plt.plot(a,b)\n",
    "# # plt.plot(a,c)\n",
    "# #a**2+b**2+c**2"
   ]
  },
  {
   "cell_type": "code",
   "execution_count": 76,
   "metadata": {},
   "outputs": [
    {
     "name": "stdout",
     "output_type": "stream",
     "text": [
      "yep   (0.0, 0.0, 0.1111111, 0.3142697, 0.8888889, -0.3142697)\n",
      "yep   (0.0, 0.0, 0.2222222, 0.4157397, 0.7777778, -0.4157397)\n",
      "yep   (0.0, 0.0, 0.3333333, 0.4714045, 0.6666667, -0.4714045)\n",
      "yep   (0.0, 0.0, 0.4444444, 0.4969040, 0.5555556, -0.4969040)\n",
      "yep   (0.0, 0.0, 0.5555556, 0.4969040, 0.4444444, -0.4969040)\n",
      "yep   (0.0, 0.0, 0.6666667, 0.4714045, 0.3333333, -0.4714045)\n",
      "yep   (0.0, 0.0, 0.7777778, 0.4157397, 0.2222222, -0.4157397)\n",
      "yep   (0.0, 0.0, 0.8888889, 0.3142697, 0.1111111, -0.3142697)\n",
      "yep   (0.0714208, 0.0, 0.085116, 0.3716344, 0.8434631, -0.3716344)\n",
      "yep   (0.1428417, 0.0, 0.1702321, 0.4892595, 0.6869262, -0.4892595)\n",
      "yep   (0.2142625, 0.0, 0.2553481, 0.5511697, 0.5303893, -0.5511697)\n",
      "yep   (0.2856834, 0.0, 0.3404642, 0.5756316, 0.3738524, -0.5756316)\n",
      "yep   (-0.0714208, -0.0, 0.085116, 0.0861892, 0.9863048, -0.0861892)\n",
      "yep   (-0.1428417, -0.0, 0.1702321, 0.0482072, 0.9726096, -0.0482072)\n",
      "yep   (0.0547115, 0.0459084, 0.085116, 0.3282608, 0.8601724, -0.3741692)\n",
      "yep   (0.1094231, 0.0918169, 0.1702321, 0.4164256, 0.7203448, -0.5082424)\n",
      "yep   (0.1641346, 0.1377253, 0.2553481, 0.4519082, 0.5805172, -0.5896335)\n",
      "yep   (0.2188462, 0.1836337, 0.3404642, 0.4519667, 0.4406896, -0.6356004)\n",
      "yep   (0.2735577, 0.2295422, 0.4255802, 0.4211838, 0.3008620, -0.6507260)\n",
      "yep   (-0.0547115, -0.0459084, 0.085116, 0.1754093, 0.9695955, -0.1295009)\n",
      "yep   (-0.1094231, -0.0918169, 0.1702321, 0.2252439, 0.9391910, -0.1334270)\n",
      "yep   (-0.1641346, -0.1377253, 0.2553481, 0.2324351, 0.9087865, -0.0947098)\n",
      "yep   (-0.2188462, -0.1836337, 0.3404642, 0.1756428, 0.8783820, 0.0079909)\n",
      "yep   (0.0124021, 0.0703358, 0.085116, 0.2569855, 0.9024819, -0.3273213)\n",
      "yep   (0.0248042, 0.1406716, 0.1702321, 0.3122583, 0.8049637, -0.4529299)\n",
      "yep   (0.0372063, 0.2110074, 0.2553481, 0.3223675, 0.7074456, -0.5333750)\n",
      "yep   (0.0496084, 0.2813432, 0.3404642, 0.3014148, 0.6099274, -0.5827580)\n",
      "yep   (0.0620105, 0.351679, 0.4255802, 0.2525036, 0.5124093, -0.6041827)\n",
      "yep   (0.0744126, 0.4220148, 0.5106963, 0.1726413, 0.4148911, -0.5946561)\n",
      "yep   (0.0868147, 0.4923506, 0.5958123, 0.0480453, 0.3173730, -0.5403959)\n",
      "yep   (0.0992168, 0.5626864, 0.6809284, -0.2411412, 0.2198548, -0.3215452)\n",
      "yep   (0.0190011, 0.1077607, 0.0192942, 0.1148981, 0.9617046, -0.2226588)\n",
      "yep   (0.0380022, 0.2155214, 0.0385885, 0.0855109, 0.9234093, -0.3010323)\n",
      "yep   (0.0570034, 0.3232821, 0.0578827, 0.0014641, 0.8851139, -0.3247462)\n",
      "yep   (-0.0124021, -0.0703358, 0.085116, 0.2854890, 0.9272861, -0.2151532)\n",
      "yep   (-0.0248042, -0.1406716, 0.1702321, 0.3947041, 0.8545721, -0.2540325)\n",
      "yep   (-0.0372063, -0.2110074, 0.2553481, 0.4628024, 0.7818582, -0.2517950)\n",
      "yep   (-0.0496084, -0.2813432, 0.3404642, 0.5012313, 0.7091442, -0.2198881)\n",
      "yep   (-0.0620105, -0.351679, 0.4255802, 0.5108585, 0.6364303, -0.1591795)\n",
      "yep   (-0.0744126, -0.4220148, 0.5106963, 0.4837080, 0.5637163, -0.0616932)\n",
      "yep   (-0.0868147, -0.4923506, 0.5958123, 0.3741867, 0.4910024, 0.1181639)\n",
      "yep   (-0.0357104, 0.0618523, 0.085116, 0.1716964, 0.9505944, -0.2335487)\n",
      "yep   (-0.0714208, 0.1237045, 0.1702321, 0.1939061, 0.9011887, -0.3176107)\n",
      "yep   (-0.1071313, 0.1855568, 0.2553481, 0.1775351, 0.8517831, -0.3630919)\n",
      "yep   (-0.1428417, 0.2474091, 0.3404642, 0.1293309, 0.8023775, -0.3767400)\n",
      "yep   (-0.1785521, 0.3092613, 0.4255802, 0.0410350, 0.7529719, -0.3502963)\n",
      "yep   (0.0357104, -0.0618523, 0.085116, 0.3571127, 0.8791735, -0.2952605)\n",
      "yep   (0.0714208, -0.1237045, 0.1702321, 0.4907320, 0.7583471, -0.3670274)\n",
      "yep   (0.1071313, -0.1855568, 0.2553481, 0.5750857, 0.6375206, -0.3895289)\n",
      "yep   (0.1428417, -0.2474091, 0.3404642, 0.6261439, 0.5166941, -0.3787349)\n",
      "yep   (0.1785521, -0.3092613, 0.4255802, 0.6479995, 0.3958676, -0.3387381)\n",
      "yep   (0.2142625, -0.3711136, 0.5106963, 0.6389028, 0.2750412, -0.2677892)\n",
      "yep   (-0.0671136, 0.0244274, 0.085116, 0.0951099, 0.9819976, -0.1195373)\n",
      "yep   (-0.1342273, 0.0488547, 0.1702321, 0.0759150, 0.9639952, -0.1247697)\n",
      "yep   (0.0671136, -0.0244274, 0.085116, 0.3787116, 0.8477703, -0.3542843)\n",
      "yep   (0.1342273, -0.0488547, 0.1702321, 0.5069453, 0.6955406, -0.4580906)\n",
      "yep   (0.2013409, -0.0732821, 0.2553481, 0.5802480, 0.5433109, -0.5069659)\n",
      "yep   (0.2684546, -0.0977095, 0.3404642, 0.6166360, 0.3910812, -0.5189265)\n",
      "yep   (-0.0671136, -0.0244274, 0.085116, 0.1195373, 0.9819976, -0.0951099)\n",
      "yep   (-0.1342273, -0.0488547, 0.1702321, 0.1247697, 0.9639952, -0.0759150)\n",
      "yep   (0.0671136, 0.0244274, 0.085116, 0.3542843, 0.8477703, -0.3787116)\n",
      "yep   (0.1342273, 0.0488547, 0.1702321, 0.4580906, 0.6955406, -0.5069453)\n",
      "yep   (0.2013409, 0.0732821, 0.2553481, 0.5069659, 0.5433109, -0.5802480)\n",
      "yep   (0.2684546, 0.0977095, 0.3404642, 0.5189265, 0.3910812, -0.6166360)\n",
      "yep   (-0.0357104, -0.0618523, 0.085116, 0.2335487, 0.9505944, -0.1716964)\n",
      "yep   (-0.0714208, -0.1237045, 0.1702321, 0.3176107, 0.9011887, -0.1939061)\n",
      "yep   (-0.1071313, -0.1855568, 0.2553481, 0.3630919, 0.8517831, -0.1775351)\n",
      "yep   (-0.1428417, -0.2474091, 0.3404642, 0.3767400, 0.8023775, -0.1293309)\n",
      "yep   (-0.1785521, -0.3092613, 0.4255802, 0.3502963, 0.7529719, -0.0410350)\n",
      "yep   (0.0357104, 0.0618523, 0.085116, 0.2952605, 0.8791735, -0.3571127)\n",
      "yep   (0.0714208, 0.1237045, 0.1702321, 0.3670274, 0.7583471, -0.4907320)\n",
      "yep   (0.1071313, 0.1855568, 0.2553481, 0.3895289, 0.6375206, -0.5750857)\n",
      "yep   (0.1428417, 0.2474091, 0.3404642, 0.3787349, 0.5166941, -0.6261439)\n",
      "yep   (0.1785521, 0.3092613, 0.4255802, 0.3387381, 0.3958676, -0.6479995)\n",
      "yep   (0.2142625, 0.3711136, 0.5106963, 0.2677892, 0.2750412, -0.6389028)\n",
      "yep   (0.0124021, -0.0703358, 0.085116, 0.3273213, 0.9024819, -0.2569855)\n",
      "yep   (0.0248042, -0.1406716, 0.1702321, 0.4529299, 0.8049637, -0.3122583)\n",
      "yep   (0.0372063, -0.2110074, 0.2553481, 0.5333750, 0.7074456, -0.3223675)\n",
      "yep   (0.0496084, -0.2813432, 0.3404642, 0.5827580, 0.6099274, -0.3014148)\n",
      "yep   (0.0620105, -0.351679, 0.4255802, 0.6041827, 0.5124093, -0.2525036)\n",
      "yep   (0.0744126, -0.4220148, 0.5106963, 0.5946561, 0.4148911, -0.1726413)\n",
      "yep   (0.0868147, -0.4923506, 0.5958123, 0.5403959, 0.3173730, -0.0480453)\n",
      "yep   (0.0992168, -0.5626864, 0.6809284, 0.3215452, 0.2198548, 0.2411412)\n",
      "yep   (0.0190011, -0.1077607, 0.0192942, 0.2226588, 0.9617046, -0.1148981)\n",
      "yep   (0.0380022, -0.2155214, 0.0385885, 0.3010323, 0.9234093, -0.0855109)\n",
      "yep   (0.0570034, -0.3232821, 0.0578827, 0.3247462, 0.8851139, -0.0014641)\n",
      "yep   (-0.0124021, 0.0703358, 0.085116, 0.2151532, 0.9272861, -0.2854890)\n",
      "yep   (-0.0248042, 0.1406716, 0.1702321, 0.2540325, 0.8545721, -0.3947041)\n",
      "yep   (-0.0372063, 0.2110074, 0.2553481, 0.2517950, 0.7818582, -0.4628024)\n",
      "yep   (-0.0496084, 0.2813432, 0.3404642, 0.2198881, 0.7091442, -0.5012313)\n",
      "yep   (-0.0620105, 0.351679, 0.4255802, 0.1591795, 0.6364303, -0.5108585)\n",
      "yep   (-0.0744126, 0.4220148, 0.5106963, 0.0616932, 0.5637163, -0.4837080)\n",
      "yep   (-0.0868147, 0.4923506, 0.5958123, -0.1181639, 0.4910024, -0.3741867)\n",
      "yep   (0.0547115, -0.0459084, 0.085116, 0.3741692, 0.8601724, -0.3282608)\n",
      "yep   (0.1094231, -0.0918169, 0.1702321, 0.5082424, 0.7203448, -0.4164256)\n",
      "yep   (0.1641346, -0.1377253, 0.2553481, 0.5896335, 0.5805172, -0.4519082)\n",
      "yep   (0.2188462, -0.1836337, 0.3404642, 0.6356004, 0.4406896, -0.4519667)\n",
      "yep   (0.2735577, -0.2295422, 0.4255802, 0.6507260, 0.3008620, -0.4211838)\n",
      "yep   (-0.0547115, 0.0459084, 0.085116, 0.1295009, 0.9695955, -0.1754093)\n",
      "yep   (-0.1094231, 0.0918169, 0.1702321, 0.1334270, 0.9391910, -0.2252439)\n",
      "yep   (-0.1641346, 0.1377253, 0.2553481, 0.0947098, 0.9087865, -0.2324351)\n",
      "yep   (-0.2188462, 0.1836337, 0.3404642, -0.0079909, 0.8783820, -0.1756428)\n"
     ]
    }
   ],
   "source": [
    "from sympy import im\n",
    "\n",
    "world_list = []\n",
    "seen_in = set()\n",
    "for i in range(steps):\n",
    "    for j in range(steps):\n",
    "        for k in range(steps):\n",
    "            for which in range(2):\n",
    "                tup = fit(ahat_vx=a[i,j,k],ahat_vy=b[i,j,k],bhat_vx=c[i,j,k],which=which)\n",
    "                tup = [a[i,j,k],b[i,j,k],c[i,j,k]] + list(tup)\n",
    "                tup = [round(t,7) for t in tup]\n",
    "                tup = tuple(tup)\n",
    "                if tup not in seen_in:\n",
    "                    seen_in.add(tup)\n",
    "                    if all([im(t)==0 for t in tup]):\n",
    "                        if tup[0] <= tup[2] and tup[0] <= tup[4] and tup[3] > tup[5]:\n",
    "                            print(\"yep  \", tup)\n",
    "                            world2 = deepcopy(world)\n",
    "                            world2.circle_list[0].vx = tup[0]\n",
    "                            world2.circle_list[0].vy = tup[1]\n",
    "                            world2.circle_list[1].vx = tup[2]\n",
    "                            world2.circle_list[1].vy = tup[3]\n",
    "                            world2.circle_list[2].vx = tup[4]\n",
    "                            world2.circle_list[2].vy = tup[5]\n",
    "                            world2._tick_no_collision(1)\n",
    "                            world2.figure().savefig(f\"/deldir/world2_{len(world_list)}.png\")\n",
    "                            world_list.append(world2)\n",
    "                        else:\n",
    "                            # print(\"nope \", tup)\n",
    "                            pass\n",
    "                    else:\n",
    "                        pass \n",
    "                        # print(\"imag \", tup)\n",
    "pass\n"
   ]
  },
  {
   "cell_type": "code",
   "execution_count": 73,
   "metadata": {},
   "outputs": [
    {
     "data": {
      "text/latex": [
       "$\\displaystyle 0.040202$"
      ],
      "text/plain": [
       "0.0402020"
      ]
     },
     "execution_count": 73,
     "metadata": {},
     "output_type": "execute_result"
    }
   ],
   "source": [
    "round(0.0284271135016615*sqrt(2),7)"
   ]
  },
  {
   "cell_type": "code",
   "execution_count": null,
   "metadata": {},
   "outputs": [],
   "source": []
  }
 ],
 "metadata": {
  "kernelspec": {
   "display_name": "physics38",
   "language": "python",
   "name": "python3"
  },
  "language_info": {
   "codemirror_mode": {
    "name": "ipython",
    "version": 3
   },
   "file_extension": ".py",
   "mimetype": "text/x-python",
   "name": "python",
   "nbconvert_exporter": "python",
   "pygments_lexer": "ipython3",
   "version": "3.8.15"
  },
  "orig_nbformat": 4,
  "vscode": {
   "interpreter": {
    "hash": "f2cb8c097c9b937e4c6b5b00d0df39bb5d70288ecec382f775eaa9c11bf93d2f"
   }
  }
 },
 "nbformat": 4,
 "nbformat_minor": 2
}
