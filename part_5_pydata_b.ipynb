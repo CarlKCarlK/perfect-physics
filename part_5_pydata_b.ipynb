{
 "cells": [
  {
   "cell_type": "code",
   "execution_count": 2,
   "metadata": {},
   "outputs": [
    {
     "data": {
      "text/latex": [
       "$\\displaystyle \\left\\{\\left( - \\frac{3 \\sqrt{1 - 5 \\hat{a}_{vy}^{2}} - 2}{5}, \\  - \\frac{\\sqrt{3} \\hat{a}_{vy}}{2} + \\frac{3 \\sqrt{1 - 5 \\hat{a}_{vy}^{2}}}{10} + \\frac{3}{10}, \\  - \\frac{\\hat{a}_{vy}}{2} + \\frac{\\sqrt{3 - 15 \\hat{a}_{vy}^{2}}}{10} + \\frac{\\sqrt{3}}{10}, \\  \\frac{\\sqrt{3} \\hat{a}_{vy}}{2} + \\frac{3 \\sqrt{1 - 5 \\hat{a}_{vy}^{2}}}{10} + \\frac{3}{10}, \\  - \\frac{\\hat{a}_{vy}}{2} - \\frac{\\sqrt{3} \\sqrt{1 - 5 \\hat{a}_{vy}^{2}}}{10} - \\frac{\\sqrt{3}}{10}\\right), \\left( \\frac{3 \\sqrt{1 - 5 \\hat{a}_{vy}^{2}} + 2}{5}, \\  - \\frac{\\sqrt{3} \\hat{a}_{vy}}{2} - \\frac{3 \\sqrt{1 - 5 \\hat{a}_{vy}^{2}}}{10} + \\frac{3}{10}, \\  - \\frac{\\hat{a}_{vy}}{2} - \\frac{\\sqrt{3 - 15 \\hat{a}_{vy}^{2}}}{10} + \\frac{\\sqrt{3}}{10}, \\  \\frac{\\sqrt{3} \\hat{a}_{vy}}{2} - \\frac{3 \\sqrt{1 - 5 \\hat{a}_{vy}^{2}}}{10} + \\frac{3}{10}, \\  - \\frac{\\hat{a}_{vy}}{2} + \\frac{\\sqrt{3} \\sqrt{1 - 5 \\hat{a}_{vy}^{2}}}{10} - \\frac{\\sqrt{3}}{10}\\right)\\right\\}$"
      ],
      "text/plain": [
       "{(-(3*sqrt(1 - 5*ahat_vy**2) - 2)/5, -sqrt(3)*ahat_vy/2 + 3*sqrt(1 - 5*ahat_vy**2)/10 + 3/10, -ahat_vy/2 + sqrt(3 - 15*ahat_vy**2)/10 + sqrt(3)/10, sqrt(3)*ahat_vy/2 + 3*sqrt(1 - 5*ahat_vy**2)/10 + 3/10, -ahat_vy/2 - sqrt(3)*sqrt(1 - 5*ahat_vy**2)/10 - sqrt(3)/10), ((3*sqrt(1 - 5*ahat_vy**2) + 2)/5, -sqrt(3)*ahat_vy/2 - 3*sqrt(1 - 5*ahat_vy**2)/10 + 3/10, -ahat_vy/2 - sqrt(3 - 15*ahat_vy**2)/10 + sqrt(3)/10, sqrt(3)*ahat_vy/2 - 3*sqrt(1 - 5*ahat_vy**2)/10 + 3/10, -ahat_vy/2 + sqrt(3)*sqrt(1 - 5*ahat_vy**2)/10 - sqrt(3)/10)}"
      ]
     },
     "execution_count": 2,
     "metadata": {},
     "output_type": "execute_result"
    }
   ],
   "source": [
    "# Find an analytic solution to the problem\n",
    "\n",
    "from sympy import symbols, Eq, nonlinsolve, sin, cos, pi, S\n",
    "a_vx, a_vy, a_m, ahat_vx, ahat_vy =  symbols(\"a_vx, a_vy, a_m, ahat_vx, ahat_vy\")\n",
    "b_vx, b_vy, b_m, bhat_vx, bhat_vy =  symbols(\"b_vx, b_vy, b_m, bhat_vx, bhat_vy\")\n",
    "c_vx, c_vy, c_m, chat_vx, chat_vy =  symbols(\"c_vx, c_vy, c_m, chat_vx, chat_vy\")\n",
    "\n",
    "# conservation of energy\n",
    "a_m, b_m, c_m = 1, 1, 1\n",
    "a_vx, b_vx, c_vx = 1, 0, 0\n",
    "a_vy, b_vy, c_vy = S(0), S(0), S(0)\n",
    "energy_before = a_m * (a_vx**2 + a_vy**2) / 2 + b_m * (b_vx**2 + b_vy**2) / 2 + c_m * (c_vx**2 + c_vy**2) / 2\n",
    "energy_after = a_m * (ahat_vx**2 + ahat_vy**2) / 2 + b_m * (bhat_vx**2 + bhat_vy**2) / 2 + c_m * (chat_vx**2 + chat_vy**2) / 2\n",
    "eq1 = Eq(energy_before*2, energy_after*2)\n",
    "# conservation of momentum\n",
    "eq2 = Eq(a_m * a_vx + b_m * b_vx + c_m * c_vx, a_m * ahat_vx + b_m * bhat_vx + c_m * chat_vx)\n",
    "eq3 = Eq(a_m * a_vy + b_m * b_vy + c_m * c_vy, a_m * ahat_vy + b_m * bhat_vy + c_m * chat_vy)\n",
    "\n",
    "# always 30 degrees up or down\n",
    "eq4 = Eq(bhat_vx / cos(pi/6), bhat_vy / sin(pi/6))\n",
    "eq5 = Eq(chat_vx / cos(-pi/6), chat_vy / sin(-pi/6))\n",
    "\n",
    "minipool = nonlinsolve([eq1, eq2, eq3, eq4, eq5], [ahat_vx, bhat_vx, bhat_vy, chat_vx, chat_vy])\n",
    "minipool"
   ]
  },
  {
   "cell_type": "code",
   "execution_count": 35,
   "metadata": {},
   "outputs": [
    {
     "data": {
      "text/latex": [
       "$\\displaystyle - \\frac{3 \\sqrt{1 - 5 \\hat{a}_{vy}^{2}} - 2}{5}$"
      ],
      "text/plain": [
       "-(3*sqrt(1 - 5*ahat_vy**2) - 2)/5"
      ]
     },
     "execution_count": 35,
     "metadata": {},
     "output_type": "execute_result"
    }
   ],
   "source": [
    "minipool0 = list(minipool)[0]\n",
    "minipool1 = list(minipool)[1]\n",
    "vx, _, _, _, _ = minipool0\n",
    "vx1, _, _, _, _ = minipool1\n",
    "vx"
   ]
  },
  {
   "cell_type": "code",
   "execution_count": 6,
   "metadata": {},
   "outputs": [
    {
     "name": "stdout",
     "output_type": "stream",
     "text": [
      "[-sqrt(5)/5, sqrt(5)/5]\n"
     ]
    }
   ],
   "source": [
    "import sympy as sp\n",
    "\n",
    "a = sp.Symbol(\"a\", real=True)\n",
    "vx_as_a = sp.im(vx).subs(sp.im(ahat_vy), 0).subs(sp.re(ahat_vy), a)\n",
    "vx_as_a\n",
    "\n",
    "vx_solve = sp.solve(vx_as_a, a)\n",
    "print(vx_solve)"
   ]
  },
  {
   "cell_type": "code",
   "execution_count": 11,
   "metadata": {},
   "outputs": [
    {
     "data": {
      "text/plain": [
       "[2/5, 2/5]"
      ]
     },
     "execution_count": 11,
     "metadata": {},
     "output_type": "execute_result"
    }
   ],
   "source": [
    "[vx.subs(ahat_vy, s) for s in vx_solve]"
   ]
  },
  {
   "cell_type": "code",
   "execution_count": 25,
   "metadata": {},
   "outputs": [
    {
     "data": {
      "text/latex": [
       "$\\displaystyle - \\frac{\\sqrt{- 5 \\hat{a}_{vx}^{2} + 4 \\hat{a}_{vx} + 1}}{3}$"
      ],
      "text/plain": [
       "-sqrt(-5*ahat_vx**2 + 4*ahat_vx + 1)/3"
      ]
     },
     "execution_count": 25,
     "metadata": {},
     "output_type": "execute_result"
    }
   ],
   "source": [
    "import sympy as sp\n",
    "\n",
    "vy = sp.solve(Eq(vx, ahat_vx), ahat_vy)\n",
    "vy[0]"
   ]
  },
  {
   "cell_type": "code",
   "execution_count": 23,
   "metadata": {},
   "outputs": [
    {
     "data": {
      "text/latex": [
       "$\\displaystyle - \\frac{3 \\sqrt{1 - 5 \\hat{a}_{vy}^{2}} - 2}{5}$"
      ],
      "text/plain": [
       "-(3*sqrt(1 - 5*ahat_vy**2) - 2)/5"
      ]
     },
     "execution_count": 23,
     "metadata": {},
     "output_type": "execute_result"
    }
   ],
   "source": [
    "vx"
   ]
  },
  {
   "cell_type": "code",
   "execution_count": 27,
   "metadata": {},
   "outputs": [
    {
     "name": "stdout",
     "output_type": "stream",
     "text": [
      "Eq(-(3*sqrt(1 - 5*ahat_vy**2) - 2)/5, ahat_vx)\n"
     ]
    }
   ],
   "source": [
    "print(Eq(vx, ahat_vx))"
   ]
  },
  {
   "cell_type": "code",
   "execution_count": 31,
   "metadata": {},
   "outputs": [
    {
     "data": {
      "text/latex": [
       "$\\displaystyle \\frac{2}{5} - \\frac{3 \\sqrt{1 - 5 y^{2}}}{5}$"
      ],
      "text/plain": [
       "2/5 - 3*sqrt(1 - 5*y**2)/5"
      ]
     },
     "execution_count": 31,
     "metadata": {},
     "output_type": "execute_result"
    }
   ],
   "source": [
    "vx.subs(ahat_vy, \"y\")"
   ]
  },
  {
   "cell_type": "code",
   "execution_count": 38,
   "metadata": {},
   "outputs": [
    {
     "data": {
      "text/plain": [
       "[<matplotlib.lines.Line2D at 0x204c1033b80>]"
      ]
     },
     "execution_count": 38,
     "metadata": {},
     "output_type": "execute_result"
    },
    {
     "data": {
      "image/png": "[encoded data removed]",
      "text/plain": [
       "<Figure size 640x480 with 1 Axes>"
      ]
     },
     "metadata": {},
     "output_type": "display_data"
    }
   ],
   "source": [
    "import numpy as np\n",
    "import matplotlib.pyplot as plt\n",
    "\n",
    "y = np.linspace(-1, 1, 10_000)\n",
    "x = []\n",
    "x1 = []\n",
    "for yi in y:\n",
    "    xi = vx.subs(ahat_vy, yi)\n",
    "    x.append(complex(xi))\n",
    "    xi1 = vx1.subs(ahat_vy, yi)\n",
    "    x1.append(complex(xi1))\n",
    "x = np.array(x)\n",
    "x1 = np.array(x1)\n",
    "\n",
    "# filter out complex numbers\n",
    "is_real = np.isreal(x)\n",
    "plt.plot(x[is_real], y[is_real])\n",
    "is_real = np.isreal(x1)\n",
    "plt.plot(x1[is_real], y[is_real])\n",
    "\n"
   ]
  },
  {
   "cell_type": "code",
   "execution_count": 41,
   "metadata": {},
   "outputs": [
    {
     "data": {
      "text/latex": [
       "$\\displaystyle \\frac{\\left(3 \\sqrt{1 - 5 \\hat{a}_{vy}^{2}} - 2\\right)^{2}}{25}$"
      ],
      "text/plain": [
       "(3*sqrt(1 - 5*ahat_vy**2) - 2)**2/25"
      ]
     },
     "execution_count": 41,
     "metadata": {},
     "output_type": "execute_result"
    }
   ],
   "source": [
    "sp.simplify(vx**2)"
   ]
  },
  {
   "cell_type": "code",
   "execution_count": 44,
   "metadata": {},
   "outputs": [
    {
     "data": {
      "text/latex": [
       "$\\displaystyle - \\frac{5 \\hat{a}_{vx}^{2}}{9} + \\frac{4 \\hat{a}_{vx}}{9} + \\frac{1}{9}$"
      ],
      "text/plain": [
       "-5*ahat_vx**2/9 + 4*ahat_vx/9 + 1/9"
      ]
     },
     "execution_count": 44,
     "metadata": {},
     "output_type": "execute_result"
    }
   ],
   "source": [
    "vy[0]**2"
   ]
  },
  {
   "cell_type": "code",
   "execution_count": 52,
   "metadata": {},
   "outputs": [],
   "source": [
    "import sympy as sp\n",
    "\n",
    "x, y, h, k, a, b = sp.symbols('x y h k a b')\n",
    "\n",
    "# Ellipse equation (axis-aligned)\n",
    "ellipse_eq = ((x - h)**2 / a**2) + ((y - k)**2 / b**2) - 1\n",
    "\n",
    "y_points = [S(-3)/10, S(-2)/10, S(-1)/10, S(0)/10]\n",
    "# Known points (replace these with your actual points)\n",
    "point0 = (vx.subs(ahat_vy, y_points[0]), y_points[0])\n",
    "point1 = (vx.subs(ahat_vy, y_points[1]), y_points[1])\n",
    "point2 = (vx.subs(ahat_vy, y_points[2]), y_points[2])\n",
    "point3 = (vx.subs(ahat_vy, y_points[3]), y_points[3])\n",
    "\n",
    "# print(point0)\n",
    "\n",
    "# Create equations for each point\n",
    "eq1 = ellipse_eq.subs({x: point1[0], y: point1[1]})\n",
    "eq2 = ellipse_eq.subs({x: point2[0], y: point2[1]})\n",
    "eq3 = ellipse_eq.subs({x: point3[0], y: point3[1]})\n",
    "eq4 = ellipse_eq.subs({x: point4[0], y: point4[1]})\n",
    "\n",
    "# Solve the system of equations\n",
    "ellipse_params = sp.solve((eq1, eq2, eq3, eq4), (h, k, a, b))\n",
    "ellipse_params\n",
    "\n",
    "# # Substitute the parameters into the ellipse equation\n",
    "# ellipse_result = sp.Eq(ellipse_eq.lhs.subs(ellipse_params), ellipse_eq.rhs)\n",
    "\n",
    "# print(\"Ellipse equation:\", ellipse_result)\n"
   ]
  },
  {
   "cell_type": "code",
   "execution_count": null,
   "metadata": {},
   "outputs": [],
   "source": []
  }
 ],
 "metadata": {
  "kernelspec": {
   "display_name": "Python 3",
   "language": "python",
   "name": "python3"
  },
  "language_info": {
   "codemirror_mode": {
    "name": "ipython",
    "version": 3
   },
   "file_extension": ".py",
   "mimetype": "text/x-python",
   "name": "python",
   "nbconvert_exporter": "python",
   "pygments_lexer": "ipython3",
   "version": "3.9.16"
  },
  "orig_nbformat": 4
 },
 "nbformat": 4,
 "nbformat_minor": 2
}
