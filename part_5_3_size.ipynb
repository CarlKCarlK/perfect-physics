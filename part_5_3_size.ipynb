{
 "cells": [
  {
   "cell_type": "code",
   "execution_count": 2,
   "metadata": {},
   "outputs": [],
   "source": [
    "from pathlib import Path\n",
    "root = Path(\"m:/projects/perfect_physics\")"
   ]
  },
  {
   "cell_type": "code",
   "execution_count": 3,
   "metadata": {},
   "outputs": [
    {
     "name": "stdout",
     "output_type": "stream",
     "text": [
      "Moviepy - Building video m:\\deldir\\perfect_physics\\part5\\n_size_1-1000-1000000\\render_events\\n_size_1-1000-1000000_1000.events.avi.\n",
      "MoviePy - Writing audio in n_size_1-1000-1000000_1000.eventsTEMP_MPY_wvf_snd.mp3\n"
     ]
    },
    {
     "name": "stderr",
     "output_type": "stream",
     "text": [
      "                                                                   \r"
     ]
    },
    {
     "name": "stdout",
     "output_type": "stream",
     "text": [
      "MoviePy - Done.\n",
      "Moviepy - Writing video m:\\deldir\\perfect_physics\\part5\\n_size_1-1000-1000000\\render_events\\n_size_1-1000-1000000_1000.events.avi\n",
      "\n"
     ]
    },
    {
     "name": "stderr",
     "output_type": "stream",
     "text": [
      "t: 100%|█████████▉| 1995/1997 [00:56<00:00, 34.95it/s, now=None]WARNING:py.warnings:c:\\Users\\Carl\\miniconda3\\envs\\physics\\lib\\site-packages\\moviepy\\video\\io\\ffmpeg_reader.py:123: UserWarning: Warning: in file m:\\deldir\\perfect_physics\\part5\\n_size_1-1000-1000000\\render_events\\misc\\silent_video_1000.avi, 6220800 bytes wanted but 0 bytes read,at frame 1996/1997, at time 33.27/33.27 sec. Using the last valid frame instead.\n",
      "  warnings.warn(\"Warning: in file %s, \"%(self.filename)+\n",
      "\n",
      "                                                                \r"
     ]
    },
    {
     "name": "stdout",
     "output_type": "stream",
     "text": [
      "Moviepy - Done !\n",
      "Moviepy - video ready m:\\deldir\\perfect_physics\\part5\\n_size_1-1000-1000000\\render_events\\n_size_1-1000-1000000_1000.events.avi\n",
      "Moviepy - Building video m:\\deldir\\perfect_physics\\part5\\n_size_1-1000-1000000\\render_events\\n_size_1-1000-1000000_2500.events.avi.\n",
      "MoviePy - Writing audio in n_size_1-1000-1000000_2500.eventsTEMP_MPY_wvf_snd.mp3\n"
     ]
    },
    {
     "name": "stderr",
     "output_type": "stream",
     "text": [
      "                                                                     \r"
     ]
    },
    {
     "name": "stdout",
     "output_type": "stream",
     "text": [
      "MoviePy - Done.\n",
      "Moviepy - Writing video m:\\deldir\\perfect_physics\\part5\\n_size_1-1000-1000000\\render_events\\n_size_1-1000-1000000_2500.events.avi\n",
      "\n"
     ]
    },
    {
     "name": "stderr",
     "output_type": "stream",
     "text": [
      "t: 100%|█████████▉| 4996/4997 [02:36<00:00, 23.68it/s, now=None]WARNING:py.warnings:c:\\Users\\Carl\\miniconda3\\envs\\physics\\lib\\site-packages\\moviepy\\video\\io\\ffmpeg_reader.py:123: UserWarning: Warning: in file m:\\deldir\\perfect_physics\\part5\\n_size_1-1000-1000000\\render_events\\misc\\silent_video_2500.avi, 6220800 bytes wanted but 0 bytes read,at frame 4996/4997, at time 83.27/83.27 sec. Using the last valid frame instead.\n",
      "  warnings.warn(\"Warning: in file %s, \"%(self.filename)+\n",
      "\n",
      "                                                                \r"
     ]
    },
    {
     "name": "stdout",
     "output_type": "stream",
     "text": [
      "Moviepy - Done !\n",
      "Moviepy - video ready m:\\deldir\\perfect_physics\\part5\\n_size_1-1000-1000000\\render_events\\n_size_1-1000-1000000_2500.events.avi\n",
      "Moviepy - Building video m:\\deldir\\perfect_physics\\part5\\n_size_1-1000-1000000\\render_events\\n_size_1-1000-1000000_5000.events.avi.\n",
      "MoviePy - Writing audio in n_size_1-1000-1000000_5000.eventsTEMP_MPY_wvf_snd.mp3\n"
     ]
    },
    {
     "name": "stderr",
     "output_type": "stream",
     "text": [
      "                                                                     \r"
     ]
    },
    {
     "name": "stdout",
     "output_type": "stream",
     "text": [
      "MoviePy - Done.\n",
      "Moviepy - Writing video m:\\deldir\\perfect_physics\\part5\\n_size_1-1000-1000000\\render_events\\n_size_1-1000-1000000_5000.events.avi\n",
      "\n"
     ]
    },
    {
     "name": "stderr",
     "output_type": "stream",
     "text": [
      "                                                                \r"
     ]
    },
    {
     "name": "stdout",
     "output_type": "stream",
     "text": [
      "Moviepy - Done !\n",
      "Moviepy - video ready m:\\deldir\\perfect_physics\\part5\\n_size_1-1000-1000000\\render_events\\n_size_1-1000-1000000_5000.events.avi\n",
      "Moviepy - Building video m:\\deldir\\perfect_physics\\part5\\n_size_1-1000-1000000\\render_events\\n_size_1-1000-1000000_7500.events.avi.\n",
      "MoviePy - Writing audio in n_size_1-1000-1000000_7500.eventsTEMP_MPY_wvf_snd.mp3\n"
     ]
    },
    {
     "name": "stderr",
     "output_type": "stream",
     "text": [
      "                                                                     \r"
     ]
    },
    {
     "name": "stdout",
     "output_type": "stream",
     "text": [
      "MoviePy - Done.\n",
      "Moviepy - Writing video m:\\deldir\\perfect_physics\\part5\\n_size_1-1000-1000000\\render_events\\n_size_1-1000-1000000_7500.events.avi\n",
      "\n"
     ]
    },
    {
     "name": "stderr",
     "output_type": "stream",
     "text": [
      "                                                                  \r"
     ]
    },
    {
     "name": "stdout",
     "output_type": "stream",
     "text": [
      "Moviepy - Done !\n",
      "Moviepy - video ready m:\\deldir\\perfect_physics\\part5\\n_size_1-1000-1000000\\render_events\\n_size_1-1000-1000000_7500.events.avi\n",
      "Moviepy - Building video m:\\deldir\\perfect_physics\\part5\\n_size_1-1000-1000000\\render_events\\n_size_1-1000-1000000_10000.events.avi.\n",
      "MoviePy - Writing audio in n_size_1-1000-1000000_10000.eventsTEMP_MPY_wvf_snd.mp3\n"
     ]
    },
    {
     "name": "stderr",
     "output_type": "stream",
     "text": [
      "                                                                     \r"
     ]
    },
    {
     "name": "stdout",
     "output_type": "stream",
     "text": [
      "MoviePy - Done.\n",
      "Moviepy - Writing video m:\\deldir\\perfect_physics\\part5\\n_size_1-1000-1000000\\render_events\\n_size_1-1000-1000000_10000.events.avi\n",
      "\n"
     ]
    },
    {
     "name": "stderr",
     "output_type": "stream",
     "text": [
      "t: 100%|██████████| 19997/19997 [10:04<00:00, 31.79it/s, now=None]WARNING:py.warnings:c:\\Users\\Carl\\miniconda3\\envs\\physics\\lib\\site-packages\\moviepy\\video\\io\\ffmpeg_reader.py:123: UserWarning: Warning: in file m:\\deldir\\perfect_physics\\part5\\n_size_1-1000-1000000\\render_events\\misc\\silent_video_10000.avi, 6220800 bytes wanted but 0 bytes read,at frame 19996/19997, at time 333.27/333.27 sec. Using the last valid frame instead.\n",
      "  warnings.warn(\"Warning: in file %s, \"%(self.filename)+\n",
      "\n",
      "                                                                  \r"
     ]
    },
    {
     "name": "stdout",
     "output_type": "stream",
     "text": [
      "Moviepy - Done !\n",
      "Moviepy - video ready m:\\deldir\\perfect_physics\\part5\\n_size_1-1000-1000000\\render_events\\n_size_1-1000-1000000_10000.events.avi\n",
      "Moviepy - Building video m:\\deldir\\perfect_physics\\part5\\n_size_1-1000-1000000\\render_events\\n_size_1-1000-1000000_100000.events.avi.\n",
      "MoviePy - Writing audio in n_size_1-1000-1000000_100000.eventsTEMP_MPY_wvf_snd.mp3\n"
     ]
    },
    {
     "name": "stderr",
     "output_type": "stream",
     "text": [
      "                                                                       \r"
     ]
    },
    {
     "name": "stdout",
     "output_type": "stream",
     "text": [
      "MoviePy - Done.\n",
      "Moviepy - Writing video m:\\deldir\\perfect_physics\\part5\\n_size_1-1000-1000000\\render_events\\n_size_1-1000-1000000_100000.events.avi\n",
      "\n"
     ]
    },
    {
     "name": "stderr",
     "output_type": "stream",
     "text": [
      "t: 100%|█████████▉| 43642/43643 [17:43<00:00, 48.09it/s, now=None]WARNING:py.warnings:c:\\Users\\Carl\\miniconda3\\envs\\physics\\lib\\site-packages\\moviepy\\video\\io\\ffmpeg_reader.py:123: UserWarning: Warning: in file m:\\deldir\\perfect_physics\\part5\\n_size_1-1000-1000000\\render_events\\misc\\silent_video_100000.avi, 6220800 bytes wanted but 0 bytes read,at frame 43642/43643, at time 727.37/727.37 sec. Using the last valid frame instead.\n",
      "  warnings.warn(\"Warning: in file %s, \"%(self.filename)+\n",
      "\n",
      "                                                                  \r"
     ]
    },
    {
     "name": "stdout",
     "output_type": "stream",
     "text": [
      "Moviepy - Done !\n",
      "Moviepy - video ready m:\\deldir\\perfect_physics\\part5\\n_size_1-1000-1000000\\render_events\\n_size_1-1000-1000000_100000.events.avi\n"
     ]
    }
   ],
   "source": [
    "import numpy as np\n",
    "from perfect_physics import World, Circle, Wall\n",
    "\n",
    "world_width = 40\n",
    "radius_list = [1, 2, 3]\n",
    "mass_list = [1, 1_000, 1_000_000]\n",
    "\n",
    "mass_string = \"-\".join([str(m) for m in mass_list])\n",
    "folder = root / f\"part5/n_size_{mass_string}\"\n",
    "\n",
    "assert len(radius_list) == len(mass_list)\n",
    "\n",
    "x = 0\n",
    "circle_list = []\n",
    "for radius, mass in zip(radius_list, mass_list):\n",
    "    x += radius\n",
    "    circle = Circle(x=x,y=0,r=radius,vx=1,vy=0,m=mass)\n",
    "    x += radius\n",
    "    circle_list.append(circle)\n",
    "wall_list = [Wall(x0=0, y0=0, x1=0, y1=1), Wall(x0=world_width, y0=0, x1=world_width, y1=1)]\n",
    "world = World(circle_list, wall_list, xlim=(-1, world_width + 1), ylim=(-radius_list[-1] - 1, radius_list[-1] + 1))\n",
    "if False:\n",
    "    # world.show()\n",
    "    world.run_in_place(3, show=True)\n",
    "    print([circle.vx for circle in world.circle_list])\n",
    "    print([float(circle.vx) for circle in world.circle_list])\n",
    "else:\n",
    "    # world.run_to_file(folder, 21_823)\n",
    "    # World.render(folder, speed_up=10)\n",
    "    for end in [1000, 2500, 5000, 7500, 10_000, 100_000]:\n",
    "        World.render_events(folder, slice=np.s_[:end], seconds_per_event=2.0/60, fps=60, talkie_codec=\"mpeg4\", silent_codec=\"MP4V\", prefix=f\"_{end}\")\n"
   ]
  },
  {
   "cell_type": "code",
   "execution_count": null,
   "metadata": {},
   "outputs": [],
   "source": []
  }
 ],
 "metadata": {
  "kernelspec": {
   "display_name": "Python 3.9.13 ('physics')",
   "language": "python",
   "name": "python3"
  },
  "language_info": {
   "codemirror_mode": {
    "name": "ipython",
    "version": 3
   },
   "file_extension": ".py",
   "mimetype": "text/x-python",
   "name": "python",
   "nbconvert_exporter": "python",
   "pygments_lexer": "ipython3",
   "version": "3.9.13"
  },
  "orig_nbformat": 4,
  "vscode": {
   "interpreter": {
    "hash": "de2c5f912e9a0618d7fb158eff1215fc01b4f796ca47df964c24240a61c494b2"
   }
  }
 },
 "nbformat": 4,
 "nbformat_minor": 2
}
