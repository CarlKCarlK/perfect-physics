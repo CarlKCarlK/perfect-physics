{
 "cells": [
  {
   "cell_type": "code",
   "execution_count": 1,
   "metadata": {},
   "outputs": [],
   "source": [
    "# find when two circles under downward gravity intersect\n",
    "\n"
   ]
  },
  {
   "cell_type": "code",
   "execution_count": 1,
   "metadata": {},
   "outputs": [
    {
     "data": {
      "image/png": "[encoded data removed]",
      "text/plain": [
       "<Figure size 480x270 with 1 Axes>"
      ]
     },
     "metadata": {},
     "output_type": "display_data"
    }
   ],
   "source": [
    "from perfect_physics import Circle, plot\n",
    "\n",
    "a = Circle(x=0, y=0, r=1, vx=2, vy=0)\n",
    "b = Circle(x=5, y=0, r=1, vx=0, vy=0)\n",
    "w_acc_x = 0\n",
    "w_acc_y = -9.8\n",
    "\n",
    "plot(\n",
    "    [a, b],\n",
    "    colors=[\"tab:blue\", \"tab:red\"],\n",
    "    xlim=[-2, 8],\n",
    "    ylim=[-2, 2],\n",
    "    font_scale=1,\n",
    ")\n",
    "pass"
   ]
  },
  {
   "cell_type": "code",
   "execution_count": 2,
   "metadata": {},
   "outputs": [
    {
     "data": {
      "text/latex": [
       "$\\displaystyle a'_{x} = a_{vx} t + a_{x} + 0.5 acc_{x} t^{2}$"
      ],
      "text/plain": [
       "Eq(a'_x, a_vx*t + a_x + 0.5*acc_x*t**2)"
      ]
     },
     "execution_count": 2,
     "metadata": {},
     "output_type": "execute_result"
    }
   ],
   "source": [
    "from sympy import symbols, Eq\n",
    "\n",
    "# define symbols\n",
    "t, acc_x, acc_y = symbols(\"t, acc_x, acc_y\")\n",
    "a_x, a_y, a_vx, a_vy, a_r, aprime_x, aprime_y = symbols(\"a_x, a_y, a_vx, a_vy, a_r, a'_x, a'_y\")\n",
    "b_x, b_y, b_vx, b_vy, b_r, bprime_x, bprime_y = symbols(\"b_x, b_y, b_vx, b_vy, b_r, b'_x, b'_y\")\n",
    "\n",
    "# define equations\n",
    "eq1 = Eq(aprime_x, a_x + a_vx * t + 0.5 * acc_x * t ** 2)\n",
    "eq2 = Eq(aprime_y, a_y + a_vy * t + 0.5 * acc_y * t ** 2)\n",
    "eq3 = Eq(bprime_x, b_x + b_vx * t + 0.5 * acc_x * t ** 2)\n",
    "eq4 = Eq(bprime_y, b_y + b_vy * t + 0.5 * acc_y * t ** 2)\n",
    "eq5 = Eq((aprime_x - bprime_x) ** 2 + (aprime_y - bprime_y) ** 2,\n",
    "         (a_r + b_r)**2)\n",
    "\n",
    "eq1"
   ]
  },
  {
   "cell_type": "code",
   "execution_count": 3,
   "metadata": {},
   "outputs": [
    {
     "ename": "ZeroDivisionError",
     "evalue": "zero denominator",
     "output_type": "error",
     "traceback": [
      "\u001b[1;31m---------------------------------------------------------------------------\u001b[0m",
      "\u001b[1;31mZeroDivisionError\u001b[0m                         Traceback (most recent call last)",
      "\u001b[1;32md:\\OneDrive\\Projects\\Science\\perfect-physics\\part_5_downward_gravity.ipynb Cell 4\u001b[0m in \u001b[0;36m<cell line: 4>\u001b[1;34m()\u001b[0m\n\u001b[0;32m      <a href='vscode-notebook-cell:/d%3A/OneDrive/Projects/Science/perfect-physics/part_5_downward_gravity.ipynb#W4sZmlsZQ%3D%3D?line=0'>1</a>\u001b[0m \u001b[39mfrom\u001b[39;00m \u001b[39msympy\u001b[39;00m \u001b[39mimport\u001b[39;00m nonlinsolve\n\u001b[0;32m      <a href='vscode-notebook-cell:/d%3A/OneDrive/Projects/Science/perfect-physics/part_5_downward_gravity.ipynb#W4sZmlsZQ%3D%3D?line=1'>2</a>\u001b[0m \u001b[39mfrom\u001b[39;00m \u001b[39mperfect_physics\u001b[39;00m \u001b[39mimport\u001b[39;00m save\n\u001b[1;32m----> <a href='vscode-notebook-cell:/d%3A/OneDrive/Projects/Science/perfect-physics/part_5_downward_gravity.ipynb#W4sZmlsZQ%3D%3D?line=3'>4</a>\u001b[0m cc_acc_all_solutions \u001b[39m=\u001b[39m nonlinsolve([eq1, eq2, eq3, eq4, eq5], t, aprime_x, aprime_y, bprime_x, bprime_y)\n\u001b[0;32m      <a href='vscode-notebook-cell:/d%3A/OneDrive/Projects/Science/perfect-physics/part_5_downward_gravity.ipynb#W4sZmlsZQ%3D%3D?line=4'>5</a>\u001b[0m cc_acc_time_solutions \u001b[39m=\u001b[39m [t \u001b[39mfor\u001b[39;00m t, aprime_x, ap_y, bp_x, bp_y \u001b[39min\u001b[39;00m cc_acc_all_solutions]\n\u001b[0;32m      <a href='vscode-notebook-cell:/d%3A/OneDrive/Projects/Science/perfect-physics/part_5_downward_gravity.ipynb#W4sZmlsZQ%3D%3D?line=5'>6</a>\u001b[0m save(cc_acc_time_solutions, \u001b[39m\"\u001b[39m\u001b[39mcc_acc_time_solutions.sympy\u001b[39m\u001b[39m\"\u001b[39m)\n",
      "File \u001b[1;32mc:\\Users\\Carl\\miniconda3\\envs\\physics\\lib\\site-packages\\sympy\\solvers\\solveset.py:3673\u001b[0m, in \u001b[0;36mnonlinsolve\u001b[1;34m(system, *symbols)\u001b[0m\n\u001b[0;32m   3668\u001b[0m polys, polys_expr, nonpolys, denominators \u001b[39m=\u001b[39m _separate_poly_nonpoly(\n\u001b[0;32m   3669\u001b[0m     system, symbols)\n\u001b[0;32m   3671\u001b[0m \u001b[39mif\u001b[39;00m \u001b[39mlen\u001b[39m(symbols) \u001b[39m==\u001b[39m \u001b[39mlen\u001b[39m(polys):\n\u001b[0;32m   3672\u001b[0m     \u001b[39m# If all the equations in the system are poly\u001b[39;00m\n\u001b[1;32m-> 3673\u001b[0m     \u001b[39mif\u001b[39;00m is_zero_dimensional(polys, symbols):\n\u001b[0;32m   3674\u001b[0m         \u001b[39m# finite number of soln (Zero dimensional system)\u001b[39;00m\n\u001b[0;32m   3675\u001b[0m         \u001b[39mtry\u001b[39;00m:\n\u001b[0;32m   3676\u001b[0m             \u001b[39mreturn\u001b[39;00m _handle_zero_dimensional(polys, symbols, system)\n",
      "File \u001b[1;32mc:\\Users\\Carl\\miniconda3\\envs\\physics\\lib\\site-packages\\sympy\\polys\\polytools.py:6944\u001b[0m, in \u001b[0;36mis_zero_dimensional\u001b[1;34m(F, *gens, **args)\u001b[0m\n\u001b[0;32m   6929\u001b[0m \u001b[39m@public\u001b[39m\n\u001b[0;32m   6930\u001b[0m \u001b[39mdef\u001b[39;00m \u001b[39mis_zero_dimensional\u001b[39m(F, \u001b[39m*\u001b[39mgens, \u001b[39m*\u001b[39m\u001b[39m*\u001b[39margs):\n\u001b[0;32m   6931\u001b[0m     \u001b[39m\"\"\"\u001b[39;00m\n\u001b[0;32m   6932\u001b[0m \u001b[39m    Checks if the ideal generated by a Groebner basis is zero-dimensional.\u001b[39;00m\n\u001b[0;32m   6933\u001b[0m \n\u001b[1;32m   (...)\u001b[0m\n\u001b[0;32m   6942\u001b[0m \n\u001b[0;32m   6943\u001b[0m \u001b[39m    \"\"\"\u001b[39;00m\n\u001b[1;32m-> 6944\u001b[0m     \u001b[39mreturn\u001b[39;00m GroebnerBasis(F, \u001b[39m*\u001b[39mgens, \u001b[39m*\u001b[39m\u001b[39m*\u001b[39margs)\u001b[39m.\u001b[39mis_zero_dimensional\n",
      "File \u001b[1;32mc:\\Users\\Carl\\miniconda3\\envs\\physics\\lib\\site-packages\\sympy\\polys\\polytools.py:6965\u001b[0m, in \u001b[0;36mGroebnerBasis.__new__\u001b[1;34m(cls, F, *gens, **args)\u001b[0m\n\u001b[0;32m   6961\u001b[0m ring \u001b[39m=\u001b[39m PolyRing(opt\u001b[39m.\u001b[39mgens, opt\u001b[39m.\u001b[39mdomain, opt\u001b[39m.\u001b[39morder)\n\u001b[0;32m   6963\u001b[0m polys \u001b[39m=\u001b[39m [ring\u001b[39m.\u001b[39mfrom_dict(poly\u001b[39m.\u001b[39mrep\u001b[39m.\u001b[39mto_dict()) \u001b[39mfor\u001b[39;00m poly \u001b[39min\u001b[39;00m polys \u001b[39mif\u001b[39;00m poly]\n\u001b[1;32m-> 6965\u001b[0m G \u001b[39m=\u001b[39m _groebner(polys, ring, method\u001b[39m=\u001b[39;49mopt\u001b[39m.\u001b[39;49mmethod)\n\u001b[0;32m   6966\u001b[0m G \u001b[39m=\u001b[39m [Poly\u001b[39m.\u001b[39m_from_dict(g, opt) \u001b[39mfor\u001b[39;00m g \u001b[39min\u001b[39;00m G]\n\u001b[0;32m   6968\u001b[0m \u001b[39mreturn\u001b[39;00m \u001b[39mcls\u001b[39m\u001b[39m.\u001b[39m_new(G, opt)\n",
      "File \u001b[1;32mc:\\Users\\Carl\\miniconda3\\envs\\physics\\lib\\site-packages\\sympy\\polys\\groebnertools.py:43\u001b[0m, in \u001b[0;36mgroebner\u001b[1;34m(seq, ring, method)\u001b[0m\n\u001b[0;32m     40\u001b[0m     \u001b[39melse\u001b[39;00m:\n\u001b[0;32m     41\u001b[0m         seq \u001b[39m=\u001b[39m [ s\u001b[39m.\u001b[39mset_ring(ring) \u001b[39mfor\u001b[39;00m s \u001b[39min\u001b[39;00m seq ]\n\u001b[1;32m---> 43\u001b[0m G \u001b[39m=\u001b[39m _groebner(seq, ring)\n\u001b[0;32m     45\u001b[0m \u001b[39mif\u001b[39;00m orig \u001b[39mis\u001b[39;00m \u001b[39mnot\u001b[39;00m \u001b[39mNone\u001b[39;00m:\n\u001b[0;32m     46\u001b[0m     G \u001b[39m=\u001b[39m [ g\u001b[39m.\u001b[39mclear_denoms()[\u001b[39m1\u001b[39m]\u001b[39m.\u001b[39mset_ring(orig) \u001b[39mfor\u001b[39;00m g \u001b[39min\u001b[39;00m G ]\n",
      "File \u001b[1;32mc:\\Users\\Carl\\miniconda3\\envs\\physics\\lib\\site-packages\\sympy\\polys\\groebnertools.py:204\u001b[0m, in \u001b[0;36m_buchberger\u001b[1;34m(f, ring)\u001b[0m\n\u001b[0;32m    201\u001b[0m     r \u001b[39m=\u001b[39m p\u001b[39m.\u001b[39mrem(f[:i])\n\u001b[0;32m    203\u001b[0m     \u001b[39mif\u001b[39;00m r:\n\u001b[1;32m--> 204\u001b[0m         f1\u001b[39m.\u001b[39mappend(r\u001b[39m.\u001b[39;49mmonic())\n\u001b[0;32m    206\u001b[0m \u001b[39mif\u001b[39;00m f \u001b[39m==\u001b[39m f1:\n\u001b[0;32m    207\u001b[0m     \u001b[39mbreak\u001b[39;00m\n",
      "File \u001b[1;32mc:\\Users\\Carl\\miniconda3\\envs\\physics\\lib\\site-packages\\sympy\\polys\\rings.py:1958\u001b[0m, in \u001b[0;36mPolyElement.monic\u001b[1;34m(f)\u001b[0m\n\u001b[0;32m   1956\u001b[0m     \u001b[39mreturn\u001b[39;00m f\n\u001b[0;32m   1957\u001b[0m \u001b[39melse\u001b[39;00m:\n\u001b[1;32m-> 1958\u001b[0m     \u001b[39mreturn\u001b[39;00m f\u001b[39m.\u001b[39;49mquo_ground(f\u001b[39m.\u001b[39;49mLC)\n",
      "File \u001b[1;32mc:\\Users\\Carl\\miniconda3\\envs\\physics\\lib\\site-packages\\sympy\\polys\\rings.py:1994\u001b[0m, in \u001b[0;36mPolyElement.quo_ground\u001b[1;34m(f, x)\u001b[0m\n\u001b[0;32m   1992\u001b[0m \u001b[39mif\u001b[39;00m domain\u001b[39m.\u001b[39mis_Field:\n\u001b[0;32m   1993\u001b[0m     quo \u001b[39m=\u001b[39m domain\u001b[39m.\u001b[39mquo\n\u001b[1;32m-> 1994\u001b[0m     terms \u001b[39m=\u001b[39m [ (monom, quo(coeff, x)) \u001b[39mfor\u001b[39;00m monom, coeff \u001b[39min\u001b[39;00m f\u001b[39m.\u001b[39miterterms() ]\n\u001b[0;32m   1995\u001b[0m \u001b[39melse\u001b[39;00m:\n\u001b[0;32m   1996\u001b[0m     terms \u001b[39m=\u001b[39m [ (monom, coeff \u001b[39m/\u001b[39m\u001b[39m/\u001b[39m x) \u001b[39mfor\u001b[39;00m monom, coeff \u001b[39min\u001b[39;00m f\u001b[39m.\u001b[39miterterms() \u001b[39mif\u001b[39;00m \u001b[39mnot\u001b[39;00m (coeff \u001b[39m%\u001b[39m x) ]\n",
      "File \u001b[1;32mc:\\Users\\Carl\\miniconda3\\envs\\physics\\lib\\site-packages\\sympy\\polys\\rings.py:1994\u001b[0m, in \u001b[0;36m<listcomp>\u001b[1;34m(.0)\u001b[0m\n\u001b[0;32m   1992\u001b[0m \u001b[39mif\u001b[39;00m domain\u001b[39m.\u001b[39mis_Field:\n\u001b[0;32m   1993\u001b[0m     quo \u001b[39m=\u001b[39m domain\u001b[39m.\u001b[39mquo\n\u001b[1;32m-> 1994\u001b[0m     terms \u001b[39m=\u001b[39m [ (monom, quo(coeff, x)) \u001b[39mfor\u001b[39;00m monom, coeff \u001b[39min\u001b[39;00m f\u001b[39m.\u001b[39miterterms() ]\n\u001b[0;32m   1995\u001b[0m \u001b[39melse\u001b[39;00m:\n\u001b[0;32m   1996\u001b[0m     terms \u001b[39m=\u001b[39m [ (monom, coeff \u001b[39m/\u001b[39m\u001b[39m/\u001b[39m x) \u001b[39mfor\u001b[39;00m monom, coeff \u001b[39min\u001b[39;00m f\u001b[39m.\u001b[39miterterms() \u001b[39mif\u001b[39;00m \u001b[39mnot\u001b[39;00m (coeff \u001b[39m%\u001b[39m x) ]\n",
      "File \u001b[1;32mc:\\Users\\Carl\\miniconda3\\envs\\physics\\lib\\site-packages\\sympy\\polys\\domains\\field.py:29\u001b[0m, in \u001b[0;36mField.quo\u001b[1;34m(self, a, b)\u001b[0m\n\u001b[0;32m     27\u001b[0m \u001b[39mdef\u001b[39;00m \u001b[39mquo\u001b[39m(\u001b[39mself\u001b[39m, a, b):\n\u001b[0;32m     28\u001b[0m     \u001b[39m\"\"\"Quotient of ``a`` and ``b``, implies ``__truediv__``. \"\"\"\u001b[39;00m\n\u001b[1;32m---> 29\u001b[0m     \u001b[39mreturn\u001b[39;00m a \u001b[39m/\u001b[39;49m b\n",
      "File \u001b[1;32mc:\\Users\\Carl\\miniconda3\\envs\\physics\\lib\\site-packages\\sympy\\polys\\fields.py:534\u001b[0m, in \u001b[0;36mFracElement.__truediv__\u001b[1;34m(f, g)\u001b[0m\n\u001b[0;32m    532\u001b[0m     \u001b[39mraise\u001b[39;00m \u001b[39mZeroDivisionError\u001b[39;00m\n\u001b[0;32m    533\u001b[0m \u001b[39melif\u001b[39;00m \u001b[39misinstance\u001b[39m(g, field\u001b[39m.\u001b[39mdtype):\n\u001b[1;32m--> 534\u001b[0m     \u001b[39mreturn\u001b[39;00m f\u001b[39m.\u001b[39;49mnew(f\u001b[39m.\u001b[39;49mnumer\u001b[39m*\u001b[39;49mg\u001b[39m.\u001b[39;49mdenom, f\u001b[39m.\u001b[39;49mdenom\u001b[39m*\u001b[39;49mg\u001b[39m.\u001b[39;49mnumer)\n\u001b[0;32m    535\u001b[0m \u001b[39melif\u001b[39;00m \u001b[39misinstance\u001b[39m(g, field\u001b[39m.\u001b[39mring\u001b[39m.\u001b[39mdtype):\n\u001b[0;32m    536\u001b[0m     \u001b[39mreturn\u001b[39;00m f\u001b[39m.\u001b[39mnew(f\u001b[39m.\u001b[39mnumer, f\u001b[39m.\u001b[39mdenom\u001b[39m*\u001b[39mg)\n",
      "File \u001b[1;32mc:\\Users\\Carl\\miniconda3\\envs\\physics\\lib\\site-packages\\sympy\\polys\\fields.py:299\u001b[0m, in \u001b[0;36mFracElement.new\u001b[1;34m(f, numer, denom)\u001b[0m\n\u001b[0;32m    298\u001b[0m \u001b[39mdef\u001b[39;00m \u001b[39mnew\u001b[39m(f, numer, denom):\n\u001b[1;32m--> 299\u001b[0m     \u001b[39mreturn\u001b[39;00m f\u001b[39m.\u001b[39;49mraw_new(\u001b[39m*\u001b[39;49mnumer\u001b[39m.\u001b[39;49mcancel(denom))\n",
      "File \u001b[1;32mc:\\Users\\Carl\\miniconda3\\envs\\physics\\lib\\site-packages\\sympy\\polys\\fields.py:297\u001b[0m, in \u001b[0;36mFracElement.raw_new\u001b[1;34m(f, numer, denom)\u001b[0m\n\u001b[0;32m    296\u001b[0m \u001b[39mdef\u001b[39;00m \u001b[39mraw_new\u001b[39m(f, numer, denom):\n\u001b[1;32m--> 297\u001b[0m     \u001b[39mreturn\u001b[39;00m f\u001b[39m.\u001b[39;49m\u001b[39m__class__\u001b[39;49m(numer, denom)\n",
      "File \u001b[1;32mc:\\Users\\Carl\\miniconda3\\envs\\physics\\lib\\site-packages\\sympy\\polys\\fields.py:291\u001b[0m, in \u001b[0;36mFracElement.__init__\u001b[1;34m(self, numer, denom)\u001b[0m\n\u001b[0;32m    289\u001b[0m     denom \u001b[39m=\u001b[39m \u001b[39mself\u001b[39m\u001b[39m.\u001b[39mfield\u001b[39m.\u001b[39mring\u001b[39m.\u001b[39mone\n\u001b[0;32m    290\u001b[0m \u001b[39melif\u001b[39;00m \u001b[39mnot\u001b[39;00m denom:\n\u001b[1;32m--> 291\u001b[0m     \u001b[39mraise\u001b[39;00m \u001b[39mZeroDivisionError\u001b[39;00m(\u001b[39m\"\u001b[39m\u001b[39mzero denominator\u001b[39m\u001b[39m\"\u001b[39m)\n\u001b[0;32m    293\u001b[0m \u001b[39mself\u001b[39m\u001b[39m.\u001b[39mnumer \u001b[39m=\u001b[39m numer\n\u001b[0;32m    294\u001b[0m \u001b[39mself\u001b[39m\u001b[39m.\u001b[39mdenom \u001b[39m=\u001b[39m denom\n",
      "\u001b[1;31mZeroDivisionError\u001b[0m: zero denominator"
     ]
    }
   ],
   "source": [
    "from sympy import nonlinsolve\n",
    "from perfect_physics import save\n",
    "\n",
    "cc_acc_all_solutions = nonlinsolve([eq1, eq2, eq3, eq4, eq5], t, aprime_x, aprime_y, bprime_x, bprime_y)\n",
    "cc_acc_time_solutions = [t for t, aprime_x, ap_y, bp_x, bp_y in cc_acc_all_solutions]\n",
    "save(cc_acc_time_solutions, \"cc_acc_time_solutions.sympy\")\n",
    "cc_acc_time_solutions[0]"
   ]
  },
  {
   "cell_type": "code",
   "execution_count": null,
   "metadata": {},
   "outputs": [],
   "source": []
  }
 ],
 "metadata": {
  "kernelspec": {
   "display_name": "Python 3.9.13 ('physics')",
   "language": "python",
   "name": "python3"
  },
  "language_info": {
   "codemirror_mode": {
    "name": "ipython",
    "version": 3
   },
   "file_extension": ".py",
   "mimetype": "text/x-python",
   "name": "python",
   "nbconvert_exporter": "python",
   "pygments_lexer": "ipython3",
   "version": "3.9.13"
  },
  "orig_nbformat": 4,
  "vscode": {
   "interpreter": {
    "hash": "de2c5f912e9a0618d7fb158eff1215fc01b4f796ca47df964c24240a61c494b2"
   }
  }
 },
 "nbformat": 4,
 "nbformat_minor": 2
}
