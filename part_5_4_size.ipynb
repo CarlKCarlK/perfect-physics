{
 "cells": [
  {
   "cell_type": "code",
   "execution_count": 1,
   "metadata": {},
   "outputs": [],
   "source": [
    "from pathlib import Path\n",
    "root = Path(\"m:/deldir/perfect_physics\")"
   ]
  },
  {
   "cell_type": "code",
   "execution_count": 4,
   "metadata": {},
   "outputs": [],
   "source": [
    "from perfect_physics import World, Circle, Wall\n",
    "\n",
    "world_width = 40\n",
    "radius_list = [1, 2, 3, 4]\n",
    "mass_list = [1, 1_000, 1_000_000, 1_000_000_000]\n",
    "\n",
    "mass_string = \"-\".join([str(m) for m in mass_list])\n",
    "folder = root / f\"part5/n_size_{mass_string}\"\n",
    "\n",
    "assert len(radius_list) == len(mass_list)\n",
    "\n",
    "x = 0\n",
    "circle_list = []\n",
    "for radius, mass in zip(radius_list, mass_list):\n",
    "    x += radius\n",
    "    circle = Circle(x=x,y=0,r=radius,vx=1,vy=0,m=mass)\n",
    "    x += radius\n",
    "    circle_list.append(circle)\n",
    "wall_list = [Wall(x0=0, y0=0, x1=0, y1=1), Wall(x0=world_width, y0=0, x1=world_width, y1=1)]\n",
    "world = World(circle_list, wall_list, xlim=(-1, world_width + 1), ylim=(-radius_list[-1] - 1, radius_list[-1] + 1))\n",
    "if False:\n",
    "    # world.show()\n",
    "    world.run_in_place(3, show=True)\n",
    "    print([circle.vx for circle in world.circle_list])\n",
    "    print([float(circle.vx) for circle in world.circle_list])\n",
    "else:\n",
    "    world.run_to_file(folder, 12_000)\n",
    "    World.render(folder, speed_up=10)"
   ]
  },
  {
   "cell_type": "code",
   "execution_count": null,
   "metadata": {},
   "outputs": [],
   "source": []
  }
 ],
 "metadata": {
  "kernelspec": {
   "display_name": "Python 3.9.13 ('physics')",
   "language": "python",
   "name": "python3"
  },
  "language_info": {
   "codemirror_mode": {
    "name": "ipython",
    "version": 3
   },
   "file_extension": ".py",
   "mimetype": "text/x-python",
   "name": "python",
   "nbconvert_exporter": "python",
   "pygments_lexer": "ipython3",
   "version": "3.9.13"
  },
  "orig_nbformat": 4,
  "vscode": {
   "interpreter": {
    "hash": "de2c5f912e9a0618d7fb158eff1215fc01b4f796ca47df964c24240a61c494b2"
   }
  }
 },
 "nbformat": 4,
 "nbformat_minor": 2
}
