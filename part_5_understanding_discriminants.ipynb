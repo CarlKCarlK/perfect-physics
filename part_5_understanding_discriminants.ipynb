{
 "cells": [
  {
   "cell_type": "code",
   "execution_count": 1,
   "metadata": {},
   "outputs": [
    {
     "data": {
      "text/latex": [
       "$\\displaystyle - \\frac{b \\left(- \\frac{a \\sqrt{a^{2} r^{2} + b^{2} r^{2} - c^{2}}}{a^{2} + b^{2}} + \\frac{b c}{a^{2} + b^{2}}\\right) - c}{a}$"
      ],
      "text/plain": [
       "-(b*(-a*sqrt(a**2*r**2 + b**2*r**2 - c**2)/(a**2 + b**2) + b*c/(a**2 + b**2)) - c)/a"
      ]
     },
     "metadata": {},
     "output_type": "display_data"
    },
    {
     "data": {
      "text/latex": [
       "$\\displaystyle \\frac{a^{2} r^{2} + b^{2} r^{2} - c^{2}}{\\left(a^{2} + b^{2}\\right)^{2}} + \\frac{4 c^{2}}{a \\left(a^{3} + a b^{2}\\right)}$"
      ],
      "text/plain": [
       "(a**2*r**2 + b**2*r**2 - c**2)/(a**2 + b**2)**2 + 4*c**2/(a*(a**3 + a*b**2))"
      ]
     },
     "metadata": {},
     "output_type": "display_data"
    },
    {
     "data": {
      "text/latex": [
       "$\\displaystyle - \\frac{a \\sqrt{a^{2} r^{2} + b^{2} r^{2} - c^{2}}}{a^{2} + b^{2}} + \\frac{b c}{a^{2} + b^{2}}$"
      ],
      "text/plain": [
       "-a*sqrt(a**2*r**2 + b**2*r**2 - c**2)/(a**2 + b**2) + b*c/(a**2 + b**2)"
      ]
     },
     "metadata": {},
     "output_type": "display_data"
    },
    {
     "data": {
      "text/latex": [
       "$\\displaystyle 1$"
      ],
      "text/plain": [
       "1"
      ]
     },
     "metadata": {},
     "output_type": "display_data"
    },
    {
     "data": {
      "text/latex": [
       "$\\displaystyle - \\frac{b \\left(\\frac{a \\sqrt{a^{2} r^{2} + b^{2} r^{2} - c^{2}}}{a^{2} + b^{2}} + \\frac{b c}{a^{2} + b^{2}}\\right) - c}{a}$"
      ],
      "text/plain": [
       "-(b*(a*sqrt(a**2*r**2 + b**2*r**2 - c**2)/(a**2 + b**2) + b*c/(a**2 + b**2)) - c)/a"
      ]
     },
     "metadata": {},
     "output_type": "display_data"
    },
    {
     "data": {
      "text/latex": [
       "$\\displaystyle \\frac{a^{2} r^{2} + b^{2} r^{2} - c^{2}}{\\left(a^{2} + b^{2}\\right)^{2}} + \\frac{4 c^{2}}{a \\left(a^{3} + a b^{2}\\right)}$"
      ],
      "text/plain": [
       "(a**2*r**2 + b**2*r**2 - c**2)/(a**2 + b**2)**2 + 4*c**2/(a*(a**3 + a*b**2))"
      ]
     },
     "metadata": {},
     "output_type": "display_data"
    },
    {
     "data": {
      "text/latex": [
       "$\\displaystyle \\frac{a \\sqrt{a^{2} r^{2} + b^{2} r^{2} - c^{2}}}{a^{2} + b^{2}} + \\frac{b c}{a^{2} + b^{2}}$"
      ],
      "text/plain": [
       "a*sqrt(a**2*r**2 + b**2*r**2 - c**2)/(a**2 + b**2) + b*c/(a**2 + b**2)"
      ]
     },
     "metadata": {},
     "output_type": "display_data"
    },
    {
     "data": {
      "text/latex": [
       "$\\displaystyle 1$"
      ],
      "text/plain": [
       "1"
      ]
     },
     "metadata": {},
     "output_type": "display_data"
    }
   ],
   "source": [
    "# understanding_discriminants\n",
    "\n",
    "# Does a circle and line intersect?\n",
    "import sympy as sp\n",
    "from sympy import discriminant\n",
    "\n",
    "# Define symbols\n",
    "x, y = sp.symbols('x y')\n",
    "r, a, b, c = sp.symbols('r a b c', real=True)\n",
    "eq1 = sp.Eq(x**2 + y**2, r**2)\n",
    "eq2 = sp.Eq(a*x + b*y, c)\n",
    "sol = sp.solve([eq1, eq2], (x, y))\n",
    "for i in sol:\n",
    "    display(i[0])\n",
    "    display(discriminant(i[0]))\n",
    "    display(i[1])\n",
    "    display(discriminant(i[1]))\n"
   ]
  },
  {
   "cell_type": "code",
   "execution_count": 3,
   "metadata": {},
   "outputs": [
    {
     "data": {
      "text/latex": [
       "$\\displaystyle \\frac{a^{2} r^{2} + b^{2} r^{2} - c^{2}}{\\left(a^{2} + b^{2}\\right)^{2}} + \\frac{4 c^{2}}{a \\left(a^{3} + a b^{2}\\right)}$"
      ],
      "text/plain": [
       "(a**2*r**2 + b**2*r**2 - c**2)/(a**2 + b**2)**2 + 4*c**2/(a*(a**3 + a*b**2))"
      ]
     },
     "metadata": {},
     "output_type": "display_data"
    }
   ],
   "source": [
    "from sympy import discriminant\n",
    "\n",
    "display(discriminant(list(sol)[0][0]))"
   ]
  },
  {
   "cell_type": "code",
   "execution_count": 4,
   "metadata": {},
   "outputs": [
    {
     "data": {
      "text/plain": [
       "True"
      ]
     },
     "execution_count": 4,
     "metadata": {},
     "output_type": "execute_result"
    }
   ],
   "source": [
    "discriminant(list(sol)[1][0]) == discriminant(list(sol)[0][0])"
   ]
  },
  {
   "cell_type": "code",
   "execution_count": 8,
   "metadata": {},
   "outputs": [
    {
     "data": {
      "text/plain": [
       "{a: -sqrt(-b**2*r**2 + c**2)/r}"
      ]
     },
     "execution_count": 8,
     "metadata": {},
     "output_type": "execute_result"
    }
   ],
   "source": [
    "sp.solve(sp.im(list(sol)[1][0]))[0]"
   ]
  },
  {
   "cell_type": "code",
   "execution_count": 6,
   "metadata": {},
   "outputs": [
    {
     "data": {
      "text/latex": [
       "$\\displaystyle c + x^{2} + 1 = 0$"
      ],
      "text/plain": [
       "Eq(c + x**2 + 1, 0)"
      ]
     },
     "execution_count": 6,
     "metadata": {},
     "output_type": "execute_result"
    }
   ],
   "source": [
    "# restart\n",
    "\n",
    "import sympy as sp\n",
    "\n",
    "# Define symbols\n",
    "x = sp.symbols('x')\n",
    "c = sp.symbols('c', real=True)\n",
    "\n",
    "eq1 = sp.Eq(x**2 + 1 + c, 0)\n",
    "eq1"
   ]
  },
  {
   "cell_type": "code",
   "execution_count": 10,
   "metadata": {},
   "outputs": [
    {
     "data": {
      "text/plain": [
       "[-sqrt(-c - 1), sqrt(-c - 1)]"
      ]
     },
     "execution_count": 10,
     "metadata": {},
     "output_type": "execute_result"
    }
   ],
   "source": [
    "sol_list = sp.solve(eq1, x)\n",
    "sol_list"
   ]
  },
  {
   "cell_type": "code",
   "execution_count": 8,
   "metadata": {},
   "outputs": [
    {
     "data": {
      "text/latex": [
       "$\\displaystyle - 4 c - 4$"
      ],
      "text/plain": [
       "-4*c - 4"
      ]
     },
     "execution_count": 8,
     "metadata": {},
     "output_type": "execute_result"
    }
   ],
   "source": [
    "sp.discriminant(eq1)"
   ]
  },
  {
   "cell_type": "code",
   "execution_count": 9,
   "metadata": {},
   "outputs": [
    {
     "data": {
      "text/plain": [
       "[-1]"
      ]
     },
     "execution_count": 9,
     "metadata": {},
     "output_type": "execute_result"
    }
   ],
   "source": [
    "sp.solve(sp.discriminant(eq1))"
   ]
  },
  {
   "cell_type": "code",
   "execution_count": 18,
   "metadata": {},
   "outputs": [
    {
     "data": {
      "text/plain": [
       "[-1]"
      ]
     },
     "execution_count": 18,
     "metadata": {},
     "output_type": "execute_result"
    }
   ],
   "source": [
    "sp.solve(sp.im(list(sol_list)[0]),c)"
   ]
  },
  {
   "cell_type": "code",
   "execution_count": 3,
   "metadata": {},
   "outputs": [],
   "source": [
    "import sympy as sp\n",
    "\n",
    "# Define the symbols\n",
    "x = sp.symbols('x')\n",
    "a, b, c = sp.symbols('a b c', real=True)\n",
    "\n",
    "# Define the quadratic formula\n",
    "eq1 = a*x**2 + b*x + c\n",
    "#qf = (-b + sqrt(b**2 - 4*a*c))/(2*a), (-b - sqrt(b**2 - 4*a*c))/(2*a)\n",
    "#qf[0]\n"
   ]
  },
  {
   "cell_type": "code",
   "execution_count": 8,
   "metadata": {},
   "outputs": [
    {
     "data": {
      "text/latex": [
       "$\\displaystyle \\frac{- b - \\sqrt{- 4 a c + b^{2}}}{2 a}$"
      ],
      "text/plain": [
       "(-b - sqrt(-4*a*c + b**2))/(2*a)"
      ]
     },
     "metadata": {},
     "output_type": "display_data"
    },
    {
     "data": {
      "text/latex": [
       "$\\displaystyle \\frac{- b + \\sqrt{- 4 a c + b^{2}}}{2 a}$"
      ],
      "text/plain": [
       "(-b + sqrt(-4*a*c + b**2))/(2*a)"
      ]
     },
     "metadata": {},
     "output_type": "display_data"
    }
   ],
   "source": [
    "sol_list = list(sp.solve(eq1, x))\n",
    "display(sol_list[0])\n",
    "display(sol_list[1])"
   ]
  },
  {
   "cell_type": "code",
   "execution_count": 16,
   "metadata": {},
   "outputs": [
    {
     "data": {
      "text/plain": [
       "[{a: b**2/(4*c)}]"
      ]
     },
     "execution_count": 16,
     "metadata": {},
     "output_type": "execute_result"
    }
   ],
   "source": [
    "sp.solve(sp.Eq(sp.im(sol_list[1]),0))\n"
   ]
  },
  {
   "cell_type": "code",
   "execution_count": 15,
   "metadata": {},
   "outputs": [
    {
     "data": {
      "text/plain": [
       "[{a: b**2/(4*c)}]"
      ]
     },
     "execution_count": 15,
     "metadata": {},
     "output_type": "execute_result"
    }
   ],
   "source": [
    "sp.solve(sp.discriminant(eq1))"
   ]
  },
  {
   "cell_type": "code",
   "execution_count": null,
   "metadata": {},
   "outputs": [],
   "source": []
  }
 ],
 "metadata": {
  "kernelspec": {
   "display_name": "Python 3",
   "language": "python",
   "name": "python3"
  },
  "language_info": {
   "codemirror_mode": {
    "name": "ipython",
    "version": 3
   },
   "file_extension": ".py",
   "mimetype": "text/x-python",
   "name": "python",
   "nbconvert_exporter": "python",
   "pygments_lexer": "ipython3",
   "version": "3.9.16"
  },
  "orig_nbformat": 4
 },
 "nbformat": 4,
 "nbformat_minor": 2
}
