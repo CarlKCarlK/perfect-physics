{
 "cells": [
  {
   "cell_type": "code",
   "execution_count": 1,
   "metadata": {},
   "outputs": [],
   "source": [
    "from pathlib import Path\n",
    "root = Path(\"m:/deldir/perfect_physics\")"
   ]
  },
  {
   "cell_type": "code",
   "execution_count": 6,
   "metadata": {},
   "outputs": [],
   "source": [
    "from perfect_physics import World, Circle, Wall\n",
    "\n",
    "big_radius = 10\n",
    "world_width = 40\n",
    "folder = root / f\"part1/two_size{big_radius}\"\n",
    "\n",
    "big = Circle(x=world_width // 2, y=0, r=big_radius, vx=1, vy=0, m=big_radius**3)\n",
    "little = Circle(x=big.x - big_radius - 1, y=0, r=1, vx=1, vy=0, m=1)\n",
    "circle_list = [big, little]\n",
    "wall_list = [Wall(x0=0, y0=0, x1=0, y1=1), Wall(x0=world_width, y0=0, x1=world_width, y1=1)]\n",
    "world = World(circle_list, wall_list, xlim=(-1, world_width + 1), ylim=(-big_radius - 1, big_radius + 1))\n",
    "if False:\n",
    "    world.run_in_place(2, show=True)\n",
    "    print([circle.vx for circle in world.circle_list])\n",
    "else:\n",
    "    world.run_to_file(folder, 2000)\n",
    "    World.render(folder, speed_up=10)"
   ]
  },
  {
   "cell_type": "code",
   "execution_count": 5,
   "metadata": {},
   "outputs": [
    {
     "name": "stdout",
     "output_type": "stream",
     "text": [
      "(1 - 3*a_m)/(a_m + 1)\n"
     ]
    },
    {
     "data": {
      "text/latex": [
       "$\\displaystyle -3$"
      ],
      "text/plain": [
       "-3"
      ]
     },
     "execution_count": 5,
     "metadata": {},
     "output_type": "execute_result"
    }
   ],
   "source": [
    "from sympy import limit, simplify, oo\n",
    "from perfect_physics import load\n",
    "cc_velocity_solution = load(\"data/cc_velocity_solution.sympy\")\n",
    "a_vx, a_vy, b_vx, b_vy  = cc_velocity_solution.subs([(\"a_x\", 10), (\"a_y\", 0), (\"a_r\", 10), (\"a_vx\", -1), (\"a_vy\", 0),\n",
    "                            (\"b_x\", -1), (\"b_y\", 0), (\"b_r\", 1), (\"b_vx\", 1), (\"b_vy\", 0), (\"b_m\", 1)])\n",
    "print(simplify(b_vx))\n",
    "limit(b_vx, \"a_m\", oo)\n",
    "# prints (1 - 3*a_m)/(a_m + 1)\n",
    "# returns -3"
   ]
  }
 ],
 "metadata": {
  "kernelspec": {
   "display_name": "Python 3.9.13 ('physics')",
   "language": "python",
   "name": "python3"
  },
  "language_info": {
   "codemirror_mode": {
    "name": "ipython",
    "version": 3
   },
   "file_extension": ".py",
   "mimetype": "text/x-python",
   "name": "python",
   "nbconvert_exporter": "python",
   "pygments_lexer": "ipython3",
   "version": "3.9.13"
  },
  "orig_nbformat": 4,
  "vscode": {
   "interpreter": {
    "hash": "de2c5f912e9a0618d7fb158eff1215fc01b4f796ca47df964c24240a61c494b2"
   }
  }
 },
 "nbformat": 4,
 "nbformat_minor": 2
}
