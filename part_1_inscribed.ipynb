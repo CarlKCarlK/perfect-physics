{
    "cells": [
        {
            "cell_type": "code",
            "execution_count": 1,
            "metadata": {},
            "outputs": [],
            "source": [
                "from pathlib import Path\n",
                'root = Path("m:/projects/perfect_physics")',
            ],
        },
        {
            "cell_type": "code",
            "execution_count": 2,
            "metadata": {},
            "outputs": [
                {
                    "name": "stdout",
                    "output_type": "stream",
                    "text": [
                        "Moviepy - Building video m:\\deldir\\perfect_physics\\part1\\inscribed_1_0_3_10\\render_events\\inscribed_1_0_3_10.events.avi.\n",
                        "MoviePy - Writing audio in inscribed_1_0_3_10.eventsTEMP_MPY_wvf_snd.mp3\n",
                    ],
                },
                {
                    "name": "stderr",
                    "output_type": "stream",
                    "text": [
                        "                                                                   \r"
                    ],
                },
                {
                    "name": "stdout",
                    "output_type": "stream",
                    "text": [
                        "MoviePy - Done.\n",
                        "Moviepy - Writing video m:\\deldir\\perfect_physics\\part1\\inscribed_1_0_3_10\\render_events\\inscribed_1_0_3_10.events.avi\n",
                        "\n",
                    ],
                },
                {
                    "name": "stderr",
                    "output_type": "stream",
                    "text": [
                        "                                                              \r"
                    ],
                },
                {
                    "name": "stdout",
                    "output_type": "stream",
                    "text": [
                        "Moviepy - Done !\n",
                        "Moviepy - video ready m:\\deldir\\perfect_physics\\part1\\inscribed_1_0_3_10\\render_events\\inscribed_1_0_3_10.events.avi\n",
                    ],
                },
            ],
            "source": [
                "import logging\n",
                "import numpy as np\n",
                "from perfect_physics import World\n",
                "\n",
                "logger = logging.getLogger()\n",
                "logger.setLevel(logging.WARNING)\n",
                "\n",
                "circle_count = 1\n",
                "circle_of_circle_radius = 0\n",
                "wall_count = 3\n",
                "circle_of_wall_radius = 10\n",
                'folder = root / f"part1/inscribed_{circle_count}_{circle_of_circle_radius}_{wall_count}_{circle_of_wall_radius}"\n',
                "world = World.inscribed(\n",
                "    circle_of_circle_radius, circle_count, circle_of_wall_radius, wall_count\n",
                ")\n",
                "\n",
                "\n",
                "if False:\n",
                "    # world.show()\n",
                "    world.run_in_place(5, show=True)\n",
                "else:\n",
                "    world.run_to_file(folder, 75)\n",
                "    World.render(folder, speed_up=10, slice=np.s_[0:30])\n",
                "    World.render_events(folder, slice=np.s_[0:15])",
            ],
        },
        {
            "cell_type": "code",
            "execution_count": null,
            "metadata": {},
            "outputs": [],
            "source": [],
        },
    ],
    "metadata": {
        "kernelspec": {
            "display_name": "Python 3.9.13 ('physics')",
            "language": "python",
            "name": "python3",
        },
        "language_info": {
            "codemirror_mode": {"name": "ipython", "version": 3},
            "file_extension": ".py",
            "mimetype": "text/x-python",
            "name": "python",
            "nbconvert_exporter": "python",
            "pygments_lexer": "ipython3",
            "version": "3.9.13",
        },
        "orig_nbformat": 4,
        "vscode": {
            "interpreter": {
                "hash": "de2c5f912e9a0618d7fb158eff1215fc01b4f796ca47df964c24240a61c494b2"
            }
        },
    },
    "nbformat": 4,
    "nbformat_minor": 2,
}
