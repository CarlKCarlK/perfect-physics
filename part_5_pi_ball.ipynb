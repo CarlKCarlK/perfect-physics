{
 "cells": [
  {
   "cell_type": "code",
   "execution_count": 2,
   "metadata": {},
   "outputs": [],
   "source": [
    "from sympy import latex\n",
    "from perfect_physics import World, Circle, Wall\n",
    "def run_in_place(world, steps, target, fig_factor=1, clear=True):\n",
    "    if clear:\n",
    "        js.document.getElementById(target).innerHTML = ''\n",
    "    world.run_in_place(steps, show=True,\n",
    "    show_fun=lambda figure: display(figure, target=target, append=True),\n",
    "    figsize=(19.2 / 4, 10.8 / 4 * fig_factor)\n",
    ")\n"
   ]
  },
  {
   "cell_type": "code",
   "execution_count": null,
   "metadata": {},
   "outputs": [],
   "source": [
    "from sympy import S\n",
    "from perfect_physics import Timeline\n",
    "from perfect_physics._timeline import Collision\n",
    "\n",
    "def count_collions(right_mass, max_count, show=False, font_scale=1, **kwargs):\n",
    "    world_width = 5\n",
    "    left = Circle(x=2, y=0, r=1, vx=0, vy=0, m=1)\n",
    "    right = Circle(x=6 if right_mass > 1 else 5, y=0, r=2 if right_mass > 1 else 1, vx=-1, vy=0, m=right_mass)\n",
    "    circle_list = [left, right]\n",
    "    wall_list = [ Wall(x0=0, y0=0, x1=0, y1=1)]\n",
    "    world = World(circle_list, wall_list, xlim=(-1, world_width + 1), ylim=(-1 - 1, 1 + 1))\n",
    "\n",
    "    count = 0\n",
    "    world.show(show=show, font_scale=font_scale, **kwargs)\n",
    "    hint_ssca_list = []\n",
    "    timeline = Timeline()\n",
    "    for i in range(max_count):\n",
    "        ss_calist, hint_ssca_list = world._tick(timeline, hint_ssca_list, default_tick=0)\n",
    "        world.show(\n",
    "            show=show and ss_calist[0] is not S.Zero,\n",
    "            font_scale=font_scale,\n",
    "            **kwargs,\n",
    "        )\n",
    "        world._tock(ss_calist, timeline)\n",
    "        world.show(show=show, font_scale=font_scale, **kwargs)\n",
    "        # print(f\"x {timeline.events[-1]}\")\n",
    "        if not isinstance(timeline.events[-1],Collision):\n",
    "            break\n",
    "        count += 1\n",
    "    return count\n",
    "\n",
    "right_mass = 1_000_000\n",
    "max_steps = 4000\n",
    "show = False\n",
    "show_fun=None # lambda figure: display(figure, target=\"newtonOutput\", append=True)\n",
    "\n",
    "count = count_collions(right_mass, max_steps, show=show, show_fun=show_fun)\n",
    "print(f\"count: {count}\")\n"
   ]
  },
  {
   "cell_type": "code",
   "execution_count": null,
   "metadata": {},
   "outputs": [],
   "source": [
    "def count_collisions(right_mass, target, show=False, font_scale=.5, clear=True):\n",
    "    if clear:\n",
    "        js.document.getElementById(target).innerHTML = ''\n",
    "    show_fun=lambda figure: display(figure, target=target, append=True)\n",
    "    world_width = 5\n",
    "    left = Circle(x=2, y=0, r=1, vx=0, vy=0, m=1)\n",
    "    right = Circle(x=6 if right_mass > 1 else 5, y=0, r=2 if right_mass > 1 else 1, vx=-1, vy=0, m=right_mass)\n",
    "    circle_list = [left, right]\n",
    "    wall_list = [ Wall(x0=0, y0=0, x1=0, y1=1)]\n",
    "    world = World(circle_list, wall_list, xlim=(-1, world_width + 1), ylim=(-1 - 1, 1 + 1))\n",
    "    count = 0\n",
    "    world.show(show=show, font_scale=font_scale)\n",
    "    hint_ssca_list = []\n",
    "    timeline = Timeline()\n",
    "    while True:\n",
    "        ss_calist, hint_ssca_list = world._tick(timeline, hint_ssca_list, default_tick=0)\n",
    "        world.show(\n",
    "            show=show and ss_calist[0] is not S.Zero,\n",
    "            font_scale=font_scale,\n",
    "            show_fun=show_fun,\n",
    "        )\n",
    "        world._tock(ss_calist, timeline)\n",
    "        world.show(show=show, font_scale=font_scale)\n",
    "        # print(f\"x {timeline.events[-1]}\")\n",
    "        if not isinstance(timeline.events[-1],Collision):\n",
    "            break\n",
    "        count += 1\n",
    "    return count"
   ]
  }
 ],
 "metadata": {
  "kernelspec": {
   "display_name": "Python 3",
   "language": "python",
   "name": "python3"
  },
  "language_info": {
   "name": "python",
   "version": "3.9.16"
  },
  "orig_nbformat": 4
 },
 "nbformat": 4,
 "nbformat_minor": 2
}
