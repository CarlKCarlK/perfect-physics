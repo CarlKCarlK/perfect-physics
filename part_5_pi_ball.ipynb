{
 "cells": [
  {
   "cell_type": "code",
   "execution_count": 2,
   "metadata": {},
   "outputs": [],
   "source": [
    "from sympy import latex\n",
    "from perfect_physics import World, Circle, Wall\n",
    "def run_in_place(world, steps, target, fig_factor=1, clear=True):\n",
    "    if clear:\n",
    "        js.document.getElementById(target).innerHTML = ''\n",
    "    world.run_in_place(steps, show=True,\n",
    "    show_fun=lambda figure: display(figure, target=target, append=True),\n",
    "    figsize=(19.2 / 4, 10.8 / 4 * fig_factor)\n",
    ")\n"
   ]
  },
  {
   "cell_type": "code",
   "execution_count": 4,
   "metadata": {},
   "outputs": [
    {
     "ename": "ValueError",
     "evalue": "Exceeds the limit (4300) for integer string conversion; use sys.set_int_max_str_digits() to increase the limit",
     "output_type": "error",
     "traceback": [
      "\u001b[1;31m---------------------------------------------------------------------------\u001b[0m",
      "\u001b[1;31mValueError\u001b[0m                                Traceback (most recent call last)",
      "Cell \u001b[1;32mIn[4], line 37\u001b[0m\n\u001b[0;32m     34\u001b[0m show \u001b[39m=\u001b[39m \u001b[39mFalse\u001b[39;00m\n\u001b[0;32m     35\u001b[0m show_fun\u001b[39m=\u001b[39m\u001b[39mNone\u001b[39;00m \u001b[39m# lambda figure: display(figure, target=\"newtonOutput\", append=True)\u001b[39;00m\n\u001b[1;32m---> 37\u001b[0m count \u001b[39m=\u001b[39m count_collions(right_mass, max_steps, show\u001b[39m=\u001b[39;49mshow, show_fun\u001b[39m=\u001b[39;49mshow_fun)\n\u001b[0;32m     38\u001b[0m \u001b[39mprint\u001b[39m(\u001b[39mf\u001b[39m\u001b[39m\"\u001b[39m\u001b[39mcount: \u001b[39m\u001b[39m{\u001b[39;00mcount\u001b[39m}\u001b[39;00m\u001b[39m\"\u001b[39m)\n",
      "Cell \u001b[1;32mIn[4], line 18\u001b[0m, in \u001b[0;36mcount_collions\u001b[1;34m(right_mass, max_count, show, font_scale, **kwargs)\u001b[0m\n\u001b[0;32m     16\u001b[0m timeline \u001b[39m=\u001b[39m Timeline()\n\u001b[0;32m     17\u001b[0m \u001b[39mfor\u001b[39;00m i \u001b[39min\u001b[39;00m \u001b[39mrange\u001b[39m(max_count):\n\u001b[1;32m---> 18\u001b[0m     ss_calist, hint_ssca_list \u001b[39m=\u001b[39m world\u001b[39m.\u001b[39;49m_tick(timeline, hint_ssca_list, default_tick\u001b[39m=\u001b[39;49m\u001b[39m0\u001b[39;49m)\n\u001b[0;32m     19\u001b[0m     world\u001b[39m.\u001b[39mshow(\n\u001b[0;32m     20\u001b[0m         show\u001b[39m=\u001b[39mshow \u001b[39mand\u001b[39;00m ss_calist[\u001b[39m0\u001b[39m] \u001b[39mis\u001b[39;00m \u001b[39mnot\u001b[39;00m S\u001b[39m.\u001b[39mZero,\n\u001b[0;32m     21\u001b[0m         font_scale\u001b[39m=\u001b[39mfont_scale,\n\u001b[0;32m     22\u001b[0m         \u001b[39m*\u001b[39m\u001b[39m*\u001b[39mkwargs,\n\u001b[0;32m     23\u001b[0m     )\n\u001b[0;32m     24\u001b[0m     world\u001b[39m.\u001b[39m_tock(ss_calist, timeline)\n",
      "File \u001b[1;32mo:\\programs\\perfect-physics\\perfect_physics\\_world.py:93\u001b[0m, in \u001b[0;36mWorld._tick\u001b[1;34m(self, timeline, hint_ssca_list, default_tick, runner)\u001b[0m\n\u001b[0;32m     91\u001b[0m     logging\u001b[39m.\u001b[39mdebug(\u001b[39m\"\u001b[39m\u001b[39mtick simplify\u001b[39m\u001b[39m\"\u001b[39m)\n\u001b[0;32m     92\u001b[0m     \u001b[39mself\u001b[39m\u001b[39m.\u001b[39mclock \u001b[39m=\u001b[39m simplify(\u001b[39mself\u001b[39m\u001b[39m.\u001b[39mclock \u001b[39m+\u001b[39m span)\n\u001b[1;32m---> 93\u001b[0m     logging\u001b[39m.\u001b[39minfo(\u001b[39mf\u001b[39m\u001b[39m\"\u001b[39m\u001b[39mtick finish: clock=\u001b[39m\u001b[39m{\u001b[39;00m\u001b[39mself\u001b[39m\u001b[39m.\u001b[39mclock\u001b[39m}\u001b[39;00m\u001b[39m\"\u001b[39m)\n\u001b[0;32m     94\u001b[0m     timeline\u001b[39m.\u001b[39mappend(TimeNow(\u001b[39mfloat\u001b[39m(\u001b[39mself\u001b[39m\u001b[39m.\u001b[39mclock)))\n\u001b[0;32m     95\u001b[0m \u001b[39mreturn\u001b[39;00m (span, span_float, ca_list), hint_ssca_list\n",
      "File \u001b[1;32mo:\\programs\\perfect-physics\\.conda\\lib\\site-packages\\sympy\\core\\expr.py:394\u001b[0m, in \u001b[0;36mExpr.__format__\u001b[1;34m(self, format_spec)\u001b[0m\n\u001b[0;32m    392\u001b[0m         \u001b[39mif\u001b[39;00m rounded\u001b[39m.\u001b[39mis_Float:\n\u001b[0;32m    393\u001b[0m             \u001b[39mreturn\u001b[39;00m \u001b[39mformat\u001b[39m(rounded, format_spec)\n\u001b[1;32m--> 394\u001b[0m \u001b[39mreturn\u001b[39;00m \u001b[39msuper\u001b[39;49m()\u001b[39m.\u001b[39;49m\u001b[39m__format__\u001b[39;49m(format_spec)\n",
      "File \u001b[1;32mo:\\programs\\perfect-physics\\.conda\\lib\\site-packages\\sympy\\core\\_print_helpers.py:29\u001b[0m, in \u001b[0;36mPrintable.__str__\u001b[1;34m(self)\u001b[0m\n\u001b[0;32m     27\u001b[0m \u001b[39mdef\u001b[39;00m \u001b[39m__str__\u001b[39m(\u001b[39mself\u001b[39m):\n\u001b[0;32m     28\u001b[0m     \u001b[39mfrom\u001b[39;00m \u001b[39msympy\u001b[39;00m\u001b[39m.\u001b[39;00m\u001b[39mprinting\u001b[39;00m\u001b[39m.\u001b[39;00m\u001b[39mstr\u001b[39;00m \u001b[39mimport\u001b[39;00m sstr\n\u001b[1;32m---> 29\u001b[0m     \u001b[39mreturn\u001b[39;00m sstr(\u001b[39mself\u001b[39;49m, order\u001b[39m=\u001b[39;49m\u001b[39mNone\u001b[39;49;00m)\n",
      "File \u001b[1;32mo:\\programs\\perfect-physics\\.conda\\lib\\site-packages\\sympy\\printing\\printer.py:372\u001b[0m, in \u001b[0;36m_PrintFunction.__call__\u001b[1;34m(self, *args, **kwargs)\u001b[0m\n\u001b[0;32m    371\u001b[0m \u001b[39mdef\u001b[39;00m \u001b[39m__call__\u001b[39m(\u001b[39mself\u001b[39m, \u001b[39m*\u001b[39margs, \u001b[39m*\u001b[39m\u001b[39m*\u001b[39mkwargs):\n\u001b[1;32m--> 372\u001b[0m     \u001b[39mreturn\u001b[39;00m \u001b[39mself\u001b[39m\u001b[39m.\u001b[39m__wrapped__(\u001b[39m*\u001b[39margs, \u001b[39m*\u001b[39m\u001b[39m*\u001b[39mkwargs)\n",
      "File \u001b[1;32mo:\\programs\\perfect-physics\\.conda\\lib\\site-packages\\sympy\\printing\\str.py:1000\u001b[0m, in \u001b[0;36msstr\u001b[1;34m(expr, **settings)\u001b[0m\n\u001b[0;32m    984\u001b[0m \u001b[39m\u001b[39m\u001b[39m\"\"\"Returns the expression as a string.\u001b[39;00m\n\u001b[0;32m    985\u001b[0m \n\u001b[0;32m    986\u001b[0m \u001b[39mFor large expressions where speed is a concern, use the setting\u001b[39;00m\n\u001b[1;32m   (...)\u001b[0m\n\u001b[0;32m    996\u001b[0m \u001b[39m'Eq(a + b, 0)'\u001b[39;00m\n\u001b[0;32m    997\u001b[0m \u001b[39m\"\"\"\u001b[39;00m\n\u001b[0;32m    999\u001b[0m p \u001b[39m=\u001b[39m StrPrinter(settings)\n\u001b[1;32m-> 1000\u001b[0m s \u001b[39m=\u001b[39m p\u001b[39m.\u001b[39;49mdoprint(expr)\n\u001b[0;32m   1002\u001b[0m \u001b[39mreturn\u001b[39;00m s\n",
      "File \u001b[1;32mo:\\programs\\perfect-physics\\.conda\\lib\\site-packages\\sympy\\printing\\printer.py:292\u001b[0m, in \u001b[0;36mPrinter.doprint\u001b[1;34m(self, expr)\u001b[0m\n\u001b[0;32m    290\u001b[0m \u001b[39mdef\u001b[39;00m \u001b[39mdoprint\u001b[39m(\u001b[39mself\u001b[39m, expr):\n\u001b[0;32m    291\u001b[0m \u001b[39m    \u001b[39m\u001b[39m\"\"\"Returns printer's representation for expr (as a string)\"\"\"\u001b[39;00m\n\u001b[1;32m--> 292\u001b[0m     \u001b[39mreturn\u001b[39;00m \u001b[39mself\u001b[39m\u001b[39m.\u001b[39m_str(\u001b[39mself\u001b[39;49m\u001b[39m.\u001b[39;49m_print(expr))\n",
      "File \u001b[1;32mo:\\programs\\perfect-physics\\.conda\\lib\\site-packages\\sympy\\printing\\printer.py:331\u001b[0m, in \u001b[0;36mPrinter._print\u001b[1;34m(self, expr, **kwargs)\u001b[0m\n\u001b[0;32m    329\u001b[0m     printmethod \u001b[39m=\u001b[39m \u001b[39mgetattr\u001b[39m(\u001b[39mself\u001b[39m, printmethodname, \u001b[39mNone\u001b[39;00m)\n\u001b[0;32m    330\u001b[0m     \u001b[39mif\u001b[39;00m printmethod \u001b[39mis\u001b[39;00m \u001b[39mnot\u001b[39;00m \u001b[39mNone\u001b[39;00m:\n\u001b[1;32m--> 331\u001b[0m         \u001b[39mreturn\u001b[39;00m printmethod(expr, \u001b[39m*\u001b[39m\u001b[39m*\u001b[39mkwargs)\n\u001b[0;32m    332\u001b[0m \u001b[39m# Unknown object, fall back to the emptyPrinter.\u001b[39;00m\n\u001b[0;32m    333\u001b[0m \u001b[39mreturn\u001b[39;00m \u001b[39mself\u001b[39m\u001b[39m.\u001b[39memptyPrinter(expr)\n",
      "File \u001b[1;32mo:\\programs\\perfect-physics\\.conda\\lib\\site-packages\\sympy\\printing\\str.py:719\u001b[0m, in \u001b[0;36mStrPrinter._print_Rational\u001b[1;34m(self, expr)\u001b[0m\n\u001b[0;32m    717\u001b[0m \u001b[39mif\u001b[39;00m \u001b[39mself\u001b[39m\u001b[39m.\u001b[39m_settings\u001b[39m.\u001b[39mget(\u001b[39m\"\u001b[39m\u001b[39msympy_integers\u001b[39m\u001b[39m\"\u001b[39m, \u001b[39mFalse\u001b[39;00m):\n\u001b[0;32m    718\u001b[0m     \u001b[39mreturn\u001b[39;00m \u001b[39m\"\u001b[39m\u001b[39mS(\u001b[39m\u001b[39m%s\u001b[39;00m\u001b[39m)/\u001b[39m\u001b[39m%s\u001b[39;00m\u001b[39m\"\u001b[39m \u001b[39m%\u001b[39m (expr\u001b[39m.\u001b[39mp, expr\u001b[39m.\u001b[39mq)\n\u001b[1;32m--> 719\u001b[0m \u001b[39mreturn\u001b[39;00m \u001b[39m\"\u001b[39;49m\u001b[39m%s\u001b[39;49;00m\u001b[39m/\u001b[39;49m\u001b[39m%s\u001b[39;49;00m\u001b[39m\"\u001b[39;49m \u001b[39m%\u001b[39;49m (expr\u001b[39m.\u001b[39;49mp, expr\u001b[39m.\u001b[39;49mq)\n",
      "\u001b[1;31mValueError\u001b[0m: Exceeds the limit (4300) for integer string conversion; use sys.set_int_max_str_digits() to increase the limit"
     ]
    }
   ],
   "source": [
    "from sympy import S\n",
    "from perfect_physics import Timeline\n",
    "from perfect_physics._timeline import Collision\n",
    "\n",
    "def count_collions(right_mass, max_count, show=False, font_scale=1, **kwargs):\n",
    "    world_width = 5\n",
    "    left = Circle(x=2, y=0, r=1, vx=0, vy=0, m=1)\n",
    "    right = Circle(x=6 if right_mass > 1 else 5, y=0, r=2 if right_mass > 1 else 1, vx=-1, vy=0, m=right_mass)\n",
    "    circle_list = [left, right]\n",
    "    wall_list = [ Wall(x0=0, y0=0, x1=0, y1=1)]\n",
    "    world = World(circle_list, wall_list, xlim=(-1, world_width + 1), ylim=(-1 - 1, 1 + 1))\n",
    "\n",
    "    count = 0\n",
    "    world.show(show=show, font_scale=font_scale, **kwargs)\n",
    "    hint_ssca_list = []\n",
    "    timeline = Timeline()\n",
    "    for i in range(max_count):\n",
    "        ss_calist, hint_ssca_list = world._tick(timeline, hint_ssca_list, default_tick=0)\n",
    "        world.show(\n",
    "            show=show and ss_calist[0] is not S.Zero,\n",
    "            font_scale=font_scale,\n",
    "            **kwargs,\n",
    "        )\n",
    "        world._tock(ss_calist, timeline)\n",
    "        world.show(show=show, font_scale=font_scale, **kwargs)\n",
    "        # print(f\"x {timeline.events[-1]}\")\n",
    "        if not isinstance(timeline.events[-1],Collision):\n",
    "            break\n",
    "        count += 1\n",
    "    return count\n",
    "\n",
    "right_mass = 1_000_000\n",
    "max_steps = 4000\n",
    "show = False\n",
    "show_fun=None # lambda figure: display(figure, target=\"newtonOutput\", append=True)\n",
    "\n",
    "count = count_collions(right_mass, max_steps, show=show, show_fun=show_fun)\n",
    "print(f\"count: {count}\")\n"
   ]
  }
 ],
 "metadata": {
  "kernelspec": {
   "display_name": "Python 3",
   "language": "python",
   "name": "python3"
  },
  "language_info": {
   "name": "python",
   "version": "3.9.16"
  },
  "orig_nbformat": 4
 },
 "nbformat": 4,
 "nbformat_minor": 2
}
