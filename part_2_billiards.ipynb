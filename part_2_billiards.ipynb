{
 "cells": [
  {
   "cell_type": "code",
   "execution_count": 1,
   "metadata": {},
   "outputs": [],
   "source": [
    "from pathlib import Path\n",
    "root = Path(\"m:/project/perfect_physics\")"
   ]
  },
  {
   "cell_type": "code",
   "execution_count": 2,
   "metadata": {},
   "outputs": [
    {
     "name": "stdout",
     "output_type": "stream",
     "text": [
      "Moviepy - Building video m:\\deldir\\perfect_physics\\part2\\billiards.4\\render_events\\billiards.4.events.avi.\n",
      "MoviePy - Writing audio in billiards.4.eventsTEMP_MPY_wvf_snd.mp3\n"
     ]
    },
    {
     "name": "stderr",
     "output_type": "stream",
     "text": [
      "                                                                     \r"
     ]
    },
    {
     "name": "stdout",
     "output_type": "stream",
     "text": [
      "MoviePy - Done.\n",
      "Moviepy - Writing video m:\\deldir\\perfect_physics\\part2\\billiards.4\\render_events\\billiards.4.events.avi\n",
      "\n"
     ]
    },
    {
     "name": "stderr",
     "output_type": "stream",
     "text": [
      "                                                                \r"
     ]
    },
    {
     "name": "stdout",
     "output_type": "stream",
     "text": [
      "Moviepy - Done !\n",
      "Moviepy - video ready m:\\deldir\\perfect_physics\\part2\\billiards.4\\render_events\\billiards.4.events.avi\n"
     ]
    }
   ],
   "source": [
    "import logging\n",
    "import numpy as np\n",
    "\n",
    "from perfect_physics import World\n",
    "\n",
    "logger = logging.getLogger()\n",
    "logger.setLevel(logging.WARN)\n",
    "\n",
    "rows = 4\n",
    "\n",
    "folder = root / f\"part2/billiards.{rows}\"\n",
    "world = World.billiards(folder, rows=rows, rng=1)\n",
    "world.run_to_file(folder, 39, reverse_frames={14})\n",
    "World.render_events(folder, slice=np.s_[:31], draw_radius=0.9)\n",
    "World.render(folder, speed_up=20, draw_radius=0.9, slice=np.s_[:39])"
   ]
  },
  {
   "cell_type": "code",
   "execution_count": 3,
   "metadata": {},
   "outputs": [
    {
     "name": "stdout",
     "output_type": "stream",
     "text": [
      "Multiple collisions: 2\n",
      "Multiple collisions: 3\n",
      "Moviepy - Building video m:\\project\\perfect_physics\\part2\\billiards.-2.0\\render_events\\billiards.-2.0.events.avi.\n",
      "MoviePy - Writing audio in billiards.-2.0.eventsTEMP_MPY_wvf_snd.mp3\n"
     ]
    },
    {
     "name": "stderr",
     "output_type": "stream",
     "text": [
      "                                                                    \r"
     ]
    },
    {
     "name": "stdout",
     "output_type": "stream",
     "text": [
      "MoviePy - Done.\n",
      "Moviepy - Writing video m:\\project\\perfect_physics\\part2\\billiards.-2.0\\render_events\\billiards.-2.0.events.avi\n",
      "\n"
     ]
    },
    {
     "name": "stderr",
     "output_type": "stream",
     "text": [
      "                                                               \r"
     ]
    },
    {
     "name": "stdout",
     "output_type": "stream",
     "text": [
      "Moviepy - Done !\n",
      "Moviepy - video ready m:\\project\\perfect_physics\\part2\\billiards.-2.0\\render_events\\billiards.-2.0.events.avi\n",
      "Moviepy - Building video m:\\project\\perfect_physics\\part2\\billiards.-2.0\\render\\billiards.-2.0.avi.\n",
      "MoviePy - Writing audio in billiards.-2.0TEMP_MPY_wvf_snd.mp3\n"
     ]
    },
    {
     "name": "stderr",
     "output_type": "stream",
     "text": [
      "                                                        \r"
     ]
    },
    {
     "name": "stdout",
     "output_type": "stream",
     "text": [
      "MoviePy - Done.\n",
      "Moviepy - Writing video m:\\project\\perfect_physics\\part2\\billiards.-2.0\\render\\billiards.-2.0.avi\n",
      "\n"
     ]
    },
    {
     "name": "stderr",
     "output_type": "stream",
     "text": [
      "t:  96%|█████████▌| 108/113 [00:01<00:00, 100.55it/s, now=None]"
     ]
    },
    {
     "name": "stdout",
     "output_type": "stream",
     "text": [
      "o:\\programs\\perfect-physics\\.conda\\lib\\site-packages\\moviepy\\video\\io\\ffmpeg_reader.py:123: UserWarning: Warning: in file m:\\project\\perfect_physics\\part2\\billiards.-2.0\\render\\misc\\silent_video.avi, 6220800 bytes wanted but 0 bytes read,at frame 112/113, at time 4.67/4.67 sec. Using the last valid frame instead.\n",
      "  warnings.warn(\"Warning: in file %s, \"%(self.filename)+\n",
      "\n"
     ]
    },
    {
     "name": "stderr",
     "output_type": "stream",
     "text": [
      "                                                               \r"
     ]
    },
    {
     "name": "stdout",
     "output_type": "stream",
     "text": [
      "Moviepy - Done !\n",
      "Moviepy - video ready m:\\project\\perfect_physics\\part2\\billiards.-2.0\\render\\billiards.-2.0.avi\n"
     ]
    }
   ],
   "source": [
    "import logging\n",
    "from perfect_physics import Wall, World\n",
    "from pathlib import Path\n",
    "root = Path(\"m:/projects/perfect_physics\")\n",
    "\n",
    "logger = logging.getLogger()\n",
    "logger.setLevel(logging.WARNING)\n",
    "\n",
    "seed = 0\n",
    "rows = -2\n",
    "\n",
    "folder = root / f\"part2/billiards.{rows}.{seed}\"\n",
    "world = World.billiards(rows=rows, rng=seed)\n",
    "world.circle_list[0].x = 55\n",
    "world.wall_list = [Wall(50, 0, 50, 1), Wall(80, 0, 80, 1), Wall(0, 30, 1, 30), Wall(0, 10, 1, 10)]\n",
    "world.xlim = (49,81)\n",
    "world.ylim = (9,31)\n",
    "if False:\n",
    "    world.show(draw_radius=0.9)\n",
    "else:\n",
    "    world.run_to_file(folder, 10, reverse_frames={4})\n",
    "    World.render_events(folder, draw_radius=0.9)\n",
    "    World.render(folder, speed_up=10, draw_radius=0.9)"
   ]
  },
  {
   "cell_type": "code",
   "execution_count": 3,
   "metadata": {},
   "outputs": [
    {
     "name": "stdout",
     "output_type": "stream",
     "text": [
      "Moviepy - Building video m:\\deldir\\perfect_physics\\part2\\billiards.2.16\\render_events\\billiards.2.16.events.avi.\n",
      "MoviePy - Writing audio in billiards.2.16.eventsTEMP_MPY_wvf_snd.mp3\n"
     ]
    },
    {
     "name": "stderr",
     "output_type": "stream",
     "text": [
      "                                                                   \r"
     ]
    },
    {
     "name": "stdout",
     "output_type": "stream",
     "text": [
      "MoviePy - Done.\n",
      "Moviepy - Writing video m:\\deldir\\perfect_physics\\part2\\billiards.2.16\\render_events\\billiards.2.16.events.avi\n",
      "\n"
     ]
    },
    {
     "name": "stderr",
     "output_type": "stream",
     "text": [
      "                                                              \r"
     ]
    },
    {
     "name": "stdout",
     "output_type": "stream",
     "text": [
      "Moviepy - Done !\n",
      "Moviepy - video ready m:\\deldir\\perfect_physics\\part2\\billiards.2.16\\render_events\\billiards.2.16.events.avi\n"
     ]
    }
   ],
   "source": [
    "import logging\n",
    "import numpy as np\n",
    "from perfect_physics import Wall, World\n",
    "\n",
    "logger = logging.getLogger()\n",
    "logger.setLevel(logging.WARNING)\n",
    "\n",
    "rows = 2\n",
    "for seed in range(16,17):\n",
    "\n",
    "    folder = root / f\"part2/billiards.{rows}.{seed}\"\n",
    "    world = World.billiards(rows=rows, rng=seed)\n",
    "    if False:\n",
    "        # world.show(draw_radius=0.9)\n",
    "        world.run_in_place(5, show=True, draw_radius=0.9)\n",
    "    else:\n",
    "        world.run_to_file(folder, 16, reverse_frames={8})\n",
    "        World.render_events(folder, draw_radius=0.9)\n",
    "        World.render(folder, speed_up=10, draw_radius=0.9, slice=np.s_[:14])"
   ]
  }
 ],
 "metadata": {
  "kernelspec": {
   "display_name": "Python 3.9.13 ('physics')",
   "language": "python",
   "name": "python3"
  },
  "language_info": {
   "codemirror_mode": {
    "name": "ipython",
    "version": 3
   },
   "file_extension": ".py",
   "mimetype": "text/x-python",
   "name": "python",
   "nbconvert_exporter": "python",
   "pygments_lexer": "ipython3",
   "version": "3.9.16"
  },
  "orig_nbformat": 4,
  "vscode": {
   "interpreter": {
    "hash": "de2c5f912e9a0618d7fb158eff1215fc01b4f796ca47df964c24240a61c494b2"
   }
  }
 },
 "nbformat": 4,
 "nbformat_minor": 2
}
