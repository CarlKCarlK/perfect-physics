{
    "cells": [
        {
            "cell_type": "code",
            "execution_count": 2,
            "metadata": {},
            "outputs": [],
            "source": [
                "from pathlib import Path\n",
                'root = Path("m:/projects/perfect_physics")',
            ],
        },
        {
            "cell_type": "code",
            "execution_count": 3,
            "metadata": {},
            "outputs": [
                {
                    "name": "stdout",
                    "output_type": "stream",
                    "text": [
                        "Moviepy - Building video m:\\deldir\\perfect_physics\\part4\\inscribed_3_3_3_20\\render\\inscribed_3_3_3_20.avi.\n",
                        "MoviePy - Writing audio in inscribed_3_3_3_20TEMP_MPY_wvf_snd.mp3\n",
                    ],
                },
                {
                    "name": "stderr",
                    "output_type": "stream",
                    "text": [
                        "                                                                   \r"
                    ],
                },
                {
                    "name": "stdout",
                    "output_type": "stream",
                    "text": [
                        "MoviePy - Done.\n",
                        "Moviepy - Writing video m:\\deldir\\perfect_physics\\part4\\inscribed_3_3_3_20\\render\\inscribed_3_3_3_20.avi\n",
                        "\n",
                    ],
                },
                {
                    "name": "stderr",
                    "output_type": "stream",
                    "text": [
                        "t:  99%|█████████▉| 310/312 [00:19<00:00, 16.43it/s, now=None]"
                    ],
                },
                {
                    "name": "stdout",
                    "output_type": "stream",
                    "text": [
                        "c:\\Users\\Carl\\miniconda3\\envs\\physics\\lib\\site-packages\\moviepy\\video\\io\\ffmpeg_reader.py:123: UserWarning: Warning: in file m:\\deldir\\perfect_physics\\part4\\inscribed_3_3_3_20\\render\\misc\\silent_video.avi, 6220800 bytes wanted but 0 bytes read,at frame 311/312, at time 12.96/12.96 sec. Using the last valid frame instead.\n",
                        '  warnings.warn("Warning: in file %s, "%(self.filename)+\n',
                        "\n",
                    ],
                },
                {
                    "name": "stderr",
                    "output_type": "stream",
                    "text": [
                        "                                                              \r"
                    ],
                },
                {
                    "name": "stdout",
                    "output_type": "stream",
                    "text": [
                        "Moviepy - Done !\n",
                        "Moviepy - video ready m:\\deldir\\perfect_physics\\part4\\inscribed_3_3_3_20\\render\\inscribed_3_3_3_20.avi\n",
                    ],
                },
            ],
            "source": [
                "import logging\n",
                "import numpy as np\n",
                "from perfect_physics import World\n",
                "\n",
                "logger = logging.getLogger()\n",
                "logger.setLevel(logging.WARNING)\n",
                "\n",
                "circle_count = 3\n",
                "circle_of_circle_radius = 3\n",
                "wall_count = 3\n",
                "circle_of_wall_radius = 20\n",
                'folder = root / f"part4/inscribed_{circle_count}_{circle_of_circle_radius}_{wall_count}_{circle_of_wall_radius}"\n',
                "world = World.inscribed(\n",
                "    circle_of_circle_radius, circle_count, circle_of_wall_radius, wall_count\n",
                ")\n",
                "\n",
                "\n",
                "if False:\n",
                "    for i in range(50):\n",
                '        print(f"circle0.x = {world.circle_list[0].x}")\n',
                "        world.run_in_place(1, show=True)\n",
                "else:\n",
                "    world.run_to_file(folder, 58)\n",
                "    World.render(folder, speed_up=10, slice=np.s_[:])\n",
                "    # World.render_events(folder, slice=np.s_[:])",
            ],
        },
        {
            "cell_type": "code",
            "execution_count": 13,
            "metadata": {},
            "outputs": [
                {
                    "data": {
                        "text/plain": ["[<matplotlib.lines.Line2D at 0x2038aebad30>]"]
                    },
                    "execution_count": 13,
                    "metadata": {},
                    "output_type": "execute_result",
                },
                {
                    "data": {
                        "image/png": "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",
                        "text/plain": ["<Figure size 640x480 with 1 Axes>"],
                    },
                    "metadata": {},
                    "output_type": "display_data",
                },
            ],
            "source": [
                "import matplotlib.pyplot as plt\n",
                "\n",
                "clock_list, world_list, timeline = World._cp_to_lists(\n",
                "            folder, slice=np.s_[:], filter_same_time=False\n",
                "        )\n",
                "\n",
                "x_len_list = []\n",
                "for i, world in enumerate(world_list):\n",
                "    x_len_list.append(len(str(world.circle_list[0].x)))\n",
                '    # print(f"i={i}, len(x)={len(str(world.circle_list[0].x))}, world.circle_list[0].x = {world.circle_list[0].x}, ")\n',
                "plt.ylabel('len(str(x))')\n",
                "plt.xlabel('event count')\n",
                'plt.yscale("log")\n',
                "plt.plot(x_len_list)",
            ],
        },
        {
            "cell_type": "code",
            "execution_count": 19,
            "metadata": {},
            "outputs": [
                {
                    "data": {"text/latex": ["$\\displaystyle 3$"], "text/plain": ["3"]},
                    "execution_count": 19,
                    "metadata": {},
                    "output_type": "execute_result",
                }
            ],
            "source": ["world_list[0].circle_list[0].x"],
        },
        {
            "cell_type": "code",
            "execution_count": 16,
            "metadata": {},
            "outputs": [
                {
                    "data": {
                        "text/latex": ["$\\displaystyle \\frac{7 \\sqrt{3}}{3}$"],
                        "text/plain": ["7*sqrt(3)/3"],
                    },
                    "execution_count": 16,
                    "metadata": {},
                    "output_type": "execute_result",
                }
            ],
            "source": ["world_list[10].circle_list[0].x"],
        },
        {
            "cell_type": "code",
            "execution_count": 17,
            "metadata": {},
            "outputs": [
                {
                    "data": {
                        "text/latex": [
                            "$\\displaystyle - \\frac{74 \\sqrt{3}}{39} - \\frac{29 \\sqrt{21}}{273} + \\frac{\\sqrt{90 \\sqrt{7} + 804}}{39}$"
                        ],
                        "text/plain": [
                            "-74*sqrt(3)/39 - 29*sqrt(21)/273 + sqrt(90*sqrt(7) + 804)/39"
                        ],
                    },
                    "execution_count": 17,
                    "metadata": {},
                    "output_type": "execute_result",
                }
            ],
            "source": ["world_list[40].circle_list[0].x"],
        },
        {
            "cell_type": "code",
            "execution_count": 20,
            "metadata": {},
            "outputs": [
                {
                    "data": {
                        "text/latex": [
                            "$\\displaystyle \\frac{\\frac{22623729963962980769639936497265986450556795 \\sqrt{630 \\sqrt{7} + 5628}}{91} + \\frac{541948293884832951553284969628285690434060479 \\sqrt{90 \\sqrt{7} + 804}}{819} + \\frac{839813625694501537975351582330769995544536504 \\sqrt{21}}{117} + \\frac{15597967435718182934232699533650696040395118800 \\sqrt{3}}{819}}{545468443038887468820857342264831460748700 \\sqrt{7} + 1517001088507132771962709359032088597342476 + 44124885433780203186686716680604106262199 \\sqrt{14} \\sqrt{15 \\sqrt{7} + 134} + 122125119652077829361186620230652230934585 \\sqrt{2} \\sqrt{15 \\sqrt{7} + 134}}$"
                        ],
                        "text/plain": [
                            "(22623729963962980769639936497265986450556795*sqrt(630*sqrt(7) + 5628)/91 + 541948293884832951553284969628285690434060479*sqrt(90*sqrt(7) + 804)/819 + 839813625694501537975351582330769995544536504*sqrt(21)/117 + 15597967435718182934232699533650696040395118800*sqrt(3)/819)/(545468443038887468820857342264831460748700*sqrt(7) + 1517001088507132771962709359032088597342476 + 44124885433780203186686716680604106262199*sqrt(14)*sqrt(15*sqrt(7) + 134) + 122125119652077829361186620230652230934585*sqrt(2)*sqrt(15*sqrt(7) + 134))"
                        ],
                    },
                    "execution_count": 20,
                    "metadata": {},
                    "output_type": "execute_result",
                }
            ],
            "source": ["world_list[50].circle_list[0].x"],
        },
    ],
    "metadata": {
        "kernelspec": {
            "display_name": "Python 3.9.13 ('physics')",
            "language": "python",
            "name": "python3",
        },
        "language_info": {
            "codemirror_mode": {"name": "ipython", "version": 3},
            "file_extension": ".py",
            "mimetype": "text/x-python",
            "name": "python",
            "nbconvert_exporter": "python",
            "pygments_lexer": "ipython3",
            "version": "3.9.13",
        },
        "orig_nbformat": 4,
        "vscode": {
            "interpreter": {
                "hash": "de2c5f912e9a0618d7fb158eff1215fc01b4f796ca47df964c24240a61c494b2"
            }
        },
    },
    "nbformat": 4,
    "nbformat_minor": 2,
}
