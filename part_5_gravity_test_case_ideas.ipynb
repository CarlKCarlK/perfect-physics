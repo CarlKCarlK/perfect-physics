{
 "cells": [
  {
   "cell_type": "code",
   "execution_count": null,
   "metadata": {},
   "outputs": [],
   "source": [
    "# need to solve these problems:\n",
    "# circle-circle time to collision with gravity\n",
    "# circle-wall time to collision with gravity\n",
    "# a circle on a floor shouldn't move.\n",
    "# when a circle is on a ramp, find the time to its next collision with a wall\n",
    "# when two circles on on ramps -- facing each other -- find the time to their next collision\n",
    "# when a two circles are on a floor find the time to their next collision\n",
    "# what happens when a circle gets stuck while following between two ramps?"
   ]
  },
  {
   "cell_type": "code",
   "execution_count": null,
   "metadata": {},
   "outputs": [],
   "source": [
    "# What are the equations for the position of a circle on a ramp?\n",
    "\n",
    "from sympy import symbols, Eq\n",
    "\n",
    "# define symbols\n",
    "t = symbols(\"t\")\n",
    "x, y, speed, x_prime, y_prime = symbols(\"x, y, speed, x_prime, y_prime\")\n",
    "rise, run = symbols(\"rise, run\")\n",
    "g_x, g_y = symbols(\"g_x, g_y\")\n",
    "\n",
    "\n",
    "\n",
    "eq1 = Eq(aprime_x, a_x + a_vx * t)\n",
    "eq2 = Eq(aprime_y, a_y + a_vy * t)\n",
    "\n",
    "eq1"
   ]
  }
 ],
 "metadata": {
  "kernelspec": {
   "display_name": "physics38",
   "language": "python",
   "name": "python3"
  },
  "language_info": {
   "name": "python",
   "version": "3.8.15 (default, Nov 24 2022, 14:38:14) [MSC v.1916 64 bit (AMD64)]"
  },
  "orig_nbformat": 4,
  "vscode": {
   "interpreter": {
    "hash": "f2cb8c097c9b937e4c6b5b00d0df39bb5d70288ecec382f775eaa9c11bf93d2f"
   }
  }
 },
 "nbformat": 4,
 "nbformat_minor": 2
}
