{
 "cells": [
  {
   "cell_type": "code",
   "execution_count": 2,
   "metadata": {},
   "outputs": [
    {
     "name": "stderr",
     "output_type": "stream",
     "text": [
      "o:\\programs\\perfect-physics\\perfect_physics\\_misc.py:101: UserWarning: Matplotlib is currently using module://matplotlib_inline.backend_inline, which is a non-GUI backend, so cannot show the figure.\n",
      "  figure.show()\n"
     ]
    },
    {
     "data": {
      "image/png": "[encoded data removed]",
      "text/plain": [
       "<Figure size 480x270 with 1 Axes>"
      ]
     },
     "metadata": {},
     "output_type": "display_data"
    }
   ],
   "source": [
    "import numpy as np\n",
    "from perfect_physics import World, Circle, Wall\n",
    "from sympy import S\n",
    "\n",
    "from pathlib import Path\n",
    "root = Path(\"m:/projects/perfect_physics\")\n",
    "\n",
    "def box_world(seed = 0, resolution=10, wall_point = 10, circle_count = 3):\n",
    "\n",
    "    wall_list = [\n",
    "        Wall(-wall_point, -wall_point, -wall_point, wall_point),\n",
    "        Wall(-wall_point, wall_point, wall_point, wall_point),\n",
    "        Wall(wall_point, wall_point, wall_point, -wall_point),\n",
    "        Wall(wall_point, -wall_point, -wall_point, -wall_point),\n",
    "    ]\n",
    "\n",
    "    rng = np.random.default_rng(seed)\n",
    "\n",
    "    def random_point(rng, range, resolution):\n",
    "        return S(rng.integers(-range*resolution, range*resolution,endpoint=True))/resolution\n",
    "\n",
    "    circle_list = []\n",
    "    for i in range(circle_count):\n",
    "        good = False\n",
    "        while not good:\n",
    "            good = True\n",
    "            possible = Circle( \n",
    "                x=random_point(rng, wall_point-1, resolution),\n",
    "                y=random_point(rng, wall_point-1, resolution),\n",
    "                r=1,\n",
    "                vx=random_point(rng, 1, resolution),\n",
    "                vy=random_point(rng, 1, resolution),\n",
    "                m=1,\n",
    "            )\n",
    "            for circle in circle_list:\n",
    "                if circle.distance(possible) < circle.r + possible.r:\n",
    "                    good = False\n",
    "                    break\n",
    "        circle_list.append(possible)\n",
    "\n",
    "    world = World(\n",
    "        circle_list=circle_list,\n",
    "        wall_list=wall_list,\n",
    "        rng=rng,\n",
    "        xlim=(-wall_point - 1, wall_point + 1),\n",
    "        ylim=(-wall_point - 1, wall_point + 1),\n",
    "    )\n",
    "    return world\n",
    "world = box_world()\n",
    "world.show(label_fun=lambda c: f\"x={c.x}\")\n",
    "pass"
   ]
  },
  {
   "cell_type": "code",
   "execution_count": 1,
   "metadata": {},
   "outputs": [
    {
     "ename": "NameError",
     "evalue": "name 'box_world' is not defined",
     "output_type": "error",
     "traceback": [
      "\u001b[1;31m---------------------------------------------------------------------------\u001b[0m",
      "\u001b[1;31mNameError\u001b[0m                                 Traceback (most recent call last)",
      "Cell \u001b[1;32mIn[1], line 1\u001b[0m\n\u001b[1;32m----> 1\u001b[0m world \u001b[39m=\u001b[39m box_world(seed\u001b[39m=\u001b[39m\u001b[39m1\u001b[39m)\n\u001b[0;32m      2\u001b[0m world\u001b[39m.\u001b[39mrun_in_place(\u001b[39m10\u001b[39m,show\u001b[39m=\u001b[39m\u001b[39mTrue\u001b[39;00m,label_fun\u001b[39m=\u001b[39m\u001b[39mlambda\u001b[39;00m c: \u001b[39mf\u001b[39m\u001b[39m\"\u001b[39m\u001b[39mx=\u001b[39m\u001b[39m{\u001b[39;00mc\u001b[39m.\u001b[39mx\u001b[39m}\u001b[39;00m\u001b[39m\"\u001b[39m)\n",
      "\u001b[1;31mNameError\u001b[0m: name 'box_world' is not defined"
     ]
    }
   ],
   "source": [
    "world = box_world(seed=1)\n",
    "world.run_in_place(10,show=True,label_fun=lambda c: f\"x={c.x}\")"
   ]
  },
  {
   "cell_type": "code",
   "execution_count": 4,
   "metadata": {},
   "outputs": [
    {
     "name": "stdout",
     "output_type": "stream",
     "text": [
      "Moviepy - Building video m:\\projects\\perfect_physics\\part5\\grow\\render\\grow.avi.\n",
      "MoviePy - Writing audio in growTEMP_MPY_wvf_snd.mp3\n"
     ]
    },
    {
     "name": "stderr",
     "output_type": "stream",
     "text": [
      "                                                        \r"
     ]
    },
    {
     "name": "stdout",
     "output_type": "stream",
     "text": [
      "MoviePy - Done.\n",
      "Moviepy - Writing video m:\\projects\\perfect_physics\\part5\\grow\\render\\grow.avi\n",
      "\n"
     ]
    },
    {
     "name": "stderr",
     "output_type": "stream",
     "text": [
      "                                                               \r"
     ]
    },
    {
     "name": "stdout",
     "output_type": "stream",
     "text": [
      "Moviepy - Done !\n",
      "Moviepy - video ready m:\\projects\\perfect_physics\\part5\\grow\\render\\grow.avi\n"
     ]
    }
   ],
   "source": [
    "folder = root / f\"part5/grow\"\n",
    "world = box_world(seed=1)\n",
    "world.run_to_file(folder, 10)\n",
    "World.render(folder, speed_up=5, draw_radius=0.9, label_fun=lambda c: f\"x={c.x}\")\n"
   ]
  },
  {
   "cell_type": "code",
   "execution_count": 6,
   "metadata": {},
   "outputs": [
    {
     "data": {
      "text/plain": [
       "[Circle(x=63/10, y=-57484987191/1837245334 + 211907289*sqrt(15051)/918622667, r=1, vx=0, vy=1/2, m=1, id=UUID('7eee28c7-3add-458b-8732-e8ecabfc0637')),\n",
       " Circle(x=112193164513/1837245334 - 5145569071*sqrt(15051)/9186226670, y=39306654266/4593113335 - 211907289*sqrt(15051)/4593113335, r=1, vx=-133497/198500 + 2983*sqrt(15051)/397000, vy=-471*sqrt(15051)/198500 - 111031/397000, m=1, id=UUID('0f66fae6-d9ee-40e3-a5c2-22c4758028f7')),\n",
       " Circle(x=-29642775691/9186226670 - 11958827*sqrt(15051)/1837245334, y=-9, r=1, vx=104703/198500 + 2983*sqrt(15051)/397000, vy=71331/397000 + 471*sqrt(15051)/198500, m=1, id=UUID('639bab4a-dabe-4185-aee6-fd65256f4aec'))]"
      ]
     },
     "execution_count": 6,
     "metadata": {},
     "output_type": "execute_result"
    }
   ],
   "source": [
    "world.circle_list"
   ]
  },
  {
   "cell_type": "code",
   "execution_count": null,
   "metadata": {},
   "outputs": [],
   "source": []
  }
 ],
 "metadata": {
  "kernelspec": {
   "display_name": "Python 3",
   "language": "python",
   "name": "python3"
  },
  "language_info": {
   "codemirror_mode": {
    "name": "ipython",
    "version": 3
   },
   "file_extension": ".py",
   "mimetype": "text/x-python",
   "name": "python",
   "nbconvert_exporter": "python",
   "pygments_lexer": "ipython3",
   "version": "3.9.16"
  },
  "orig_nbformat": 4
 },
 "nbformat": 4,
 "nbformat_minor": 2
}
