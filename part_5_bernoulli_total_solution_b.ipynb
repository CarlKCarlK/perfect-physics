{
 "cells": [
  {
   "cell_type": "code",
   "execution_count": 1,
   "metadata": {},
   "outputs": [],
   "source": [
    "from pathlib import Path\n",
    "root = Path(\"c:/deldir/perfect_physics\")"
   ]
  },
  {
   "cell_type": "code",
   "execution_count": 2,
   "metadata": {},
   "outputs": [
    {
     "data": {
      "image/png": "[encoded data removed]",
      "text/plain": [
       "<Figure size 480x270 with 1 Axes>"
      ]
     },
     "metadata": {},
     "output_type": "display_data"
    }
   ],
   "source": [
    "from sympy import sqrt, Rational\n",
    "from perfect_physics import Circle, World\n",
    "\n",
    "cue = Circle(x=2 - sqrt(3), y=0, r=1, vx=1, vy=0, m=1)\n",
    "c0 = Circle(x=2, y=1, r=1, vx=0, vy=0, m=1)\n",
    "c1 = Circle(x=2, y=-1, r=1, vx=0, vy=0, m=1)\n",
    "world = World(circle_list=[cue, c0, c1],xlim=(-1,4), ylim=(-4,4))\n",
    "world.show()\n",
    "# world.run_in_place(1,show=True)\n",
    "# print(cue.x)\n",
    "\n",
    "pass"
   ]
  },
  {
   "cell_type": "code",
   "execution_count": 9,
   "metadata": {},
   "outputs": [
    {
     "data": {
      "text/latex": [
       "$\\displaystyle \\frac{1}{2} = \\frac{\\hat{a}_{vx}^{2}}{2} + \\frac{\\hat{a}_{vy}^{2}}{2} + \\frac{\\hat{b}_{vx}^{2}}{2} + \\frac{\\hat{b}_{vy}^{2}}{2} + \\frac{\\hat{c}_{vx}^{2}}{2} + \\frac{\\hat{c}_{vy}^{2}}{2}$"
      ],
      "text/plain": [
       "Eq(1/2, ahat_vx**2/2 + ahat_vy**2/2 + bhat_vx**2/2 + bhat_vy**2/2 + chat_vx**2/2 + chat_vy**2/2)"
      ]
     },
     "execution_count": 9,
     "metadata": {},
     "output_type": "execute_result"
    }
   ],
   "source": [
    "from sympy import symbols, Eq ,S\n",
    "a_vx = symbols(\"a_vx\")\n",
    "ahat_vx, bhat_vx, chat_vx = symbols(\"ahat_vx, bhat_vx, chat_vx\")\n",
    "ahat_vy, bhat_vy, chat_vy = symbols(\"ahat_vy, bhat_vy, chat_vy\")\n",
    "\n",
    "energy_before = cue.m * cue.vx**2 / S(2)\n",
    "energy_after = cue.m * (ahat_vx**2+ahat_vy**2) / 2 +c0.m * (bhat_vx**2+bhat_vy**2) / 2 + c1.m * (chat_vx**2+chat_vy**2) / 2\n",
    "eq1 = Eq(energy_before, energy_after)\n",
    "eq1"
   ]
  },
  {
   "cell_type": "code",
   "execution_count": 13,
   "metadata": {},
   "outputs": [
    {
     "data": {
      "text/latex": [
       "$\\displaystyle 1 = \\hat{a}_{vx} + \\hat{b}_{vx} + \\hat{c}_{vx}$"
      ],
      "text/plain": [
       "Eq(1, ahat_vx + bhat_vx + chat_vx)"
      ]
     },
     "execution_count": 13,
     "metadata": {},
     "output_type": "execute_result"
    }
   ],
   "source": [
    "eq2 = Eq(cue.m * cue.vx + c0.m * c0.vx + c1.m * c1.vx, cue.m * ahat_vx + c0.m * bhat_vx + c1.m * chat_vx)\n",
    "eq2"
   ]
  },
  {
   "cell_type": "code",
   "execution_count": 14,
   "metadata": {},
   "outputs": [
    {
     "data": {
      "text/latex": [
       "$\\displaystyle 0 = \\hat{a}_{vy} + \\hat{b}_{vy} + \\hat{c}_{vy}$"
      ],
      "text/plain": [
       "Eq(0, ahat_vy + bhat_vy + chat_vy)"
      ]
     },
     "execution_count": 14,
     "metadata": {},
     "output_type": "execute_result"
    }
   ],
   "source": [
    "eq3 = Eq(cue.m * cue.vy + c0.m * c0.vy + c1.m * c1.vy, cue.m * ahat_vy + c0.m * bhat_vy + c1.m * chat_vy)\n",
    "eq3"
   ]
  },
  {
   "cell_type": "code",
   "execution_count": 18,
   "metadata": {},
   "outputs": [
    {
     "data": {
      "text/latex": [
       "$\\displaystyle \\hat{b}_{vx} = \\hat{c}_{vx}$"
      ],
      "text/plain": [
       "Eq(bhat_vx, chat_vx)"
      ]
     },
     "execution_count": 18,
     "metadata": {},
     "output_type": "execute_result"
    }
   ],
   "source": [
    "eq4 = Eq(ahat_vy,0)\n",
    "eq5 = Eq(bhat_vy,-chat_vy)\n",
    "eq6 = Eq(bhat_vx,chat_vx)\n",
    "eq6"
   ]
  },
  {
   "cell_type": "code",
   "execution_count": 19,
   "metadata": {},
   "outputs": [
    {
     "data": {
      "text/latex": [
       "$\\displaystyle \\left\\{\\left( \\frac{1}{3} - \\frac{2 \\sqrt{1 - 3 \\hat{c}_{vy}^{2}}}{3}, \\  0, \\  \\frac{\\sqrt{1 - 3 \\hat{c}_{vy}^{2}}}{3} + \\frac{1}{3}, \\  - \\hat{c}_{vy}, \\  \\frac{\\sqrt{1 - 3 \\hat{c}_{vy}^{2}}}{3} + \\frac{1}{3}, \\  \\hat{c}_{vy}\\right), \\left( \\frac{2 \\sqrt{1 - 3 \\hat{c}_{vy}^{2}}}{3} + \\frac{1}{3}, \\  0, \\  \\frac{1}{3} - \\frac{\\sqrt{1 - 3 \\hat{c}_{vy}^{2}}}{3}, \\  - \\hat{c}_{vy}, \\  \\frac{1}{3} - \\frac{\\sqrt{1 - 3 \\hat{c}_{vy}^{2}}}{3}, \\  \\hat{c}_{vy}\\right)\\right\\}$"
      ],
      "text/plain": [
       "{(1/3 - 2*sqrt(1 - 3*chat_vy**2)/3, 0, sqrt(1 - 3*chat_vy**2)/3 + 1/3, -chat_vy, sqrt(1 - 3*chat_vy**2)/3 + 1/3, chat_vy), (2*sqrt(1 - 3*chat_vy**2)/3 + 1/3, 0, 1/3 - sqrt(1 - 3*chat_vy**2)/3, -chat_vy, 1/3 - sqrt(1 - 3*chat_vy**2)/3, chat_vy)}"
      ]
     },
     "execution_count": 19,
     "metadata": {},
     "output_type": "execute_result"
    }
   ],
   "source": [
    "from sympy import nonlinsolve\n",
    "sym_bern_velocity_solutions = nonlinsolve([eq1, eq2, eq3, eq4, eq5, eq6], [ahat_vx, ahat_vy, bhat_vx, bhat_vy, chat_vx, chat_vy])\n",
    "sym_bern_velocity_solutions"
   ]
  },
  {
   "cell_type": "code",
   "execution_count": 23,
   "metadata": {},
   "outputs": [
    {
     "data": {
      "text/latex": [
       "$\\displaystyle \\left\\{\\left( \\frac{1}{3} - \\frac{\\sqrt{13}}{6}, \\  0, \\  \\frac{\\sqrt{13}}{12} + \\frac{1}{3}, \\  - \\frac{1}{4}, \\  \\frac{\\sqrt{13}}{12} + \\frac{1}{3}, \\  \\frac{1}{4}\\right), \\left( \\frac{1}{3} + \\frac{\\sqrt{13}}{6}, \\  0, \\  \\frac{1}{3} - \\frac{\\sqrt{13}}{12}, \\  - \\frac{1}{4}, \\  \\frac{1}{3} - \\frac{\\sqrt{13}}{12}, \\  \\frac{1}{4}\\right)\\right\\}$"
      ],
      "text/plain": [
       "{(1/3 - sqrt(13)/6, 0, sqrt(13)/12 + 1/3, -1/4, sqrt(13)/12 + 1/3, 1/4), (1/3 + sqrt(13)/6, 0, 1/3 - sqrt(13)/12, -1/4, 1/3 - sqrt(13)/12, 1/4)}"
      ]
     },
     "execution_count": 23,
     "metadata": {},
     "output_type": "execute_result"
    }
   ],
   "source": [
    "sym_bern_velocity_solutions.subs({\"chat_vy\":S(1)/4})"
   ]
  },
  {
   "cell_type": "code",
   "execution_count": null,
   "metadata": {},
   "outputs": [],
   "source": []
  }
 ],
 "metadata": {
  "kernelspec": {
   "display_name": "physics38",
   "language": "python",
   "name": "python3"
  },
  "language_info": {
   "codemirror_mode": {
    "name": "ipython",
    "version": 3
   },
   "file_extension": ".py",
   "mimetype": "text/x-python",
   "name": "python",
   "nbconvert_exporter": "python",
   "pygments_lexer": "ipython3",
   "version": "3.8.15"
  },
  "orig_nbformat": 4,
  "vscode": {
   "interpreter": {
    "hash": "f2cb8c097c9b937e4c6b5b00d0df39bb5d70288ecec382f775eaa9c11bf93d2f"
   }
  }
 },
 "nbformat": 4,
 "nbformat_minor": 2
}
