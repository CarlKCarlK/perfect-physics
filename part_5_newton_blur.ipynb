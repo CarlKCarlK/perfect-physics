{
 "cells": [
  {
   "cell_type": "code",
   "execution_count": 1,
   "metadata": {},
   "outputs": [],
   "source": [
    "from pathlib import Path\n",
    "root = Path(\"m:/projects/perfect_physics\")"
   ]
  },
  {
   "cell_type": "code",
   "execution_count": 2,
   "metadata": {},
   "outputs": [
    {
     "name": "stdout",
     "output_type": "stream",
     "text": [
      "Moviepy - Building video m:\\projects\\perfect_physics\\part1\\newton_cradle1\\render\\newton_cradle1_slow.avi.\n",
      "MoviePy - Writing audio in newton_cradle1_slowTEMP_MPY_wvf_snd.mp3\n"
     ]
    },
    {
     "name": "stderr",
     "output_type": "stream",
     "text": [
      "                                                                      \r"
     ]
    },
    {
     "name": "stdout",
     "output_type": "stream",
     "text": [
      "MoviePy - Done.\n",
      "Moviepy - Writing video m:\\projects\\perfect_physics\\part1\\newton_cradle1\\render\\newton_cradle1_slow.avi\n",
      "\n"
     ]
    },
    {
     "name": "stderr",
     "output_type": "stream",
     "text": [
      "                                                                 \r"
     ]
    },
    {
     "name": "stdout",
     "output_type": "stream",
     "text": [
      "Moviepy - Done !\n",
      "Moviepy - video ready m:\\projects\\perfect_physics\\part1\\newton_cradle1\\render\\newton_cradle1_slow.avi\n"
     ]
    }
   ],
   "source": [
    "import logging\n",
    "\n",
    "logger = logging.getLogger()\n",
    "logger.setLevel(logging.WARNING)\n",
    "\n",
    "import numpy as np\n",
    "from perfect_physics import World, Circle, Wall\n",
    "\n",
    "folder = root / \"part1/newton_cradle1\"\n",
    "circle_list = [Circle(x=1, y=0, r=1, vx=1, vy=0, m=1)]\n",
    "for i in range(1, 6):\n",
    "    circle_list.append(Circle(x=i * 2 + 4, y=0, r=1, vx=0, vy=0, m=1))\n",
    "wall_list = [Wall(x0=0, y0=0, x1=0, y1=1), Wall(x0=20, y0=0, x1=20, y1=1)]\n",
    "world = World(circle_list, wall_list, xlim=(-1, 21), ylim=(-2, 2))\n",
    "if False:\n",
    "    world.run_in_place(5, show=True)\n",
    "else:\n",
    "    world.run_to_file(folder, 100)\n",
    "    # World.render_events(folder, slice=np.s_[:17])\n",
    "    World.render(folder, speed_up=1, slice=np.s_[:100], prefix=\"_slow\")"
   ]
  },
  {
   "cell_type": "code",
   "execution_count": 4,
   "metadata": {},
   "outputs": [
    {
     "name": "stdout",
     "output_type": "stream",
     "text": [
      "Moviepy - Building video m:\\deldir\\perfect_physics\\part2\\billiards.4\\render\\billiards.4_slow.avi.\n",
      "MoviePy - Writing audio in billiards.4_slowTEMP_MPY_wvf_snd.mp3\n"
     ]
    },
    {
     "name": "stderr",
     "output_type": "stream",
     "text": [
      "                                                                      \r"
     ]
    },
    {
     "name": "stdout",
     "output_type": "stream",
     "text": [
      "MoviePy - Done.\n",
      "Moviepy - Writing video m:\\deldir\\perfect_physics\\part2\\billiards.4\\render\\billiards.4_slow.avi\n",
      "\n"
     ]
    },
    {
     "name": "stderr",
     "output_type": "stream",
     "text": [
      "                                                                \r"
     ]
    },
    {
     "name": "stdout",
     "output_type": "stream",
     "text": [
      "Moviepy - Done !\n",
      "Moviepy - video ready m:\\deldir\\perfect_physics\\part2\\billiards.4\\render\\billiards.4_slow.avi\n"
     ]
    }
   ],
   "source": [
    "import logging\n",
    "import numpy as np\n",
    "\n",
    "from perfect_physics import World\n",
    "\n",
    "logger = logging.getLogger()\n",
    "logger.setLevel(logging.WARN)\n",
    "\n",
    "rows = 4\n",
    "\n",
    "folder = root / f\"part2/billiards.{rows}\"\n",
    "world = World.billiards(folder, rows=rows, rng=1)\n",
    "world.run_to_file(folder, 39, reverse_frames={14})\n",
    "World.render_events(folder, slice=np.s_[:31], draw_radius=0.9)\n",
    "World.render(folder, speed_up=2, draw_radius=0.9, slice=np.s_[:39], prefix=\"_slow\")"
   ]
  },
  {
   "cell_type": "code",
   "execution_count": null,
   "metadata": {},
   "outputs": [],
   "source": []
  }
 ],
 "metadata": {
  "kernelspec": {
   "display_name": "Python 3.9.13 ('physics')",
   "language": "python",
   "name": "python3"
  },
  "language_info": {
   "codemirror_mode": {
    "name": "ipython",
    "version": 3
   },
   "file_extension": ".py",
   "mimetype": "text/x-python",
   "name": "python",
   "nbconvert_exporter": "python",
   "pygments_lexer": "ipython3",
   "version": "3.9.16"
  },
  "orig_nbformat": 4,
  "vscode": {
   "interpreter": {
    "hash": "de2c5f912e9a0618d7fb158eff1215fc01b4f796ca47df964c24240a61c494b2"
   }
  }
 },
 "nbformat": 4,
 "nbformat_minor": 2
}
