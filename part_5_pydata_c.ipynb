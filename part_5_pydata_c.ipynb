{
 "cells": [
  {
   "cell_type": "code",
   "execution_count": 2,
   "metadata": {},
   "outputs": [
    {
     "data": {
      "text/latex": [
       "$\\displaystyle \\left\\{\\left( - \\frac{3 \\sqrt{1 - 5 \\hat{a}_{vy}^{2}} - 2}{5}, \\  - \\frac{\\sqrt{3} \\hat{a}_{vy}}{2} + \\frac{3 \\sqrt{1 - 5 \\hat{a}_{vy}^{2}}}{10} + \\frac{3}{10}, \\  - \\frac{\\hat{a}_{vy}}{2} + \\frac{\\sqrt{3 - 15 \\hat{a}_{vy}^{2}}}{10} + \\frac{\\sqrt{3}}{10}, \\  \\frac{\\sqrt{3} \\hat{a}_{vy}}{2} + \\frac{3 \\sqrt{1 - 5 \\hat{a}_{vy}^{2}}}{10} + \\frac{3}{10}, \\  - \\frac{\\hat{a}_{vy}}{2} - \\frac{\\sqrt{3} \\sqrt{1 - 5 \\hat{a}_{vy}^{2}}}{10} - \\frac{\\sqrt{3}}{10}\\right), \\left( \\frac{3 \\sqrt{1 - 5 \\hat{a}_{vy}^{2}} + 2}{5}, \\  - \\frac{\\sqrt{3} \\hat{a}_{vy}}{2} - \\frac{3 \\sqrt{1 - 5 \\hat{a}_{vy}^{2}}}{10} + \\frac{3}{10}, \\  - \\frac{\\hat{a}_{vy}}{2} - \\frac{\\sqrt{3 - 15 \\hat{a}_{vy}^{2}}}{10} + \\frac{\\sqrt{3}}{10}, \\  \\frac{\\sqrt{3} \\hat{a}_{vy}}{2} - \\frac{3 \\sqrt{1 - 5 \\hat{a}_{vy}^{2}}}{10} + \\frac{3}{10}, \\  - \\frac{\\hat{a}_{vy}}{2} + \\frac{\\sqrt{3} \\sqrt{1 - 5 \\hat{a}_{vy}^{2}}}{10} - \\frac{\\sqrt{3}}{10}\\right)\\right\\}$"
      ],
      "text/plain": [
       "{(-(3*sqrt(1 - 5*ahat_vy**2) - 2)/5, -sqrt(3)*ahat_vy/2 + 3*sqrt(1 - 5*ahat_vy**2)/10 + 3/10, -ahat_vy/2 + sqrt(3 - 15*ahat_vy**2)/10 + sqrt(3)/10, sqrt(3)*ahat_vy/2 + 3*sqrt(1 - 5*ahat_vy**2)/10 + 3/10, -ahat_vy/2 - sqrt(3)*sqrt(1 - 5*ahat_vy**2)/10 - sqrt(3)/10), ((3*sqrt(1 - 5*ahat_vy**2) + 2)/5, -sqrt(3)*ahat_vy/2 - 3*sqrt(1 - 5*ahat_vy**2)/10 + 3/10, -ahat_vy/2 - sqrt(3 - 15*ahat_vy**2)/10 + sqrt(3)/10, sqrt(3)*ahat_vy/2 - 3*sqrt(1 - 5*ahat_vy**2)/10 + 3/10, -ahat_vy/2 + sqrt(3)*sqrt(1 - 5*ahat_vy**2)/10 - sqrt(3)/10)}"
      ]
     },
     "execution_count": 2,
     "metadata": {},
     "output_type": "execute_result"
    }
   ],
   "source": [
    "# Find an analytic solution to the problem (simpler that notebook \"b\")\n",
    "\n",
    "from sympy import symbols, Eq, nonlinsolve, sin, cos, pi, S\n",
    "a_vx, a_vy, a_m, ahat_vx, ahat_vy =  symbols(\"a_vx, a_vy, a_m, ahat_vx, ahat_vy\")\n",
    "b_vx, b_vy, b_m, bhat_vx, bhat_vy =  symbols(\"b_vx, b_vy, b_m, bhat_vx, bhat_vy\")\n",
    "c_vx, c_vy, c_m, chat_vx, chat_vy =  symbols(\"c_vx, c_vy, c_m, chat_vx, chat_vy\")\n",
    "\n",
    "# conservation of energy\n",
    "a_m, b_m, c_m = 1, 1, 1\n",
    "a_vx, b_vx, c_vx = 1, 0, 0\n",
    "a_vy, b_vy, c_vy = S(0), S(0), S(0)\n",
    "energy_before = a_m * (a_vx**2 + a_vy**2) / 2 + b_m * (b_vx**2 + b_vy**2) / 2 + c_m * (c_vx**2 + c_vy**2) / 2\n",
    "energy_after = a_m * (ahat_vx**2 + ahat_vy**2) / 2 + b_m * (bhat_vx**2 + bhat_vy**2) / 2 + c_m * (chat_vx**2 + chat_vy**2) / 2\n",
    "eq1 = Eq(energy_before*2, energy_after*2)\n",
    "# conservation of momentum\n",
    "eq2 = Eq(a_m * a_vx + b_m * b_vx + c_m * c_vx, a_m * ahat_vx + b_m * bhat_vx + c_m * chat_vx)\n",
    "eq3 = Eq(a_m * a_vy + b_m * b_vy + c_m * c_vy, a_m * ahat_vy + b_m * bhat_vy + c_m * chat_vy)\n",
    "\n",
    "# always 30 degrees up or down\n",
    "eq4 = Eq(bhat_vx / cos(pi/6), bhat_vy / sin(pi/6))\n",
    "eq5 = Eq(chat_vx / cos(-pi/6), chat_vy / sin(-pi/6))\n",
    "\n",
    "minipool = nonlinsolve([eq1, eq2, eq3, eq4, eq5], [ahat_vx, bhat_vx, bhat_vy, chat_vx, chat_vy])\n",
    "minipool"
   ]
  },
  {
   "cell_type": "code",
   "execution_count": 3,
   "metadata": {},
   "outputs": [
    {
     "name": "stdout",
     "output_type": "stream",
     "text": [
      "[2/5 - 3*sqrt(1 - 5*y**2)/5, 3*sqrt(1 - 5*y**2)/5 + 2/5]\n"
     ]
    },
    {
     "data": {
      "text/latex": [
       "$\\displaystyle \\frac{2}{5} - \\frac{3 \\sqrt{1 - 5 y^{2}}}{5}$"
      ],
      "text/plain": [
       "2/5 - 3*sqrt(1 - 5*y**2)/5"
      ]
     },
     "execution_count": 3,
     "metadata": {},
     "output_type": "execute_result"
    }
   ],
   "source": [
    "y =  symbols(\"y\", real=True)\n",
    "vxs = [vx.subs(ahat_vy, y) for vx, _, _, _, _ in minipool]\n",
    "print(vxs)\n",
    "vxs[0]"
   ]
  },
  {
   "cell_type": "code",
   "execution_count": 7,
   "metadata": {},
   "outputs": [
    {
     "name": "stdout",
     "output_type": "stream",
     "text": [
      "[-3*sin(atan2(0, 1 - 5*y**2)/2)*sqrt(Abs(5*y**2 - 1))/5, 3*sin(atan2(0, 1 - 5*y**2)/2)*sqrt(Abs(5*y**2 - 1))/5]\n"
     ]
    },
    {
     "data": {
      "text/latex": [
       "$\\displaystyle - \\frac{3 \\sin{\\left(\\frac{\\operatorname{atan}_{2}{\\left(0,1 - 5 y^{2} \\right)}}{2} \\right)} \\sqrt{\\left|{5 y^{2} - 1}\\right|}}{5}$"
      ],
      "text/plain": [
       "-3*sin(atan2(0, 1 - 5*y**2)/2)*sqrt(Abs(5*y**2 - 1))/5"
      ]
     },
     "metadata": {},
     "output_type": "display_data"
    },
    {
     "data": {
      "text/latex": [
       "$\\displaystyle \\frac{3 \\sin{\\left(\\frac{\\operatorname{atan}_{2}{\\left(0,1 - 5 y^{2} \\right)}}{2} \\right)} \\sqrt{\\left|{5 y^{2} - 1}\\right|}}{5}$"
      ],
      "text/plain": [
       "3*sin(atan2(0, 1 - 5*y**2)/2)*sqrt(Abs(5*y**2 - 1))/5"
      ]
     },
     "metadata": {},
     "output_type": "display_data"
    }
   ],
   "source": [
    "import sympy as sp\n",
    "from IPython.display import display\n",
    "\n",
    "vxs_im = [sp.im(vx) for vx in vxs]\n",
    "print(vxs_im)\n",
    "display(vxs_im[0],vxs_im[1])"
   ]
  },
  {
   "cell_type": "code",
   "execution_count": 8,
   "metadata": {},
   "outputs": [],
   "source": [
    "def flat2(list_of_lists):\n",
    "    return list(set(element for sublist in list_of_lists for element in sublist))"
   ]
  },
  {
   "cell_type": "code",
   "execution_count": 9,
   "metadata": {},
   "outputs": [
    {
     "name": "stdout",
     "output_type": "stream",
     "text": [
      "[sqrt(5)/5, -sqrt(5)/5]\n"
     ]
    },
    {
     "data": {
      "text/latex": [
       "$\\displaystyle \\frac{\\sqrt{5}}{5}$"
      ],
      "text/plain": [
       "sqrt(5)/5"
      ]
     },
     "execution_count": 9,
     "metadata": {},
     "output_type": "execute_result"
    }
   ],
   "source": [
    "y_ex = flat2([sp.solve(vx_im, y) for vx_im in vxs_im])\n",
    "print(y_ex)\n",
    "y_ex[0]"
   ]
  },
  {
   "cell_type": "code",
   "execution_count": 10,
   "metadata": {},
   "outputs": [
    {
     "name": "stdout",
     "output_type": "stream",
     "text": [
      "[-sqrt(-5*x**2 + 4*x + 1)/3, sqrt(-5*x**2 + 4*x + 1)/3]\n"
     ]
    },
    {
     "data": {
      "text/latex": [
       "$\\displaystyle - \\frac{\\sqrt{- 5 x^{2} + 4 x + 1}}{3}$"
      ],
      "text/plain": [
       "-sqrt(-5*x**2 + 4*x + 1)/3"
      ]
     },
     "execution_count": 10,
     "metadata": {},
     "output_type": "execute_result"
    }
   ],
   "source": [
    "x =  symbols(\"x\", real=True)\n",
    "vys = [sp.solve(Eq(vx, ahat_vx), ahat_vy) for vx, _, _, _, _ in minipool]\n",
    "vys = [vy.subs(ahat_vx, x) for vy in flat2(vys)]\n",
    "print(vys)\n",
    "vys[0]"
   ]
  },
  {
   "cell_type": "code",
   "execution_count": 11,
   "metadata": {},
   "outputs": [
    {
     "name": "stdout",
     "output_type": "stream",
     "text": [
      "[-sin(atan2(0, -5*x**2 + 4*x + 1)/2)*sqrt(Abs(-5*x**2 + 4*x + 1))/3, sin(atan2(0, -5*x**2 + 4*x + 1)/2)*sqrt(Abs(-5*x**2 + 4*x + 1))/3]\n"
     ]
    },
    {
     "data": {
      "text/latex": [
       "$\\displaystyle - \\frac{\\sin{\\left(\\frac{\\operatorname{atan}_{2}{\\left(0,- 5 x^{2} + 4 x + 1 \\right)}}{2} \\right)} \\sqrt{\\left|{- 5 x^{2} + 4 x + 1}\\right|}}{3}$"
      ],
      "text/plain": [
       "-sin(atan2(0, -5*x**2 + 4*x + 1)/2)*sqrt(Abs(-5*x**2 + 4*x + 1))/3"
      ]
     },
     "execution_count": 11,
     "metadata": {},
     "output_type": "execute_result"
    }
   ],
   "source": [
    "vys_im = [sp.im(vy) for vy in vys]\n",
    "print(vys_im)\n",
    "vys_im[0]"
   ]
  },
  {
   "cell_type": "code",
   "execution_count": 12,
   "metadata": {},
   "outputs": [
    {
     "name": "stdout",
     "output_type": "stream",
     "text": [
      "[1, -1/5]\n"
     ]
    },
    {
     "data": {
      "text/latex": [
       "$\\displaystyle 1$"
      ],
      "text/plain": [
       "1"
      ]
     },
     "execution_count": 12,
     "metadata": {},
     "output_type": "execute_result"
    }
   ],
   "source": [
    "x_ex = flat2([sp.solve(vy_im, x) for vy_im in vys_im])\n",
    "print(x_ex)\n",
    "x_ex[0]"
   ]
  },
  {
   "cell_type": "code",
   "execution_count": 13,
   "metadata": {},
   "outputs": [
    {
     "data": {
      "text/plain": [
       "[-sqrt(-5*x**2 + 4*x + 1)/3, sqrt(-5*x**2 + 4*x + 1)/3]"
      ]
     },
     "execution_count": 13,
     "metadata": {},
     "output_type": "execute_result"
    }
   ],
   "source": [
    "vys"
   ]
  },
  {
   "cell_type": "code",
   "execution_count": 16,
   "metadata": {},
   "outputs": [
    {
     "name": "stdout",
     "output_type": "stream",
     "text": [
      "2/5 0 3/5 sqrt(5)/5\n",
      "Eq(5*ahat_vy**2 + 25*(ahat_vx - 2/5)**2/9, 1)\n"
     ]
    },
    {
     "data": {
      "text/latex": [
       "$\\displaystyle 5 \\hat{a}_{vy}^{2} + \\frac{25 \\left(\\hat{a}_{vx} - \\frac{2}{5}\\right)^{2}}{9} = 1$"
      ],
      "text/plain": [
       "Eq(5*ahat_vy**2 + 25*(ahat_vx - 2/5)**2/9, 1)"
      ]
     },
     "metadata": {},
     "output_type": "display_data"
    },
    {
     "name": "stdout",
     "output_type": "stream",
     "text": [
      "5 \\hat{a}_{vy}^{2} + \\frac{25 \\left(\\hat{a}_{vx} - \\frac{2}{5}\\right)^{2}}{9} = 1\n"
     ]
    }
   ],
   "source": [
    "h = (x_ex[0]+x_ex[1])/2\n",
    "k = (y_ex[0]+y_ex[1])/2\n",
    "a = abs(x_ex[0]-x_ex[1])/2\n",
    "b = abs(y_ex[0]-y_ex[1])/2\n",
    "print(h, k, a, b)\n",
    "ellipse_eq = sp.Eq(((x - h)**2 / a**2) + ((y - k)**2 / b**2), 1)\n",
    "ellipse_eq_hat = sp.Eq(ellipse_eq.lhs.subs(y,ahat_vy).subs(x,ahat_vx),1)\n",
    "print(ellipse_eq_hat)\n",
    "display(ellipse_eq_hat)\n",
    "print(sp.latex(ellipse_eq_hat))"
   ]
  },
  {
   "cell_type": "code",
   "execution_count": 75,
   "metadata": {},
   "outputs": [
    {
     "data": {
      "text/latex": [
       "$\\displaystyle \\text{True}$"
      ],
      "text/plain": [
       "True"
      ]
     },
     "execution_count": 75,
     "metadata": {},
     "output_type": "execute_result"
    }
   ],
   "source": [
    "((sp.simplify(Eq(sp.solve(ellipse_eq,y)[0], vys[0]))\n",
    "and sp.simplify(Eq(sp.solve(ellipse_eq,y)[1], vys[1])))\n",
    "or\n",
    "(sp.simplify(Eq(sp.solve(ellipse_eq,y)[0], vys[1]))\n",
    "and sp.simplify(Eq(sp.solve(ellipse_eq,y)[1], vys[0]))))"
   ]
  },
  {
   "cell_type": "code",
   "execution_count": 76,
   "metadata": {},
   "outputs": [
    {
     "data": {
      "image/png": "[encoded data removed]",
      "text/plain": [
       "<Figure size 640x480 with 1 Axes>"
      ]
     },
     "metadata": {},
     "output_type": "display_data"
    }
   ],
   "source": [
    "import numpy as np\n",
    "import matplotlib.pyplot as plt\n",
    "\n",
    "# Create an array of values for the parameter t\n",
    "t = np.linspace(0, 2 * np.pi, 1000)\n",
    "\n",
    "# Calculate the x and y coordinates using the parametric equations\n",
    "# Plot the ellipse\n",
    "plt.plot(h + a * np.cos(t), k + b * np.sin(t))\n",
    "\n",
    "# Customize the plot (optional)\n",
    "plt.gca().set_aspect('equal', adjustable='box')  # Set equal aspect ratio\n",
    "\n",
    "# Display the plot\n",
    "plt.show()\n"
   ]
  },
  {
   "cell_type": "code",
   "execution_count": null,
   "metadata": {},
   "outputs": [],
   "source": []
  }
 ],
 "metadata": {
  "kernelspec": {
   "display_name": "Python 3",
   "language": "python",
   "name": "python3"
  },
  "language_info": {
   "codemirror_mode": {
    "name": "ipython",
    "version": 3
   },
   "file_extension": ".py",
   "mimetype": "text/x-python",
   "name": "python",
   "nbconvert_exporter": "python",
   "pygments_lexer": "ipython3",
   "version": "3.9.16"
  },
  "orig_nbformat": 4
 },
 "nbformat": 4,
 "nbformat_minor": 2
}
