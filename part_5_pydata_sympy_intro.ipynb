{
 "cells": [
  {
   "cell_type": "code",
   "execution_count": 3,
   "metadata": {},
   "outputs": [
    {
     "name": "stdout",
     "output_type": "stream",
     "text": [
      "2\n"
     ]
    },
    {
     "data": {
      "text/latex": [
       "$\\displaystyle \\frac{- a_{vx} a_{x} + a_{vx} b_{x} - a_{vy} a_{y} + a_{vy} b_{y} + a_{x} b_{vx} + a_{y} b_{vy} - b_{vx} b_{x} - b_{vy} b_{y} + \\sqrt{a_{r}^{2} a_{vx}^{2} - 2 a_{r}^{2} a_{vx} b_{vx} + a_{r}^{2} a_{vy}^{2} - 2 a_{r}^{2} a_{vy} b_{vy} + a_{r}^{2} b_{vx}^{2} + a_{r}^{2} b_{vy}^{2} + 2 a_{r} a_{vx}^{2} b_{r} - 4 a_{r} a_{vx} b_{r} b_{vx} + 2 a_{r} a_{vy}^{2} b_{r} - 4 a_{r} a_{vy} b_{r} b_{vy} + 2 a_{r} b_{r} b_{vx}^{2} + 2 a_{r} b_{r} b_{vy}^{2} - a_{vx}^{2} a_{y}^{2} + 2 a_{vx}^{2} a_{y} b_{y} + a_{vx}^{2} b_{r}^{2} - a_{vx}^{2} b_{y}^{2} + 2 a_{vx} a_{vy} a_{x} a_{y} - 2 a_{vx} a_{vy} a_{x} b_{y} - 2 a_{vx} a_{vy} a_{y} b_{x} + 2 a_{vx} a_{vy} b_{x} b_{y} - 2 a_{vx} a_{x} a_{y} b_{vy} + 2 a_{vx} a_{x} b_{vy} b_{y} + 2 a_{vx} a_{y}^{2} b_{vx} - 4 a_{vx} a_{y} b_{vx} b_{y} + 2 a_{vx} a_{y} b_{vy} b_{x} - 2 a_{vx} b_{r}^{2} b_{vx} + 2 a_{vx} b_{vx} b_{y}^{2} - 2 a_{vx} b_{vy} b_{x} b_{y} - a_{vy}^{2} a_{x}^{2} + 2 a_{vy}^{2} a_{x} b_{x} + a_{vy}^{2} b_{r}^{2} - a_{vy}^{2} b_{x}^{2} + 2 a_{vy} a_{x}^{2} b_{vy} - 2 a_{vy} a_{x} a_{y} b_{vx} + 2 a_{vy} a_{x} b_{vx} b_{y} - 4 a_{vy} a_{x} b_{vy} b_{x} + 2 a_{vy} a_{y} b_{vx} b_{x} - 2 a_{vy} b_{r}^{2} b_{vy} - 2 a_{vy} b_{vx} b_{x} b_{y} + 2 a_{vy} b_{vy} b_{x}^{2} - a_{x}^{2} b_{vy}^{2} + 2 a_{x} a_{y} b_{vx} b_{vy} - 2 a_{x} b_{vx} b_{vy} b_{y} + 2 a_{x} b_{vy}^{2} b_{x} - a_{y}^{2} b_{vx}^{2} + 2 a_{y} b_{vx}^{2} b_{y} - 2 a_{y} b_{vx} b_{vy} b_{x} + b_{r}^{2} b_{vx}^{2} + b_{r}^{2} b_{vy}^{2} - b_{vx}^{2} b_{y}^{2} + 2 b_{vx} b_{vy} b_{x} b_{y} - b_{vy}^{2} b_{x}^{2}}}{a_{vx}^{2} - 2 a_{vx} b_{vx} + a_{vy}^{2} - 2 a_{vy} b_{vy} + b_{vx}^{2} + b_{vy}^{2}}$"
      ],
      "text/plain": [
       "(-a_vx*a_x + a_vx*b_x - a_vy*a_y + a_vy*b_y + a_x*b_vx + a_y*b_vy - b_vx*b_x - b_vy*b_y + sqrt(a_r**2*a_vx**2 - 2*a_r**2*a_vx*b_vx + a_r**2*a_vy**2 - 2*a_r**2*a_vy*b_vy + a_r**2*b_vx**2 + a_r**2*b_vy**2 + 2*a_r*a_vx**2*b_r - 4*a_r*a_vx*b_r*b_vx + 2*a_r*a_vy**2*b_r - 4*a_r*a_vy*b_r*b_vy + 2*a_r*b_r*b_vx**2 + 2*a_r*b_r*b_vy**2 - a_vx**2*a_y**2 + 2*a_vx**2*a_y*b_y + a_vx**2*b_r**2 - a_vx**2*b_y**2 + 2*a_vx*a_vy*a_x*a_y - 2*a_vx*a_vy*a_x*b_y - 2*a_vx*a_vy*a_y*b_x + 2*a_vx*a_vy*b_x*b_y - 2*a_vx*a_x*a_y*b_vy + 2*a_vx*a_x*b_vy*b_y + 2*a_vx*a_y**2*b_vx - 4*a_vx*a_y*b_vx*b_y + 2*a_vx*a_y*b_vy*b_x - 2*a_vx*b_r**2*b_vx + 2*a_vx*b_vx*b_y**2 - 2*a_vx*b_vy*b_x*b_y - a_vy**2*a_x**2 + 2*a_vy**2*a_x*b_x + a_vy**2*b_r**2 - a_vy**2*b_x**2 + 2*a_vy*a_x**2*b_vy - 2*a_vy*a_x*a_y*b_vx + 2*a_vy*a_x*b_vx*b_y - 4*a_vy*a_x*b_vy*b_x + 2*a_vy*a_y*b_vx*b_x - 2*a_vy*b_r**2*b_vy - 2*a_vy*b_vx*b_x*b_y + 2*a_vy*b_vy*b_x**2 - a_x**2*b_vy**2 + 2*a_x*a_y*b_vx*b_vy - 2*a_x*b_vx*b_vy*b_y + 2*a_x*b_vy**2*b_x - a_y**2*b_vx**2 + 2*a_y*b_vx**2*b_y - 2*a_y*b_vx*b_vy*b_x + b_r**2*b_vx**2 + b_r**2*b_vy**2 - b_vx**2*b_y**2 + 2*b_vx*b_vy*b_x*b_y - b_vy**2*b_x**2))/(a_vx**2 - 2*a_vx*b_vx + a_vy**2 - 2*a_vy*b_vy + b_vx**2 + b_vy**2)"
      ]
     },
     "execution_count": 3,
     "metadata": {},
     "output_type": "execute_result"
    }
   ],
   "source": [
    "from sympy import symbols, Eq, nonlinsolve\n",
    "\n",
    "# define symbols\n",
    "t = symbols(\"t\")\n",
    "a_x, a_y, a_vx, a_vy, a_r, aprime_x, aprime_y = symbols(\n",
    "    \"a_x, a_y, a_vx, a_vy, a_r, a'_x, a'_y\"\n",
    ")\n",
    "b_x, b_y, b_vx, b_vy, b_r, bprime_x, bprime_y = symbols(\n",
    "    \"b_x, b_y, b_vx, b_vy, b_r, b'_x, b'_y\"\n",
    ")\n",
    "\n",
    "# define equations\n",
    "eq1 = Eq(aprime_x, a_x + a_vx * t)\n",
    "eq2 = Eq(aprime_y, a_y + a_vy * t)\n",
    "eq3 = Eq(bprime_x, b_x + b_vx * t)\n",
    "eq4 = Eq(bprime_y, b_y + b_vy * t)\n",
    "eq5 = Eq((aprime_x - bprime_x) ** 2 + (aprime_y - bprime_y) ** 2, (a_r + b_r) ** 2)\n",
    "\n",
    "\n",
    "# solve for t and aprime_x, aprime_y, bprime_x, bprime_y\n",
    "circle_circle_all = nonlinsolve(\n",
    "    [eq1, eq2, eq3, eq4, eq5], t, aprime_x, aprime_y, bprime_x, bprime_y\n",
    ")\n",
    "t_formulas = [t_formula for t_formula, _, _, _, _ in circle_circle_all]\n",
    "\n",
    "# how many solutions? What's the first time formula?\n",
    "print(len(t_formulas))\n",
    "t_formulas[0]"
   ]
  },
  {
   "cell_type": "code",
   "execution_count": 13,
   "metadata": {},
   "outputs": [
    {
     "data": {
      "text/latex": [
       "$\\displaystyle \\sqrt{3} + \\frac{13}{6}$"
      ],
      "text/plain": [
       "sqrt(3) + 13/6"
      ]
     },
     "metadata": {},
     "output_type": "display_data"
    },
    {
     "name": "stdout",
     "output_type": "stream",
     "text": [
      "Which is approximately 3.90\n"
     ]
    },
    {
     "data": {
      "text/latex": [
       "$\\displaystyle \\frac{13}{6} - \\sqrt{3}$"
      ],
      "text/plain": [
       "13/6 - sqrt(3)"
      ]
     },
     "metadata": {},
     "output_type": "display_data"
    },
    {
     "name": "stdout",
     "output_type": "stream",
     "text": [
      "Which is approximately 0.43\n"
     ]
    }
   ],
   "source": [
    "from sympy import S\n",
    "\n",
    "# for each time formula, substitute in the values and display the result\n",
    "for t_formula in t_formulas:\n",
    "    time = t_formula.subs(\n",
    "        { \n",
    "          # set initial position, velocity, and radius of two circles, a and b\n",
    "            a_x: S(-2) / 3, # exactly -2/3, not .6666666667\n",
    "            a_y: 0,\n",
    "            a_vx: 1,\n",
    "            a_vy: 0,\n",
    "            a_r: 1,\n",
    "            b_x: S(3) / 2,\n",
    "            b_y: 1,\n",
    "            b_vx: 0,\n",
    "            b_vy: 0,\n",
    "            b_r: 1,\n",
    "        }\n",
    "    )\n",
    "    display(time)\n",
    "    print(f\"Which is approximately {time:.2f}\")"
   ]
  },
  {
   "cell_type": "code",
   "execution_count": null,
   "metadata": {},
   "outputs": [],
   "source": []
  }
 ],
 "metadata": {
  "kernelspec": {
   "display_name": "Python 3",
   "language": "python",
   "name": "python3"
  },
  "language_info": {
   "codemirror_mode": {
    "name": "ipython",
    "version": 3
   },
   "file_extension": ".py",
   "mimetype": "text/x-python",
   "name": "python",
   "nbconvert_exporter": "python",
   "pygments_lexer": "ipython3",
   "version": "3.9.16"
  },
  "orig_nbformat": 4
 },
 "nbformat": 4,
 "nbformat_minor": 2
}
