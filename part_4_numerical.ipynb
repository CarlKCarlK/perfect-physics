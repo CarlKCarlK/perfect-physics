{
 "cells": [
  {
   "cell_type": "code",
   "execution_count": 4,
   "metadata": {},
   "outputs": [
    {
     "data": {
      "text/plain": [
       "([(temp0, a_vx**2),\n",
       "  (temp1, a_vy**2),\n",
       "  (temp2, b_vx**2),\n",
       "  (temp3, b_vy**2),\n",
       "  (temp4, a_vx*b_vx),\n",
       "  (temp5, 2*temp4),\n",
       "  (temp6, a_vy*b_vy),\n",
       "  (temp7, 2*temp6),\n",
       "  (temp8, 1/(temp0 + temp1 + temp2 + temp3 - temp5 - temp7)),\n",
       "  (temp9, a_vx*b_x),\n",
       "  (temp10, a_vy*b_y),\n",
       "  (temp11, a_x*b_vx),\n",
       "  (temp12, a_y*b_vy),\n",
       "  (temp13, a_vx*a_x),\n",
       "  (temp14, a_vy*a_y),\n",
       "  (temp15, b_vx*b_x),\n",
       "  (temp16, b_vy*b_y),\n",
       "  (temp17, a_r*b_r),\n",
       "  (temp18, 4*temp17),\n",
       "  (temp19, 2*temp13),\n",
       "  (temp20, 2*temp9),\n",
       "  (temp21, a_y*b_y),\n",
       "  (temp22, 2*temp11),\n",
       "  (temp23, a_x*b_x),\n",
       "  (temp24, 2*temp15),\n",
       "  (temp25, a_r**2),\n",
       "  (temp26, b_r**2),\n",
       "  (temp27, 2*temp0),\n",
       "  (temp28, 2*temp17),\n",
       "  (temp29, a_y**2),\n",
       "  (temp30, b_y**2),\n",
       "  (temp31, a_x**2),\n",
       "  (temp32, b_x**2),\n",
       "  (temp33, 2*temp23),\n",
       "  (temp34,\n",
       "   sqrt(temp0*temp25 + temp0*temp26 - temp0*temp29 - temp0*temp30 + temp1*temp25 + temp1*temp26 + temp1*temp28 - temp1*temp31 - temp1*temp32 + temp1*temp33 - temp10*temp19 + temp10*temp20 + temp10*temp22 - temp10*temp24 - temp12*temp19 + temp12*temp20 + temp12*temp22 - temp12*temp24 + temp14*temp19 - temp14*temp20 - temp14*temp22 + temp14*temp24 + temp16*temp19 - temp16*temp20 - temp16*temp22 + temp16*temp24 + temp17*temp27 - temp18*temp4 - temp18*temp6 + 2*temp2*temp21 + temp2*temp25 + temp2*temp26 + temp2*temp28 - temp2*temp29 - temp2*temp30 + temp21*temp27 - 4*temp21*temp4 - 4*temp23*temp6 + temp25*temp3 - temp25*temp5 - temp25*temp7 + temp26*temp3 - temp26*temp5 - temp26*temp7 + temp28*temp3 + temp29*temp5 - temp3*temp31 - temp3*temp32 + temp3*temp33 + temp30*temp5 + temp31*temp7 + temp32*temp7))],\n",
       " [temp8*(temp10 + temp11 + temp12 - temp13 - temp14 - temp15 - temp16 + temp34 + temp9),\n",
       "  temp8*(a_vx*b_x + a_vy*b_y + a_x*b_vx + a_y*b_vy - temp13 - temp14 - temp15 - temp16 - temp34)])"
      ]
     },
     "execution_count": 4,
     "metadata": {},
     "output_type": "execute_result"
    }
   ],
   "source": [
    "from sympy import cse, numbered_symbols\n",
    "from perfect_physics import load\n",
    "cc_time_solutions = load(\"cc_time_solutions.sympy\")\n",
    "cse(cc_time_solutions, symbols=numbered_symbols(\"temp\"))"
   ]
  },
  {
   "cell_type": "code",
   "execution_count": 9,
   "metadata": {},
   "outputs": [
    {
     "data": {
      "text/plain": [
       "[temp8*(temp10 + temp11 + temp12 - temp13 - temp14 - temp15 - temp16 + temp34 + temp9),\n",
       " temp8*(a_vx*b_x + a_vy*b_y + a_x*b_vx + a_y*b_vy - temp13 - temp14 - temp15 - temp16 - temp34)]"
      ]
     },
     "execution_count": 9,
     "metadata": {},
     "output_type": "execute_result"
    }
   ],
   "source": [
    "steps = cse(cc_time_solutions, symbols=numbered_symbols(\"temp\"))\n",
    "steps[1]"
   ]
  },
  {
   "cell_type": "code",
   "execution_count": 1,
   "metadata": {},
   "outputs": [
    {
     "data": {
      "text/plain": [
       "array([[1, 0, 0, 0, 0, 0],\n",
       "       [0, 0, 0, 0, 0, 0],\n",
       "       [0, 0, 0, 0, 0, 0],\n",
       "       [0, 0, 0, 0, 0, 0],\n",
       "       [0, 0, 0, 0, 0, 0],\n",
       "       [0, 0, 0, 0, 0, 0]])"
      ]
     },
     "execution_count": 1,
     "metadata": {},
     "output_type": "execute_result"
    }
   ],
   "source": [
    "import numpy as np\n",
    "\n",
    "vx = np.array([1, 0, 0, 0, 0, 0])\n",
    "vy = np.array([0, 0, 0, 0, 0, 0])\n",
    "x0 = vx**2 # this covers x2\n",
    "x1 = vy**2 # this covers x3\n",
    "x4 = np.outer(vx, vx)\n",
    "x4"
   ]
  },
  {
   "cell_type": "code",
   "execution_count": null,
   "metadata": {},
   "outputs": [],
   "source": []
  }
 ],
 "metadata": {
  "kernelspec": {
   "display_name": "Python 3.9.13 ('physics')",
   "language": "python",
   "name": "python3"
  },
  "language_info": {
   "codemirror_mode": {
    "name": "ipython",
    "version": 3
   },
   "file_extension": ".py",
   "mimetype": "text/x-python",
   "name": "python",
   "nbconvert_exporter": "python",
   "pygments_lexer": "ipython3",
   "version": "3.9.13"
  },
  "orig_nbformat": 4,
  "vscode": {
   "interpreter": {
    "hash": "de2c5f912e9a0618d7fb158eff1215fc01b4f796ca47df964c24240a61c494b2"
   }
  }
 },
 "nbformat": 4,
 "nbformat_minor": 2
}
